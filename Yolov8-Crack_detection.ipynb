{
 "cells": [
  {
   "cell_type": "markdown",
   "id": "4c60e7e2-c73a-4537-9ee6-b9a464ca55ff",
   "metadata": {},
   "source": [
    "## Yolov8\n",
    "\n",
    "### Models:\n",
    "### train, val, predict\n",
    "\n",
    "# Tasks:\n",
    "## detect, segment, classify\n",
    "\n",
    "## data\n",
    "Format can differ for task type. Supports data.yaml, data_folder, dataset_name\n",
    "\n"
   ]
  },
  {
   "cell_type": "code",
   "execution_count": 18,
   "id": "3cc57f48-02fc-4df2-9f12-a6d1b94ef67e",
   "metadata": {},
   "outputs": [
    {
     "name": "stdout",
     "output_type": "stream",
     "text": [
      "Ultralytics YOLOv8.1.18 ðŸš€ Python-3.11.4 torch-2.2.1+cpu CPU (Intel Core(TM) i7-8665U 1.90GHz)\n",
      "YOLOv8n summary (fused): 168 layers, 3151904 parameters, 0 gradients, 8.7 GFLOPs\n",
      "\n",
      "image 1/1 E:\\crack_detection_yolov8\\train\\images\\CFD_002_jpg.rf.f3f1e5120a87820f0ea1caac122abbf4.jpg: 640x640 (no detections), 135.3ms\n",
      "Speed: 1.0ms preprocess, 135.3ms inference, 0.0ms postprocess per image at shape (1, 3, 640, 640)\n",
      "Results saved to \u001b[1mruns\\detect\\predict\u001b[0m\n",
      "ðŸ’¡ Learn more at https://docs.ultralytics.com/modes/predict\n"
     ]
    }
   ],
   "source": [
    "!yolo task = detect mode = predict model = yolov8n.pt source = \"E:/crack_detection_yolov8/train/images/CFD_002_jpg.rf.f3f1e5120a87820f0ea1caac122abbf4.jpg\""
   ]
  },
  {
   "cell_type": "code",
   "execution_count": null,
   "id": "e2011dbe-9ab0-4723-ae34-0c068730c635",
   "metadata": {},
   "outputs": [],
   "source": [
    "from ultralytics import YOLO\n",
    "\n",
    "model = YOLO('Yolov8n-seg.pt')\n",
    "model.predict(source = \"E:/crack_detection_yolov8/train/images/CFD_002_jpg.rf.f3f1e5120a87820f0ea1caac122abbf4.jpg\")"
   ]
  },
  {
   "cell_type": "code",
   "execution_count": null,
   "id": "916b3db2-3b50-401f-b0d1-fb6a0186994b",
   "metadata": {},
   "outputs": [],
   "source": [
    "from ultralytics import YOLO\n",
    "\n",
    "model = YOLO('Yolov8n-seg.pt')\n",
    "model.predict(\"E:/crack_detection_yolov8/train/images/CFD_002_jpg.rf.f3f1e5120a87820f0ea1caac122abbf4.jpg\")"
   ]
  },
  {
   "cell_type": "code",
   "execution_count": 19,
   "id": "652fceff-1e07-401c-81fd-de967cd69f72",
   "metadata": {},
   "outputs": [
    {
     "name": "stdout",
     "output_type": "stream",
     "text": [
      "Ultralytics YOLOv8.1.18 🚀 Python-3.11.4 torch-2.2.1+cpu CPU (Intel Core(TM) i7-8665U 1.90GHz)\n",
      "\u001b[34m\u001b[1mengine\\trainer: \u001b[0mtask=detect, mode=train, model=yolov8n.pt, data=data.yaml, epochs=80, time=None, patience=100, batch=16, imgsz=640, save=True, save_period=-1, cache=False, device=None, workers=8, project=None, name=train, exist_ok=False, pretrained=True, optimizer=auto, verbose=True, seed=0, deterministic=True, single_cls=False, rect=False, cos_lr=False, close_mosaic=10, resume=False, amp=True, fraction=1.0, profile=False, freeze=None, multi_scale=False, overlap_mask=True, mask_ratio=4, dropout=0.0, val=True, split=val, save_json=False, save_hybrid=False, conf=None, iou=0.7, max_det=300, half=False, dnn=False, plots=True, source=None, vid_stride=1, stream_buffer=False, visualize=False, augment=False, agnostic_nms=False, classes=None, retina_masks=False, embed=None, show=False, save_frames=False, save_txt=False, save_conf=False, save_crop=False, show_labels=True, show_conf=True, show_boxes=True, line_width=None, format=torchscript, keras=False, optimize=False, int8=False, dynamic=False, simplify=False, opset=None, workspace=4, nms=False, lr0=0.01, lrf=0.01, momentum=0.937, weight_decay=0.0005, warmup_epochs=3.0, warmup_momentum=0.8, warmup_bias_lr=0.1, box=7.5, cls=0.5, dfl=1.5, pose=12.0, kobj=1.0, label_smoothing=0.0, nbs=64, hsv_h=0.015, hsv_s=0.7, hsv_v=0.4, degrees=0.0, translate=0.1, scale=0.5, shear=0.0, perspective=0.0, flipud=0.0, fliplr=0.5, mosaic=1.0, mixup=0.0, copy_paste=0.0, auto_augment=randaugment, erasing=0.4, crop_fraction=1.0, cfg=None, tracker=botsort.yaml, save_dir=runs\\detect\\train\n",
      "Overriding model.yaml nc=80 with nc=1\n",
      "\n",
      "                   from  n    params  module                                       arguments                     \n",
      "  0                  -1  1       464  ultralytics.nn.modules.conv.Conv             [3, 16, 3, 2]                 \n",
      "  1                  -1  1      4672  ultralytics.nn.modules.conv.Conv             [16, 32, 3, 2]                \n",
      "  2                  -1  1      7360  ultralytics.nn.modules.block.C2f             [32, 32, 1, True]             \n",
      "  3                  -1  1     18560  ultralytics.nn.modules.conv.Conv             [32, 64, 3, 2]                \n",
      "  4                  -1  2     49664  ultralytics.nn.modules.block.C2f             [64, 64, 2, True]             \n",
      "  5                  -1  1     73984  ultralytics.nn.modules.conv.Conv             [64, 128, 3, 2]               \n",
      "  6                  -1  2    197632  ultralytics.nn.modules.block.C2f             [128, 128, 2, True]           \n",
      "  7                  -1  1    295424  ultralytics.nn.modules.conv.Conv             [128, 256, 3, 2]              \n",
      "  8                  -1  1    460288  ultralytics.nn.modules.block.C2f             [256, 256, 1, True]           \n",
      "  9                  -1  1    164608  ultralytics.nn.modules.block.SPPF            [256, 256, 5]                 \n",
      " 10                  -1  1         0  torch.nn.modules.upsampling.Upsample         [None, 2, 'nearest']          \n",
      " 11             [-1, 6]  1         0  ultralytics.nn.modules.conv.Concat           [1]                           \n",
      " 12                  -1  1    148224  ultralytics.nn.modules.block.C2f             [384, 128, 1]                 \n",
      " 13                  -1  1         0  torch.nn.modules.upsampling.Upsample         [None, 2, 'nearest']          \n",
      " 14             [-1, 4]  1         0  ultralytics.nn.modules.conv.Concat           [1]                           \n",
      " 15                  -1  1     37248  ultralytics.nn.modules.block.C2f             [192, 64, 1]                  \n",
      " 16                  -1  1     36992  ultralytics.nn.modules.conv.Conv             [64, 64, 3, 2]                \n",
      " 17            [-1, 12]  1         0  ultralytics.nn.modules.conv.Concat           [1]                           \n",
      " 18                  -1  1    123648  ultralytics.nn.modules.block.C2f             [192, 128, 1]                 \n",
      " 19                  -1  1    147712  ultralytics.nn.modules.conv.Conv             [128, 128, 3, 2]              \n",
      " 20             [-1, 9]  1         0  ultralytics.nn.modules.conv.Concat           [1]                           \n",
      " 21                  -1  1    493056  ultralytics.nn.modules.block.C2f             [384, 256, 1]                 \n",
      " 22        [15, 18, 21]  1    751507  ultralytics.nn.modules.head.Detect           [1, [64, 128, 256]]           \n",
      "Model summary: 225 layers, 3011043 parameters, 3011027 gradients, 8.2 GFLOPs\n",
      "\n",
      "Transferred 319/355 items from pretrained weights\n",
      "Freezing layer 'model.22.dfl.conv.weight'\n"
     ]
    },
    {
     "name": "stderr",
     "output_type": "stream",
     "text": [
      "\u001b[34m\u001b[1mtrain: \u001b[0mScanning E:\\crack_detection_yolov8\\train\\labels.cache... 133 images, 0 backgrounds, 41 corrupt: 100%|██████████|\u001b[0m"
     ]
    },
    {
     "name": "stdout",
     "output_type": "stream",
     "text": [
      "\u001b[34m\u001b[1mtrain: \u001b[0mWARNING ⚠️ E:\\crack_detection_yolov8\\train\\images\\CFD_002_jpg.rf.f3f1e5120a87820f0ea1caac122abbf4.jpg: ignoring corrupt image/label: non-normalized or out of bounds coordinates [     1.0725]\n",
      "\u001b[34m\u001b[1mtrain: \u001b[0mWARNING ⚠️ E:\\crack_detection_yolov8\\train\\images\\CFD_012_jpg.rf.bd3418a08c4ea95eeffb98f509491685.jpg: ignoring corrupt image/label: non-normalized or out of bounds coordinates [     1.0824]\n",
      "\u001b[34m\u001b[1mtrain: \u001b[0mWARNING ⚠️ E:\\crack_detection_yolov8\\train\\images\\CFD_022_jpg.rf.615d97de2af1644518830985a132d7f1.jpg: ignoring corrupt image/label: non-normalized or out of bounds coordinates [     1.2241      1.2214]\n",
      "\u001b[34m\u001b[1mtrain: \u001b[0mWARNING ⚠️ E:\\crack_detection_yolov8\\train\\images\\CFD_023_jpg.rf.e007bca065c87f7d40565c851f31907f.jpg: ignoring corrupt image/label: non-normalized or out of bounds coordinates [     1.1418]\n",
      "\u001b[34m\u001b[1mtrain: \u001b[0mWARNING ⚠️ E:\\crack_detection_yolov8\\train\\images\\CFD_034_jpg.rf.6a8ad693038d0d8f6a52eaa26e099c0f.jpg: ignoring corrupt image/label: non-normalized or out of bounds coordinates [     1.0181]\n",
      "\u001b[34m\u001b[1mtrain: \u001b[0mWARNING ⚠️ E:\\crack_detection_yolov8\\train\\images\\CFD_035_jpg.rf.67b0daa0ae44ea2bb90895b6ce8816d7.jpg: ignoring corrupt image/label: non-normalized or out of bounds coordinates [     1.0123]\n",
      "\u001b[34m\u001b[1mtrain: \u001b[0mWARNING ⚠️ E:\\crack_detection_yolov8\\train\\images\\CFD_036_jpg.rf.6a7d0cdbd8fcc01c47f2711e2689e9a4.jpg: ignoring corrupt image/label: non-normalized or out of bounds coordinates [     1.0244      1.0101]\n",
      "\u001b[34m\u001b[1mtrain: \u001b[0mWARNING ⚠️ E:\\crack_detection_yolov8\\train\\images\\CFD_045_jpg.rf.40fd85bf7a89a0e8962206a48596293b.jpg: ignoring corrupt image/label: non-normalized or out of bounds coordinates [     1.1414]\n",
      "\u001b[34m\u001b[1mtrain: \u001b[0mWARNING ⚠️ E:\\crack_detection_yolov8\\train\\images\\CFD_053_jpg.rf.002a65afe894a93e099dac0189d392eb.jpg: ignoring corrupt image/label: non-normalized or out of bounds coordinates [     1.0091]\n",
      "\u001b[34m\u001b[1mtrain: \u001b[0mWARNING ⚠️ E:\\crack_detection_yolov8\\train\\images\\CFD_054_jpg.rf.adad75a35be0980f0de2581329590d1f.jpg: ignoring corrupt image/label: non-normalized or out of bounds coordinates [     1.0016]\n",
      "\u001b[34m\u001b[1mtrain: \u001b[0mWARNING ⚠️ E:\\crack_detection_yolov8\\train\\images\\CFD_055_jpg.rf.73917dd7565c09148c0e90be09740c4b.jpg: ignoring corrupt image/label: non-normalized or out of bounds coordinates [     1.0011]\n",
      "\u001b[34m\u001b[1mtrain: \u001b[0mWARNING ⚠️ E:\\crack_detection_yolov8\\train\\images\\CFD_065_jpg.rf.55748d49c1674b430d1b2374a1826cab.jpg: ignoring corrupt image/label: non-normalized or out of bounds coordinates [     1.1461      1.1715]\n",
      "\u001b[34m\u001b[1mtrain: \u001b[0mWARNING ⚠️ E:\\crack_detection_yolov8\\train\\images\\CFD_071_jpg.rf.2c56c462821e565bc21fb6eedfb530e7.jpg: ignoring corrupt image/label: non-normalized or out of bounds coordinates [     1.1061]\n",
      "\u001b[34m\u001b[1mtrain: \u001b[0mWARNING ⚠️ E:\\crack_detection_yolov8\\train\\images\\CFD_071_jpg.rf.447519c5221837acdbc41e74813af926.jpg: ignoring corrupt image/label: non-normalized or out of bounds coordinates [     1.0104]\n",
      "\u001b[34m\u001b[1mtrain: \u001b[0mWARNING ⚠️ E:\\crack_detection_yolov8\\train\\images\\CFD_072_jpg.rf.3a0800ff9d03d5ee054b0d57b9107800.jpg: ignoring corrupt image/label: non-normalized or out of bounds coordinates [     1.0363]\n",
      "\u001b[34m\u001b[1mtrain: \u001b[0mWARNING ⚠️ E:\\crack_detection_yolov8\\train\\images\\CFD_074_jpg.rf.a55f26bf8e50d6a30237686808d493b4.jpg: ignoring corrupt image/label: non-normalized or out of bounds coordinates [     1.2081      1.0885]\n",
      "\u001b[34m\u001b[1mtrain: \u001b[0mWARNING ⚠️ E:\\crack_detection_yolov8\\train\\images\\CFD_076_jpg.rf.494a648bd939e5463429406d3e01fb1d.jpg: ignoring corrupt image/label: non-normalized or out of bounds coordinates [     1.1676]\n",
      "\u001b[34m\u001b[1mtrain: \u001b[0mWARNING ⚠️ E:\\crack_detection_yolov8\\train\\images\\CFD_077_jpg.rf.d6720ab4f109882ba577276a51c9e704.jpg: ignoring corrupt image/label: non-normalized or out of bounds coordinates [     1.1581      1.0091]\n",
      "\u001b[34m\u001b[1mtrain: \u001b[0mWARNING ⚠️ E:\\crack_detection_yolov8\\train\\images\\CFD_081_jpg.rf.5bdbca3f501792c387a2cea9d7d36752.jpg: ignoring corrupt image/label: non-normalized or out of bounds coordinates [     1.0435      1.0545]\n",
      "\u001b[34m\u001b[1mtrain: \u001b[0mWARNING ⚠️ E:\\crack_detection_yolov8\\train\\images\\CFD_084_jpg.rf.dd2a64e531bd5bdb76a6ebf2c15c5c92.jpg: ignoring corrupt image/label: non-normalized or out of bounds coordinates [     1.0131]\n",
      "\u001b[34m\u001b[1mtrain: \u001b[0mWARNING ⚠️ E:\\crack_detection_yolov8\\train\\images\\CFD_097_jpg.rf.2c3a2a3301136adeec4f5a3b14565d8d.jpg: ignoring corrupt image/label: non-normalized or out of bounds coordinates [     1.0039        1.03]\n",
      "\u001b[34m\u001b[1mtrain: \u001b[0mWARNING ⚠️ E:\\crack_detection_yolov8\\train\\images\\CFD_102_jpg.rf.8ab4fb6ff36623fe23a43fd45263d25c.jpg: ignoring corrupt image/label: non-normalized or out of bounds coordinates [     1.0761      1.0783]\n",
      "\u001b[34m\u001b[1mtrain: \u001b[0mWARNING ⚠️ E:\\crack_detection_yolov8\\train\\images\\CFD_115_jpg.rf.9dd2b835a52f7e914757c7268a4847db.jpg: ignoring corrupt image/label: non-normalized or out of bounds coordinates [     1.0474]\n",
      "\u001b[34m\u001b[1mtrain: \u001b[0mWARNING ⚠️ E:\\crack_detection_yolov8\\train\\images\\CRACK500_20160222_114759_1281_361_jpg.rf.a312133f101a66a5d0a0892f076c8683.jpg: ignoring corrupt image/label: non-normalized or out of bounds coordinates [     1.0094]\n",
      "\u001b[34m\u001b[1mtrain: \u001b[0mWARNING ⚠️ E:\\crack_detection_yolov8\\train\\images\\CRACK500_20160222_114759_1921_361_jpg.rf.dbfb37ca648c93f6f8ab12372a57e318.jpg: ignoring corrupt image/label: non-normalized or out of bounds coordinates [     1.0087]\n",
      "\u001b[34m\u001b[1mtrain: \u001b[0mWARNING ⚠️ E:\\crack_detection_yolov8\\train\\images\\CRACK500_20160222_163930_1_1081_jpg.rf.c0eff2a80563cf0c7d991d40c7cb8969.jpg: ignoring corrupt image/label: non-normalized or out of bounds coordinates [     1.0028]\n",
      "\u001b[34m\u001b[1mtrain: \u001b[0mWARNING ⚠️ E:\\crack_detection_yolov8\\train\\images\\CRACK500_20160222_163930_1_361_jpg.rf.5ddc2fbbbbb3c9fdb7436bb851efa440.jpg: ignoring corrupt image/label: non-normalized or out of bounds coordinates [     1.1481      1.1473]\n",
      "\u001b[34m\u001b[1mtrain: \u001b[0mWARNING ⚠️ E:\\crack_detection_yolov8\\train\\images\\CRACK500_20160222_163930_1_721_jpg.rf.7b81cd7adcdbca8ab6fd82ffcc435c42.jpg: ignoring corrupt image/label: non-normalized or out of bounds coordinates [     1.0085]\n",
      "\u001b[34m\u001b[1mtrain: \u001b[0mWARNING ⚠️ E:\\crack_detection_yolov8\\train\\images\\CRACK500_20160222_163930_641_361_jpg.rf.8eb3be57dfd64fee26ca4f80c2c82687.jpg: ignoring corrupt image/label: non-normalized or out of bounds coordinates [      1.091]\n",
      "\u001b[34m\u001b[1mtrain: \u001b[0mWARNING ⚠️ E:\\crack_detection_yolov8\\train\\images\\CRACK500_20160222_163940_1_1081_jpg.rf.518a5267aeb072e7b5e03623f2d4053c.jpg: ignoring corrupt image/label: non-normalized or out of bounds coordinates [     1.0406      1.0196]\n",
      "\u001b[34m\u001b[1mtrain: \u001b[0mWARNING ⚠️ E:\\crack_detection_yolov8\\train\\images\\CRACK500_20160222_164000_1281_1_jpg.rf.b9c8ad43944bdc235f1bc019a5e880c0.jpg: ignoring corrupt image/label: non-normalized or out of bounds coordinates [      1.004]\n",
      "\u001b[34m\u001b[1mtrain: \u001b[0mWARNING ⚠️ E:\\crack_detection_yolov8\\train\\images\\CRACK500_20160222_164000_1_721_jpg.rf.37c7e299f04243bc4dcae5d364f245c3.jpg: ignoring corrupt image/label: non-normalized or out of bounds coordinates [     1.0303]\n",
      "\u001b[34m\u001b[1mtrain: \u001b[0mWARNING ⚠️ E:\\crack_detection_yolov8\\train\\images\\CRACK500_20160222_165218_1921_721_jpg.rf.1ca50b59480553f8dc83a75540c53a1c.jpg: ignoring corrupt image/label: non-normalized or out of bounds coordinates [     1.0596]\n",
      "\u001b[34m\u001b[1mtrain: \u001b[0mWARNING ⚠️ E:\\crack_detection_yolov8\\train\\images\\CRACK500_20160222_165909_641_361_jpg.rf.b2d8a7ebdd2ea10cc2d6d5065da482bd.jpg: ignoring corrupt image/label: non-normalized or out of bounds coordinates [     1.1876      1.2202]\n",
      "\u001b[34m\u001b[1mtrain: \u001b[0mWARNING ⚠️ E:\\crack_detection_yolov8\\train\\images\\CRACK500_20160222_165919_1281_1_jpg.rf.2aecb5e3c85411189512b7f32ed44ff7.jpg: ignoring corrupt image/label: non-normalized or out of bounds coordinates [     1.0027]\n",
      "\u001b[34m\u001b[1mtrain: \u001b[0mWARNING ⚠️ E:\\crack_detection_yolov8\\train\\images\\CRACK500_20160222_165951_1281_1081_jpg.rf.0c14757411f51c8d55fbb63bd1ffb324.jpg: ignoring corrupt image/label: non-normalized or out of bounds coordinates [     1.1328]\n",
      "\u001b[34m\u001b[1mtrain: \u001b[0mWARNING ⚠️ E:\\crack_detection_yolov8\\train\\images\\CRACK500_20160225_114514_721_641_jpg.rf.803fcb38f8fad40add60d35787ea5346.jpg: ignoring corrupt image/label: non-normalized or out of bounds coordinates [     1.1205]\n",
      "\u001b[34m\u001b[1mtrain: \u001b[0mWARNING ⚠️ E:\\crack_detection_yolov8\\train\\images\\CRACK500_20160308_160128_641_721_jpg.rf.2608f9a627c53178ea01f521d0fe75f5.jpg: ignoring corrupt image/label: non-normalized or out of bounds coordinates [     1.0164]\n",
      "\u001b[34m\u001b[1mtrain: \u001b[0mWARNING ⚠️ E:\\crack_detection_yolov8\\train\\images\\CRACK500_20160316_144203_1281_721_jpg.rf.fc8b0e830e4e3a15afbaf54e6c2ea5f2.jpg: ignoring corrupt image/label: non-normalized or out of bounds coordinates [     1.2893]\n",
      "\u001b[34m\u001b[1mtrain: \u001b[0mWARNING ⚠️ E:\\crack_detection_yolov8\\train\\images\\CRACK500_20160328_151657_641_721_jpg.rf.9cc8cb3534372b4f911e2cd5719f2e7f.jpg: ignoring corrupt image/label: non-normalized or out of bounds coordinates [      1.022       1.023]\n",
      "\u001b[34m\u001b[1mtrain: \u001b[0mWARNING ⚠️ E:\\crack_detection_yolov8\\train\\images\\IMG_001_jpg.rf.22cefdd0df0e399ce642b849ee38a8c4.jpg: ignoring corrupt image/label: non-normalized or out of bounds coordinates [      1.023]\n"
     ]
    },
    {
     "name": "stderr",
     "output_type": "stream",
     "text": [
      "\n",
      "\u001b[34m\u001b[1mval: \u001b[0mScanning E:\\crack_detection_yolov8\\valid\\labels.cache... 34 images, 0 backgrounds, 15 corrupt: 100%|██████████| 34\u001b[0m"
     ]
    },
    {
     "name": "stdout",
     "output_type": "stream",
     "text": [
      "\u001b[34m\u001b[1mval: \u001b[0mWARNING ⚠️ E:\\crack_detection_yolov8\\valid\\images\\CFD_013_jpg.rf.ec09ad87a7993d7a5f57260a94b57d80.jpg: ignoring corrupt image/label: non-normalized or out of bounds coordinates [     1.0725]\n",
      "\u001b[34m\u001b[1mval: \u001b[0mWARNING ⚠️ E:\\crack_detection_yolov8\\valid\\images\\CFD_029_jpg.rf.0695dea80198fb62fc98ba90bf186045.jpg: ignoring corrupt image/label: non-normalized or out of bounds coordinates [     1.0075]\n",
      "\u001b[34m\u001b[1mval: \u001b[0mWARNING ⚠️ E:\\crack_detection_yolov8\\valid\\images\\CFD_046_jpg.rf.5189d2dbc1664763ec3863994cce6957.jpg: ignoring corrupt image/label: non-normalized or out of bounds coordinates [     1.0599]\n",
      "\u001b[34m\u001b[1mval: \u001b[0mWARNING ⚠️ E:\\crack_detection_yolov8\\valid\\images\\CFD_075_jpg.rf.113d5bb8e1b9eeff28f5089880b27842.jpg: ignoring corrupt image/label: non-normalized or out of bounds coordinates [     1.0621]\n",
      "\u001b[34m\u001b[1mval: \u001b[0mWARNING ⚠️ E:\\crack_detection_yolov8\\valid\\images\\CFD_080_jpg.rf.05507e6d086eb458d7a38127ad1fcdc4.jpg: ignoring corrupt image/label: non-normalized or out of bounds coordinates [     1.0365]\n",
      "\u001b[34m\u001b[1mval: \u001b[0mWARNING ⚠️ E:\\crack_detection_yolov8\\valid\\images\\CRACK500_20160222_114759_1281_1081_jpg.rf.e041881ee6a8d7d7c7f541923a6225a0.jpg: ignoring corrupt image/label: non-normalized or out of bounds coordinates [     1.0068]\n",
      "\u001b[34m\u001b[1mval: \u001b[0mWARNING ⚠️ E:\\crack_detection_yolov8\\valid\\images\\CRACK500_20160222_114759_1921_721_jpg.rf.4842312a2c3d2e55558399682683942d.jpg: ignoring corrupt image/label: non-normalized or out of bounds coordinates [      1.061]\n",
      "\u001b[34m\u001b[1mval: \u001b[0mWARNING ⚠️ E:\\crack_detection_yolov8\\valid\\images\\CRACK500_20160222_114806_1281_361_jpg.rf.43709b2aaf10aeb2d494ecc233c0a069.jpg: ignoring corrupt image/label: non-normalized or out of bounds coordinates [     1.0015      1.0078]\n",
      "\u001b[34m\u001b[1mval: \u001b[0mWARNING ⚠️ E:\\crack_detection_yolov8\\valid\\images\\CRACK500_20160222_163940_1_361_jpg.rf.a7c2581259cc88b61823d1f720f24e4a.jpg: ignoring corrupt image/label: non-normalized or out of bounds coordinates [     1.0119]\n",
      "\u001b[34m\u001b[1mval: \u001b[0mWARNING ⚠️ E:\\crack_detection_yolov8\\valid\\images\\CRACK500_20160222_163940_641_721_jpg.rf.04965e563682a99703231ad2c19d2e76.jpg: ignoring corrupt image/label: non-normalized or out of bounds coordinates [     1.0144]\n",
      "\u001b[34m\u001b[1mval: \u001b[0mWARNING ⚠️ E:\\crack_detection_yolov8\\valid\\images\\CRACK500_20160222_164141_1921_1_jpg.rf.a68db115726f79b7275a116e3059efa1.jpg: ignoring corrupt image/label: non-normalized or out of bounds coordinates [     1.0625]\n",
      "\u001b[34m\u001b[1mval: \u001b[0mWARNING ⚠️ E:\\crack_detection_yolov8\\valid\\images\\CRACK500_20160222_164141_1921_721_jpg.rf.eb44e65287b8a31141edb6b92c62d565.jpg: ignoring corrupt image/label: non-normalized or out of bounds coordinates [     1.0703]\n",
      "\u001b[34m\u001b[1mval: \u001b[0mWARNING ⚠️ E:\\crack_detection_yolov8\\valid\\images\\CRACK500_20160222_164141_1_361_jpg.rf.db804702ecd10edc7f130dd9ca0abc59.jpg: ignoring corrupt image/label: non-normalized or out of bounds coordinates [     1.1762]\n",
      "\u001b[34m\u001b[1mval: \u001b[0mWARNING ⚠️ E:\\crack_detection_yolov8\\valid\\images\\CRACK500_20160222_165951_1281_721_jpg.rf.9019d93aab30b19466cb749814be4573.jpg: ignoring corrupt image/label: non-normalized or out of bounds coordinates [     1.1422]\n",
      "\u001b[34m\u001b[1mval: \u001b[0mWARNING ⚠️ E:\\crack_detection_yolov8\\valid\\images\\CRACK500_20160225_114514_1_641_jpg.rf.77755168c284b31ae91a501cf647860c.jpg: ignoring corrupt image/label: non-normalized or out of bounds coordinates [     1.0163]\n",
      "Plotting labels to runs\\detect\\train\\labels.jpg... \n"
     ]
    },
    {
     "name": "stderr",
     "output_type": "stream",
     "text": [
      "\n"
     ]
    },
    {
     "name": "stdout",
     "output_type": "stream",
     "text": [
      "\u001b[34m\u001b[1moptimizer:\u001b[0m 'optimizer=auto' found, ignoring 'lr0=0.01' and 'momentum=0.937' and determining best 'optimizer', 'lr0' and 'momentum' automatically... \n",
      "\u001b[34m\u001b[1moptimizer:\u001b[0m AdamW(lr=0.002, momentum=0.9) with parameter groups 57 weight(decay=0.0), 64 weight(decay=0.0005), 63 bias(decay=0.0)\n",
      "Image sizes 640 train, 640 val\n",
      "Using 0 dataloader workers\n",
      "Logging results to \u001b[1mruns\\detect\\train\u001b[0m\n",
      "Starting training for 80 epochs...\n",
      "\n",
      "      Epoch    GPU_mem   box_loss   cls_loss   dfl_loss  Instances       Size\n"
     ]
    },
    {
     "name": "stderr",
     "output_type": "stream",
     "text": [
      "       1/80         0G      2.495       3.11      2.337         75        640: 100%|██████████| 6/6 [00:54<00:00,  9.17\n",
      "                 Class     Images  Instances      Box(P          R      mAP50  mAP50-95): 100%|██████████| 1/1 [00:04<0"
     ]
    },
    {
     "name": "stdout",
     "output_type": "stream",
     "text": [
      "                   all         19         63    0.00614      0.556     0.0865     0.0293\n"
     ]
    },
    {
     "name": "stderr",
     "output_type": "stream",
     "text": [
      "\n"
     ]
    },
    {
     "name": "stdout",
     "output_type": "stream",
     "text": [
      "\n",
      "      Epoch    GPU_mem   box_loss   cls_loss   dfl_loss  Instances       Size\n"
     ]
    },
    {
     "name": "stderr",
     "output_type": "stream",
     "text": [
      "       2/80         0G      2.368      2.988      2.256        113        640: 100%|██████████| 6/6 [01:15<00:00, 12.65\n",
      "                 Class     Images  Instances      Box(P          R      mAP50  mAP50-95): 100%|██████████| 1/1 [00:10<0"
     ]
    },
    {
     "name": "stdout",
     "output_type": "stream",
     "text": [
      "                   all         19         63    0.00684      0.619      0.118     0.0463\n"
     ]
    },
    {
     "name": "stderr",
     "output_type": "stream",
     "text": [
      "\n"
     ]
    },
    {
     "name": "stdout",
     "output_type": "stream",
     "text": [
      "\n",
      "      Epoch    GPU_mem   box_loss   cls_loss   dfl_loss  Instances       Size\n"
     ]
    },
    {
     "name": "stderr",
     "output_type": "stream",
     "text": [
      "       3/80         0G      2.207      2.724      2.101        110        640: 100%|██████████| 6/6 [01:11<00:00, 11.96\n",
      "                 Class     Images  Instances      Box(P          R      mAP50  mAP50-95): 100%|██████████| 1/1 [00:05<0"
     ]
    },
    {
     "name": "stdout",
     "output_type": "stream",
     "text": [
      "                   all         19         63    0.00754      0.683      0.157     0.0551\n"
     ]
    },
    {
     "name": "stderr",
     "output_type": "stream",
     "text": [
      "\n"
     ]
    },
    {
     "name": "stdout",
     "output_type": "stream",
     "text": [
      "\n",
      "      Epoch    GPU_mem   box_loss   cls_loss   dfl_loss  Instances       Size\n"
     ]
    },
    {
     "name": "stderr",
     "output_type": "stream",
     "text": [
      "       4/80         0G      2.179      2.618      1.999         61        640: 100%|██████████| 6/6 [00:59<00:00,  9.93\n",
      "                 Class     Images  Instances      Box(P          R      mAP50  mAP50-95): 100%|██████████| 1/1 [00:05<0"
     ]
    },
    {
     "name": "stdout",
     "output_type": "stream",
     "text": [
      "                   all         19         63    0.00754      0.683      0.112     0.0503\n"
     ]
    },
    {
     "name": "stderr",
     "output_type": "stream",
     "text": [
      "\n"
     ]
    },
    {
     "name": "stdout",
     "output_type": "stream",
     "text": [
      "\n",
      "      Epoch    GPU_mem   box_loss   cls_loss   dfl_loss  Instances       Size\n"
     ]
    },
    {
     "name": "stderr",
     "output_type": "stream",
     "text": [
      "       5/80         0G      2.226      2.615      2.064        113        640: 100%|██████████| 6/6 [01:00<00:00, 10.14\n",
      "                 Class     Images  Instances      Box(P          R      mAP50  mAP50-95): 100%|██████████| 1/1 [00:05<0"
     ]
    },
    {
     "name": "stdout",
     "output_type": "stream",
     "text": [
      "                   all         19         63    0.00772      0.698      0.123      0.051\n"
     ]
    },
    {
     "name": "stderr",
     "output_type": "stream",
     "text": [
      "\n"
     ]
    },
    {
     "name": "stdout",
     "output_type": "stream",
     "text": [
      "\n",
      "      Epoch    GPU_mem   box_loss   cls_loss   dfl_loss  Instances       Size\n"
     ]
    },
    {
     "name": "stderr",
     "output_type": "stream",
     "text": [
      "       6/80         0G      2.172      2.582      2.049         69        640: 100%|██████████| 6/6 [00:53<00:00,  8.84\n",
      "                 Class     Images  Instances      Box(P          R      mAP50  mAP50-95): 100%|██████████| 1/1 [00:04<0"
     ]
    },
    {
     "name": "stdout",
     "output_type": "stream",
     "text": [
      "                   all         19         63    0.00789      0.714      0.114     0.0381\n"
     ]
    },
    {
     "name": "stderr",
     "output_type": "stream",
     "text": [
      "\n"
     ]
    },
    {
     "name": "stdout",
     "output_type": "stream",
     "text": [
      "\n",
      "      Epoch    GPU_mem   box_loss   cls_loss   dfl_loss  Instances       Size\n"
     ]
    },
    {
     "name": "stderr",
     "output_type": "stream",
     "text": [
      "       7/80         0G      2.062      2.536      1.959         72        640: 100%|██████████| 6/6 [00:52<00:00,  8.72\n",
      "                 Class     Images  Instances      Box(P          R      mAP50  mAP50-95): 100%|██████████| 1/1 [00:05<0"
     ]
    },
    {
     "name": "stdout",
     "output_type": "stream",
     "text": [
      "                   all         19         63     0.0501      0.571      0.102     0.0333\n"
     ]
    },
    {
     "name": "stderr",
     "output_type": "stream",
     "text": [
      "\n"
     ]
    },
    {
     "name": "stdout",
     "output_type": "stream",
     "text": [
      "\n",
      "      Epoch    GPU_mem   box_loss   cls_loss   dfl_loss  Instances       Size\n"
     ]
    },
    {
     "name": "stderr",
     "output_type": "stream",
     "text": [
      "       8/80         0G      2.159      2.533      2.028         88        640: 100%|██████████| 6/6 [00:57<00:00,  9.56\n",
      "                 Class     Images  Instances      Box(P          R      mAP50  mAP50-95): 100%|██████████| 1/1 [00:05<0"
     ]
    },
    {
     "name": "stdout",
     "output_type": "stream",
     "text": [
      "                   all         19         63      0.118      0.305      0.107     0.0352\n"
     ]
    },
    {
     "name": "stderr",
     "output_type": "stream",
     "text": [
      "\n"
     ]
    },
    {
     "name": "stdout",
     "output_type": "stream",
     "text": [
      "\n",
      "      Epoch    GPU_mem   box_loss   cls_loss   dfl_loss  Instances       Size\n"
     ]
    },
    {
     "name": "stderr",
     "output_type": "stream",
     "text": [
      "       9/80         0G      2.174      2.513      2.071         59        640: 100%|██████████| 6/6 [00:56<00:00,  9.41\n",
      "                 Class     Images  Instances      Box(P          R      mAP50  mAP50-95): 100%|██████████| 1/1 [00:05<0"
     ]
    },
    {
     "name": "stdout",
     "output_type": "stream",
     "text": [
      "                   all         19         63      0.233      0.175      0.128     0.0332\n"
     ]
    },
    {
     "name": "stderr",
     "output_type": "stream",
     "text": [
      "\n"
     ]
    },
    {
     "name": "stdout",
     "output_type": "stream",
     "text": [
      "\n",
      "      Epoch    GPU_mem   box_loss   cls_loss   dfl_loss  Instances       Size\n"
     ]
    },
    {
     "name": "stderr",
     "output_type": "stream",
     "text": [
      "      10/80         0G      2.114      2.516      2.047         78        640: 100%|██████████| 6/6 [00:55<00:00,  9.19\n",
      "                 Class     Images  Instances      Box(P          R      mAP50  mAP50-95): 100%|██████████| 1/1 [00:05<0"
     ]
    },
    {
     "name": "stdout",
     "output_type": "stream",
     "text": [
      "                   all         19         63      0.155      0.222     0.0887     0.0278\n"
     ]
    },
    {
     "name": "stderr",
     "output_type": "stream",
     "text": [
      "\n"
     ]
    },
    {
     "name": "stdout",
     "output_type": "stream",
     "text": [
      "\n",
      "      Epoch    GPU_mem   box_loss   cls_loss   dfl_loss  Instances       Size\n"
     ]
    },
    {
     "name": "stderr",
     "output_type": "stream",
     "text": [
      "      11/80         0G      2.161      2.489      2.056         70        640: 100%|██████████| 6/6 [00:53<00:00,  8.97\n",
      "                 Class     Images  Instances      Box(P          R      mAP50  mAP50-95): 100%|██████████| 1/1 [00:04<0"
     ]
    },
    {
     "name": "stdout",
     "output_type": "stream",
     "text": [
      "                   all         19         63      0.209      0.159     0.0951     0.0288\n"
     ]
    },
    {
     "name": "stderr",
     "output_type": "stream",
     "text": [
      "\n"
     ]
    },
    {
     "name": "stdout",
     "output_type": "stream",
     "text": [
      "\n",
      "      Epoch    GPU_mem   box_loss   cls_loss   dfl_loss  Instances       Size\n"
     ]
    },
    {
     "name": "stderr",
     "output_type": "stream",
     "text": [
      "      12/80         0G      2.172      2.469      2.033        111        640: 100%|██████████| 6/6 [00:54<00:00,  9.07\n",
      "                 Class     Images  Instances      Box(P          R      mAP50  mAP50-95): 100%|██████████| 1/1 [00:04<0"
     ]
    },
    {
     "name": "stdout",
     "output_type": "stream",
     "text": [
      "                   all         19         63      0.169      0.159     0.0696     0.0224\n"
     ]
    },
    {
     "name": "stderr",
     "output_type": "stream",
     "text": [
      "\n"
     ]
    },
    {
     "name": "stdout",
     "output_type": "stream",
     "text": [
      "\n",
      "      Epoch    GPU_mem   box_loss   cls_loss   dfl_loss  Instances       Size\n"
     ]
    },
    {
     "name": "stderr",
     "output_type": "stream",
     "text": [
      "      13/80         0G      2.094      2.487      2.004         79        640: 100%|██████████| 6/6 [00:52<00:00,  8.77\n",
      "                 Class     Images  Instances      Box(P          R      mAP50  mAP50-95): 100%|██████████| 1/1 [00:04<0"
     ]
    },
    {
     "name": "stdout",
     "output_type": "stream",
     "text": [
      "                   all         19         63      0.122     0.0794     0.0522     0.0193\n"
     ]
    },
    {
     "name": "stderr",
     "output_type": "stream",
     "text": [
      "\n"
     ]
    },
    {
     "name": "stdout",
     "output_type": "stream",
     "text": [
      "\n",
      "      Epoch    GPU_mem   box_loss   cls_loss   dfl_loss  Instances       Size\n"
     ]
    },
    {
     "name": "stderr",
     "output_type": "stream",
     "text": [
      "      14/80         0G      2.123      2.456      2.045         99        640: 100%|██████████| 6/6 [00:58<00:00,  9.70\n",
      "                 Class     Images  Instances      Box(P          R      mAP50  mAP50-95): 100%|██████████| 1/1 [00:04<0"
     ]
    },
    {
     "name": "stdout",
     "output_type": "stream",
     "text": [
      "                   all         19         63     0.0994       0.19     0.0476     0.0144\n"
     ]
    },
    {
     "name": "stderr",
     "output_type": "stream",
     "text": [
      "\n"
     ]
    },
    {
     "name": "stdout",
     "output_type": "stream",
     "text": [
      "\n",
      "      Epoch    GPU_mem   box_loss   cls_loss   dfl_loss  Instances       Size\n"
     ]
    },
    {
     "name": "stderr",
     "output_type": "stream",
     "text": [
      "      15/80         0G      2.131      2.475      2.061        110        640: 100%|██████████| 6/6 [00:56<00:00,  9.36\n",
      "                 Class     Images  Instances      Box(P          R      mAP50  mAP50-95): 100%|██████████| 1/1 [00:05<0"
     ]
    },
    {
     "name": "stdout",
     "output_type": "stream",
     "text": [
      "                   all         19         63     0.0705       0.19     0.0447     0.0123\n"
     ]
    },
    {
     "name": "stderr",
     "output_type": "stream",
     "text": [
      "\n"
     ]
    },
    {
     "name": "stdout",
     "output_type": "stream",
     "text": [
      "\n",
      "      Epoch    GPU_mem   box_loss   cls_loss   dfl_loss  Instances       Size\n"
     ]
    },
    {
     "name": "stderr",
     "output_type": "stream",
     "text": [
      "      16/80         0G      2.078      2.459      2.043         70        640: 100%|██████████| 6/6 [00:51<00:00,  8.65\n",
      "                 Class     Images  Instances      Box(P          R      mAP50  mAP50-95): 100%|██████████| 1/1 [00:04<0"
     ]
    },
    {
     "name": "stdout",
     "output_type": "stream",
     "text": [
      "                   all         19         63      0.102      0.206     0.0876     0.0307\n"
     ]
    },
    {
     "name": "stderr",
     "output_type": "stream",
     "text": [
      "\n"
     ]
    },
    {
     "name": "stdout",
     "output_type": "stream",
     "text": [
      "\n",
      "      Epoch    GPU_mem   box_loss   cls_loss   dfl_loss  Instances       Size\n"
     ]
    },
    {
     "name": "stderr",
     "output_type": "stream",
     "text": [
      "      17/80         0G      2.159      2.489      2.126        100        640: 100%|██████████| 6/6 [00:52<00:00,  8.80\n",
      "                 Class     Images  Instances      Box(P          R      mAP50  mAP50-95): 100%|██████████| 1/1 [00:05<0"
     ]
    },
    {
     "name": "stdout",
     "output_type": "stream",
     "text": [
      "                   all         19         63     0.0627      0.286     0.0659     0.0255\n"
     ]
    },
    {
     "name": "stderr",
     "output_type": "stream",
     "text": [
      "\n"
     ]
    },
    {
     "name": "stdout",
     "output_type": "stream",
     "text": [
      "\n",
      "      Epoch    GPU_mem   box_loss   cls_loss   dfl_loss  Instances       Size\n"
     ]
    },
    {
     "name": "stderr",
     "output_type": "stream",
     "text": [
      "      18/80         0G       2.11      2.453       2.05         81        640: 100%|██████████| 6/6 [00:51<00:00,  8.62\n",
      "                 Class     Images  Instances      Box(P          R      mAP50  mAP50-95): 100%|██████████| 1/1 [00:05<0"
     ]
    },
    {
     "name": "stdout",
     "output_type": "stream",
     "text": [
      "                   all         19         63     0.0851      0.143     0.0534     0.0151\n"
     ]
    },
    {
     "name": "stderr",
     "output_type": "stream",
     "text": [
      "\n"
     ]
    },
    {
     "name": "stdout",
     "output_type": "stream",
     "text": [
      "\n",
      "      Epoch    GPU_mem   box_loss   cls_loss   dfl_loss  Instances       Size\n"
     ]
    },
    {
     "name": "stderr",
     "output_type": "stream",
     "text": [
      "      19/80         0G       2.12      2.455      2.024        100        640: 100%|██████████| 6/6 [00:54<00:00,  9.02\n",
      "                 Class     Images  Instances      Box(P          R      mAP50  mAP50-95): 100%|██████████| 1/1 [00:05<0"
     ]
    },
    {
     "name": "stdout",
     "output_type": "stream",
     "text": [
      "                   all         19         63      0.119      0.206     0.0608     0.0163\n"
     ]
    },
    {
     "name": "stderr",
     "output_type": "stream",
     "text": [
      "\n"
     ]
    },
    {
     "name": "stdout",
     "output_type": "stream",
     "text": [
      "\n",
      "      Epoch    GPU_mem   box_loss   cls_loss   dfl_loss  Instances       Size\n"
     ]
    },
    {
     "name": "stderr",
     "output_type": "stream",
     "text": [
      "      20/80         0G      2.094      2.502      2.073         71        640: 100%|██████████| 6/6 [00:52<00:00,  8.83\n",
      "                 Class     Images  Instances      Box(P          R      mAP50  mAP50-95): 100%|██████████| 1/1 [00:05<0"
     ]
    },
    {
     "name": "stdout",
     "output_type": "stream",
     "text": [
      "                   all         19         63     0.0796      0.254     0.0411     0.0136\n"
     ]
    },
    {
     "name": "stderr",
     "output_type": "stream",
     "text": [
      "\n"
     ]
    },
    {
     "name": "stdout",
     "output_type": "stream",
     "text": [
      "\n",
      "      Epoch    GPU_mem   box_loss   cls_loss   dfl_loss  Instances       Size\n"
     ]
    },
    {
     "name": "stderr",
     "output_type": "stream",
     "text": [
      "      21/80         0G      2.122      2.495      2.091         91        640: 100%|██████████| 6/6 [00:52<00:00,  8.69\n",
      "                 Class     Images  Instances      Box(P          R      mAP50  mAP50-95): 100%|██████████| 1/1 [00:07<0"
     ]
    },
    {
     "name": "stdout",
     "output_type": "stream",
     "text": [
      "                   all         19         63      0.106      0.286     0.0544     0.0152\n"
     ]
    },
    {
     "name": "stderr",
     "output_type": "stream",
     "text": [
      "\n"
     ]
    },
    {
     "name": "stdout",
     "output_type": "stream",
     "text": [
      "\n",
      "      Epoch    GPU_mem   box_loss   cls_loss   dfl_loss  Instances       Size\n"
     ]
    },
    {
     "name": "stderr",
     "output_type": "stream",
     "text": [
      "      22/80         0G      2.121      2.442      2.072        113        640: 100%|██████████| 6/6 [00:53<00:00,  8.84\n",
      "                 Class     Images  Instances      Box(P          R      mAP50  mAP50-95): 100%|██████████| 1/1 [00:05<0"
     ]
    },
    {
     "name": "stdout",
     "output_type": "stream",
     "text": [
      "                   all         19         63      0.125      0.254     0.0549     0.0155\n"
     ]
    },
    {
     "name": "stderr",
     "output_type": "stream",
     "text": [
      "\n"
     ]
    },
    {
     "name": "stdout",
     "output_type": "stream",
     "text": [
      "\n",
      "      Epoch    GPU_mem   box_loss   cls_loss   dfl_loss  Instances       Size\n"
     ]
    },
    {
     "name": "stderr",
     "output_type": "stream",
     "text": [
      "      23/80         0G      2.053      2.347      2.005         77        640: 100%|██████████| 6/6 [00:51<00:00,  8.55\n",
      "                 Class     Images  Instances      Box(P          R      mAP50  mAP50-95): 100%|██████████| 1/1 [00:05<0"
     ]
    },
    {
     "name": "stdout",
     "output_type": "stream",
     "text": [
      "                   all         19         63      0.194      0.127      0.059     0.0173\n"
     ]
    },
    {
     "name": "stderr",
     "output_type": "stream",
     "text": [
      "\n"
     ]
    },
    {
     "name": "stdout",
     "output_type": "stream",
     "text": [
      "\n",
      "      Epoch    GPU_mem   box_loss   cls_loss   dfl_loss  Instances       Size\n"
     ]
    },
    {
     "name": "stderr",
     "output_type": "stream",
     "text": [
      "      24/80         0G      2.118      2.415      2.031        110        640: 100%|██████████| 6/6 [00:51<00:00,  8.66\n",
      "                 Class     Images  Instances      Box(P          R      mAP50  mAP50-95): 100%|██████████| 1/1 [00:04<0"
     ]
    },
    {
     "name": "stdout",
     "output_type": "stream",
     "text": [
      "                   all         19         63      0.113      0.175     0.0716     0.0176\n"
     ]
    },
    {
     "name": "stderr",
     "output_type": "stream",
     "text": [
      "\n"
     ]
    },
    {
     "name": "stdout",
     "output_type": "stream",
     "text": [
      "\n",
      "      Epoch    GPU_mem   box_loss   cls_loss   dfl_loss  Instances       Size\n"
     ]
    },
    {
     "name": "stderr",
     "output_type": "stream",
     "text": [
      "      25/80         0G      2.042      2.407      2.017         52        640: 100%|██████████| 6/6 [00:53<00:00,  8.94\n",
      "                 Class     Images  Instances      Box(P          R      mAP50  mAP50-95): 100%|██████████| 1/1 [00:05<0"
     ]
    },
    {
     "name": "stdout",
     "output_type": "stream",
     "text": [
      "                   all         19         63     0.0674       0.19     0.0521     0.0123\n"
     ]
    },
    {
     "name": "stderr",
     "output_type": "stream",
     "text": [
      "\n"
     ]
    },
    {
     "name": "stdout",
     "output_type": "stream",
     "text": [
      "\n",
      "      Epoch    GPU_mem   box_loss   cls_loss   dfl_loss  Instances       Size\n"
     ]
    },
    {
     "name": "stderr",
     "output_type": "stream",
     "text": [
      "      26/80         0G      2.112      2.401      2.066         89        640: 100%|██████████| 6/6 [00:57<00:00,  9.66\n",
      "                 Class     Images  Instances      Box(P          R      mAP50  mAP50-95): 100%|██████████| 1/1 [00:05<0"
     ]
    },
    {
     "name": "stdout",
     "output_type": "stream",
     "text": [
      "                   all         19         63     0.0808      0.206     0.0565     0.0143\n"
     ]
    },
    {
     "name": "stderr",
     "output_type": "stream",
     "text": [
      "\n"
     ]
    },
    {
     "name": "stdout",
     "output_type": "stream",
     "text": [
      "\n",
      "      Epoch    GPU_mem   box_loss   cls_loss   dfl_loss  Instances       Size\n"
     ]
    },
    {
     "name": "stderr",
     "output_type": "stream",
     "text": [
      "      27/80         0G      2.124      2.398      2.046         77        640: 100%|██████████| 6/6 [00:54<00:00,  9.14\n",
      "                 Class     Images  Instances      Box(P          R      mAP50  mAP50-95): 100%|██████████| 1/1 [00:04<0"
     ]
    },
    {
     "name": "stdout",
     "output_type": "stream",
     "text": [
      "                   all         19         63      0.118      0.254      0.072     0.0206\n"
     ]
    },
    {
     "name": "stderr",
     "output_type": "stream",
     "text": [
      "\n"
     ]
    },
    {
     "name": "stdout",
     "output_type": "stream",
     "text": [
      "\n",
      "      Epoch    GPU_mem   box_loss   cls_loss   dfl_loss  Instances       Size\n"
     ]
    },
    {
     "name": "stderr",
     "output_type": "stream",
     "text": [
      "      28/80         0G      2.042      2.328      2.008         76        640: 100%|██████████| 6/6 [00:53<00:00,  8.96\n",
      "                 Class     Images  Instances      Box(P          R      mAP50  mAP50-95): 100%|██████████| 1/1 [00:04<0"
     ]
    },
    {
     "name": "stdout",
     "output_type": "stream",
     "text": [
      "                   all         19         63      0.133      0.222       0.11     0.0375\n"
     ]
    },
    {
     "name": "stderr",
     "output_type": "stream",
     "text": [
      "\n"
     ]
    },
    {
     "name": "stdout",
     "output_type": "stream",
     "text": [
      "\n",
      "      Epoch    GPU_mem   box_loss   cls_loss   dfl_loss  Instances       Size\n"
     ]
    },
    {
     "name": "stderr",
     "output_type": "stream",
     "text": [
      "      29/80         0G      2.024      2.303       1.98         91        640: 100%|██████████| 6/6 [00:56<00:00,  9.36\n",
      "                 Class     Images  Instances      Box(P          R      mAP50  mAP50-95): 100%|██████████| 1/1 [00:04<0"
     ]
    },
    {
     "name": "stdout",
     "output_type": "stream",
     "text": [
      "                   all         19         63      0.176       0.19      0.142     0.0478\n"
     ]
    },
    {
     "name": "stderr",
     "output_type": "stream",
     "text": [
      "\n"
     ]
    },
    {
     "name": "stdout",
     "output_type": "stream",
     "text": [
      "\n",
      "      Epoch    GPU_mem   box_loss   cls_loss   dfl_loss  Instances       Size\n"
     ]
    },
    {
     "name": "stderr",
     "output_type": "stream",
     "text": [
      "      30/80         0G      2.018      2.279      1.988         97        640: 100%|██████████| 6/6 [01:04<00:00, 10.77\n",
      "                 Class     Images  Instances      Box(P          R      mAP50  mAP50-95): 100%|██████████| 1/1 [00:11<0"
     ]
    },
    {
     "name": "stdout",
     "output_type": "stream",
     "text": [
      "                   all         19         63      0.112      0.175     0.0579     0.0149\n"
     ]
    },
    {
     "name": "stderr",
     "output_type": "stream",
     "text": [
      "\n"
     ]
    },
    {
     "name": "stdout",
     "output_type": "stream",
     "text": [
      "\n",
      "      Epoch    GPU_mem   box_loss   cls_loss   dfl_loss  Instances       Size\n"
     ]
    },
    {
     "name": "stderr",
     "output_type": "stream",
     "text": [
      "      31/80         0G      1.994      2.293      1.975        113        640: 100%|██████████| 6/6 [01:08<00:00, 11.44\n",
      "                 Class     Images  Instances      Box(P          R      mAP50  mAP50-95): 100%|██████████| 1/1 [00:04<0"
     ]
    },
    {
     "name": "stdout",
     "output_type": "stream",
     "text": [
      "                   all         19         63      0.106      0.238     0.0427     0.0134\n"
     ]
    },
    {
     "name": "stderr",
     "output_type": "stream",
     "text": [
      "\n"
     ]
    },
    {
     "name": "stdout",
     "output_type": "stream",
     "text": [
      "\n",
      "      Epoch    GPU_mem   box_loss   cls_loss   dfl_loss  Instances       Size\n"
     ]
    },
    {
     "name": "stderr",
     "output_type": "stream",
     "text": [
      "      32/80         0G       2.04      2.314       1.99        103        640: 100%|██████████| 6/6 [00:58<00:00,  9.72\n",
      "                 Class     Images  Instances      Box(P          R      mAP50  mAP50-95): 100%|██████████| 1/1 [00:04<0"
     ]
    },
    {
     "name": "stdout",
     "output_type": "stream",
     "text": [
      "                   all         19         63      0.255      0.175      0.123     0.0442\n"
     ]
    },
    {
     "name": "stderr",
     "output_type": "stream",
     "text": [
      "\n"
     ]
    },
    {
     "name": "stdout",
     "output_type": "stream",
     "text": [
      "\n",
      "      Epoch    GPU_mem   box_loss   cls_loss   dfl_loss  Instances       Size\n"
     ]
    },
    {
     "name": "stderr",
     "output_type": "stream",
     "text": [
      "      33/80         0G      1.948      2.292      1.956         74        640: 100%|██████████| 6/6 [01:02<00:00, 10.36\n",
      "                 Class     Images  Instances      Box(P          R      mAP50  mAP50-95): 100%|██████████| 1/1 [00:05<0"
     ]
    },
    {
     "name": "stdout",
     "output_type": "stream",
     "text": [
      "                   all         19         63      0.228       0.27       0.17     0.0561\n"
     ]
    },
    {
     "name": "stderr",
     "output_type": "stream",
     "text": [
      "\n"
     ]
    },
    {
     "name": "stdout",
     "output_type": "stream",
     "text": [
      "\n",
      "      Epoch    GPU_mem   box_loss   cls_loss   dfl_loss  Instances       Size\n"
     ]
    },
    {
     "name": "stderr",
     "output_type": "stream",
     "text": [
      "      34/80         0G      1.923      2.243      1.898         45        640: 100%|██████████| 6/6 [00:58<00:00,  9.74\n",
      "                 Class     Images  Instances      Box(P          R      mAP50  mAP50-95): 100%|██████████| 1/1 [00:05<0"
     ]
    },
    {
     "name": "stdout",
     "output_type": "stream",
     "text": [
      "                   all         19         63      0.254       0.19      0.134      0.043\n"
     ]
    },
    {
     "name": "stderr",
     "output_type": "stream",
     "text": [
      "\n"
     ]
    },
    {
     "name": "stdout",
     "output_type": "stream",
     "text": [
      "\n",
      "      Epoch    GPU_mem   box_loss   cls_loss   dfl_loss  Instances       Size\n"
     ]
    },
    {
     "name": "stderr",
     "output_type": "stream",
     "text": [
      "      35/80         0G      1.952       2.25      1.909         79        640: 100%|██████████| 6/6 [00:57<00:00,  9.62\n",
      "                 Class     Images  Instances      Box(P          R      mAP50  mAP50-95): 100%|██████████| 1/1 [00:05<0"
     ]
    },
    {
     "name": "stdout",
     "output_type": "stream",
     "text": [
      "                   all         19         63      0.187      0.238      0.167     0.0604\n"
     ]
    },
    {
     "name": "stderr",
     "output_type": "stream",
     "text": [
      "\n"
     ]
    },
    {
     "name": "stdout",
     "output_type": "stream",
     "text": [
      "\n",
      "      Epoch    GPU_mem   box_loss   cls_loss   dfl_loss  Instances       Size\n"
     ]
    },
    {
     "name": "stderr",
     "output_type": "stream",
     "text": [
      "      36/80         0G      1.932        2.2      1.878        136        640: 100%|██████████| 6/6 [00:59<00:00,  9.85\n",
      "                 Class     Images  Instances      Box(P          R      mAP50  mAP50-95): 100%|██████████| 1/1 [00:04<0"
     ]
    },
    {
     "name": "stdout",
     "output_type": "stream",
     "text": [
      "                   all         19         63      0.239      0.206      0.138     0.0483\n"
     ]
    },
    {
     "name": "stderr",
     "output_type": "stream",
     "text": [
      "\n"
     ]
    },
    {
     "name": "stdout",
     "output_type": "stream",
     "text": [
      "\n",
      "      Epoch    GPU_mem   box_loss   cls_loss   dfl_loss  Instances       Size\n"
     ]
    },
    {
     "name": "stderr",
     "output_type": "stream",
     "text": [
      "      37/80         0G      2.022      2.205       1.94        112        640: 100%|██████████| 6/6 [00:58<00:00,  9.73\n",
      "                 Class     Images  Instances      Box(P          R      mAP50  mAP50-95): 100%|██████████| 1/1 [00:04<0"
     ]
    },
    {
     "name": "stdout",
     "output_type": "stream",
     "text": [
      "                   all         19         63      0.221      0.206      0.123     0.0378\n"
     ]
    },
    {
     "name": "stderr",
     "output_type": "stream",
     "text": [
      "\n"
     ]
    },
    {
     "name": "stdout",
     "output_type": "stream",
     "text": [
      "\n",
      "      Epoch    GPU_mem   box_loss   cls_loss   dfl_loss  Instances       Size\n"
     ]
    },
    {
     "name": "stderr",
     "output_type": "stream",
     "text": [
      "      38/80         0G      1.962      2.241      1.891        100        640: 100%|██████████| 6/6 [00:51<00:00,  8.64\n",
      "                 Class     Images  Instances      Box(P          R      mAP50  mAP50-95): 100%|██████████| 1/1 [00:04<0"
     ]
    },
    {
     "name": "stdout",
     "output_type": "stream",
     "text": [
      "                   all         19         63       0.22      0.254      0.169     0.0455\n"
     ]
    },
    {
     "name": "stderr",
     "output_type": "stream",
     "text": [
      "\n"
     ]
    },
    {
     "name": "stdout",
     "output_type": "stream",
     "text": [
      "\n",
      "      Epoch    GPU_mem   box_loss   cls_loss   dfl_loss  Instances       Size\n"
     ]
    },
    {
     "name": "stderr",
     "output_type": "stream",
     "text": [
      "      39/80         0G      2.046      2.259      1.942         89        640: 100%|██████████| 6/6 [00:55<00:00,  9.23\n",
      "                 Class     Images  Instances      Box(P          R      mAP50  mAP50-95): 100%|██████████| 1/1 [00:04<0"
     ]
    },
    {
     "name": "stdout",
     "output_type": "stream",
     "text": [
      "                   all         19         63       0.32       0.27      0.219     0.0606\n"
     ]
    },
    {
     "name": "stderr",
     "output_type": "stream",
     "text": [
      "\n"
     ]
    },
    {
     "name": "stdout",
     "output_type": "stream",
     "text": [
      "\n",
      "      Epoch    GPU_mem   box_loss   cls_loss   dfl_loss  Instances       Size\n"
     ]
    },
    {
     "name": "stderr",
     "output_type": "stream",
     "text": [
      "      40/80         0G      1.976      2.209      1.905         81        640: 100%|██████████| 6/6 [00:52<00:00,  8.72\n",
      "                 Class     Images  Instances      Box(P          R      mAP50  mAP50-95): 100%|██████████| 1/1 [00:04<0"
     ]
    },
    {
     "name": "stdout",
     "output_type": "stream",
     "text": [
      "                   all         19         63       0.21      0.286       0.15     0.0518\n"
     ]
    },
    {
     "name": "stderr",
     "output_type": "stream",
     "text": [
      "\n"
     ]
    },
    {
     "name": "stdout",
     "output_type": "stream",
     "text": [
      "\n",
      "      Epoch    GPU_mem   box_loss   cls_loss   dfl_loss  Instances       Size\n"
     ]
    },
    {
     "name": "stderr",
     "output_type": "stream",
     "text": [
      "      41/80         0G      1.884      2.142      1.815         92        640: 100%|██████████| 6/6 [00:51<00:00,  8.62\n",
      "                 Class     Images  Instances      Box(P          R      mAP50  mAP50-95): 100%|██████████| 1/1 [00:04<0"
     ]
    },
    {
     "name": "stdout",
     "output_type": "stream",
     "text": [
      "                   all         19         63      0.199      0.206      0.137     0.0605\n"
     ]
    },
    {
     "name": "stderr",
     "output_type": "stream",
     "text": [
      "\n"
     ]
    },
    {
     "name": "stdout",
     "output_type": "stream",
     "text": [
      "\n",
      "      Epoch    GPU_mem   box_loss   cls_loss   dfl_loss  Instances       Size\n"
     ]
    },
    {
     "name": "stderr",
     "output_type": "stream",
     "text": [
      "      42/80         0G      1.926      2.115      1.874         98        640: 100%|██████████| 6/6 [00:52<00:00,  8.74\n",
      "                 Class     Images  Instances      Box(P          R      mAP50  mAP50-95): 100%|██████████| 1/1 [00:04<0"
     ]
    },
    {
     "name": "stdout",
     "output_type": "stream",
     "text": [
      "                   all         19         63      0.239      0.222       0.16     0.0607\n"
     ]
    },
    {
     "name": "stderr",
     "output_type": "stream",
     "text": [
      "\n"
     ]
    },
    {
     "name": "stdout",
     "output_type": "stream",
     "text": [
      "\n",
      "      Epoch    GPU_mem   box_loss   cls_loss   dfl_loss  Instances       Size\n"
     ]
    },
    {
     "name": "stderr",
     "output_type": "stream",
     "text": [
      "      43/80         0G      1.943      2.173      1.906        103        640: 100%|██████████| 6/6 [00:52<00:00,  8.82\n",
      "                 Class     Images  Instances      Box(P          R      mAP50  mAP50-95): 100%|██████████| 1/1 [00:04<0"
     ]
    },
    {
     "name": "stdout",
     "output_type": "stream",
     "text": [
      "                   all         19         63      0.288      0.238      0.173     0.0614\n"
     ]
    },
    {
     "name": "stderr",
     "output_type": "stream",
     "text": [
      "\n"
     ]
    },
    {
     "name": "stdout",
     "output_type": "stream",
     "text": [
      "\n",
      "      Epoch    GPU_mem   box_loss   cls_loss   dfl_loss  Instances       Size\n"
     ]
    },
    {
     "name": "stderr",
     "output_type": "stream",
     "text": [
      "      44/80         0G      1.822      2.081      1.815         83        640: 100%|██████████| 6/6 [00:52<00:00,  8.81\n",
      "                 Class     Images  Instances      Box(P          R      mAP50  mAP50-95): 100%|██████████| 1/1 [00:04<0"
     ]
    },
    {
     "name": "stdout",
     "output_type": "stream",
     "text": [
      "                   all         19         63      0.269       0.27      0.202      0.066\n"
     ]
    },
    {
     "name": "stderr",
     "output_type": "stream",
     "text": [
      "\n"
     ]
    },
    {
     "name": "stdout",
     "output_type": "stream",
     "text": [
      "\n",
      "      Epoch    GPU_mem   box_loss   cls_loss   dfl_loss  Instances       Size\n"
     ]
    },
    {
     "name": "stderr",
     "output_type": "stream",
     "text": [
      "      45/80         0G      1.888      2.119      1.882         91        640: 100%|██████████| 6/6 [00:51<00:00,  8.66\n",
      "                 Class     Images  Instances      Box(P          R      mAP50  mAP50-95): 100%|██████████| 1/1 [00:04<0"
     ]
    },
    {
     "name": "stdout",
     "output_type": "stream",
     "text": [
      "                   all         19         63      0.253      0.238      0.191     0.0788\n"
     ]
    },
    {
     "name": "stderr",
     "output_type": "stream",
     "text": [
      "\n"
     ]
    },
    {
     "name": "stdout",
     "output_type": "stream",
     "text": [
      "\n",
      "      Epoch    GPU_mem   box_loss   cls_loss   dfl_loss  Instances       Size\n"
     ]
    },
    {
     "name": "stderr",
     "output_type": "stream",
     "text": [
      "      46/80         0G      1.902        2.1      1.889         97        640: 100%|██████████| 6/6 [00:51<00:00,  8.63\n",
      "                 Class     Images  Instances      Box(P          R      mAP50  mAP50-95): 100%|██████████| 1/1 [00:04<0"
     ]
    },
    {
     "name": "stdout",
     "output_type": "stream",
     "text": [
      "                   all         19         63      0.239      0.238      0.191     0.0757\n"
     ]
    },
    {
     "name": "stderr",
     "output_type": "stream",
     "text": [
      "\n"
     ]
    },
    {
     "name": "stdout",
     "output_type": "stream",
     "text": [
      "\n",
      "      Epoch    GPU_mem   box_loss   cls_loss   dfl_loss  Instances       Size\n"
     ]
    },
    {
     "name": "stderr",
     "output_type": "stream",
     "text": [
      "      47/80         0G      1.845      2.087      1.841         94        640: 100%|██████████| 6/6 [00:51<00:00,  8.58\n",
      "                 Class     Images  Instances      Box(P          R      mAP50  mAP50-95): 100%|██████████| 1/1 [00:04<0"
     ]
    },
    {
     "name": "stdout",
     "output_type": "stream",
     "text": [
      "                   all         19         63      0.205      0.365      0.191      0.075\n"
     ]
    },
    {
     "name": "stderr",
     "output_type": "stream",
     "text": [
      "\n"
     ]
    },
    {
     "name": "stdout",
     "output_type": "stream",
     "text": [
      "\n",
      "      Epoch    GPU_mem   box_loss   cls_loss   dfl_loss  Instances       Size\n"
     ]
    },
    {
     "name": "stderr",
     "output_type": "stream",
     "text": [
      "      48/80         0G      1.784       2.04      1.801         96        640: 100%|██████████| 6/6 [00:56<00:00,  9.46\n",
      "                 Class     Images  Instances      Box(P          R      mAP50  mAP50-95): 100%|██████████| 1/1 [00:06<0"
     ]
    },
    {
     "name": "stdout",
     "output_type": "stream",
     "text": [
      "                   all         19         63      0.138      0.302      0.164     0.0694\n"
     ]
    },
    {
     "name": "stderr",
     "output_type": "stream",
     "text": [
      "\n"
     ]
    },
    {
     "name": "stdout",
     "output_type": "stream",
     "text": [
      "\n",
      "      Epoch    GPU_mem   box_loss   cls_loss   dfl_loss  Instances       Size\n"
     ]
    },
    {
     "name": "stderr",
     "output_type": "stream",
     "text": [
      "      49/80         0G      1.855      2.061      1.832         92        640: 100%|██████████| 6/6 [00:55<00:00,  9.18\n",
      "                 Class     Images  Instances      Box(P          R      mAP50  mAP50-95): 100%|██████████| 1/1 [00:07<0"
     ]
    },
    {
     "name": "stdout",
     "output_type": "stream",
     "text": [
      "                   all         19         63      0.149      0.286       0.18     0.0675\n"
     ]
    },
    {
     "name": "stderr",
     "output_type": "stream",
     "text": [
      "\n"
     ]
    },
    {
     "name": "stdout",
     "output_type": "stream",
     "text": [
      "\n",
      "      Epoch    GPU_mem   box_loss   cls_loss   dfl_loss  Instances       Size\n"
     ]
    },
    {
     "name": "stderr",
     "output_type": "stream",
     "text": [
      "      50/80         0G      1.873      2.147      1.852         79        640: 100%|██████████| 6/6 [01:06<00:00, 11.03\n",
      "                 Class     Images  Instances      Box(P          R      mAP50  mAP50-95): 100%|██████████| 1/1 [00:04<0"
     ]
    },
    {
     "name": "stdout",
     "output_type": "stream",
     "text": [
      "                   all         19         63      0.444      0.159      0.199     0.0943\n"
     ]
    },
    {
     "name": "stderr",
     "output_type": "stream",
     "text": [
      "\n"
     ]
    },
    {
     "name": "stdout",
     "output_type": "stream",
     "text": [
      "\n",
      "      Epoch    GPU_mem   box_loss   cls_loss   dfl_loss  Instances       Size\n"
     ]
    },
    {
     "name": "stderr",
     "output_type": "stream",
     "text": [
      "      51/80         0G      1.815       2.02      1.805         82        640: 100%|██████████| 6/6 [00:51<00:00,  8.56\n",
      "                 Class     Images  Instances      Box(P          R      mAP50  mAP50-95): 100%|██████████| 1/1 [00:04<0"
     ]
    },
    {
     "name": "stdout",
     "output_type": "stream",
     "text": [
      "                   all         19         63       0.19      0.232      0.205      0.102\n"
     ]
    },
    {
     "name": "stderr",
     "output_type": "stream",
     "text": [
      "\n"
     ]
    },
    {
     "name": "stdout",
     "output_type": "stream",
     "text": [
      "\n",
      "      Epoch    GPU_mem   box_loss   cls_loss   dfl_loss  Instances       Size\n"
     ]
    },
    {
     "name": "stderr",
     "output_type": "stream",
     "text": [
      "      52/80         0G      1.828      2.049      1.815         86        640: 100%|██████████| 6/6 [00:51<00:00,  8.61\n",
      "                 Class     Images  Instances      Box(P          R      mAP50  mAP50-95): 100%|██████████| 1/1 [00:04<0"
     ]
    },
    {
     "name": "stdout",
     "output_type": "stream",
     "text": [
      "                   all         19         63      0.225      0.349      0.228      0.102\n"
     ]
    },
    {
     "name": "stderr",
     "output_type": "stream",
     "text": [
      "\n"
     ]
    },
    {
     "name": "stdout",
     "output_type": "stream",
     "text": [
      "\n",
      "      Epoch    GPU_mem   box_loss   cls_loss   dfl_loss  Instances       Size\n"
     ]
    },
    {
     "name": "stderr",
     "output_type": "stream",
     "text": [
      "      53/80         0G      1.801      2.006      1.771         86        640: 100%|██████████| 6/6 [00:52<00:00,  8.80\n",
      "                 Class     Images  Instances      Box(P          R      mAP50  mAP50-95): 100%|██████████| 1/1 [00:04<0"
     ]
    },
    {
     "name": "stdout",
     "output_type": "stream",
     "text": [
      "                   all         19         63      0.253      0.365      0.228      0.106\n"
     ]
    },
    {
     "name": "stderr",
     "output_type": "stream",
     "text": [
      "\n"
     ]
    },
    {
     "name": "stdout",
     "output_type": "stream",
     "text": [
      "\n",
      "      Epoch    GPU_mem   box_loss   cls_loss   dfl_loss  Instances       Size\n"
     ]
    },
    {
     "name": "stderr",
     "output_type": "stream",
     "text": [
      "      54/80         0G      1.727      2.025      1.786         86        640: 100%|██████████| 6/6 [00:50<00:00,  8.45\n",
      "                 Class     Images  Instances      Box(P          R      mAP50  mAP50-95): 100%|██████████| 1/1 [00:04<0"
     ]
    },
    {
     "name": "stdout",
     "output_type": "stream",
     "text": [
      "                   all         19         63      0.243      0.333      0.214     0.0878\n"
     ]
    },
    {
     "name": "stderr",
     "output_type": "stream",
     "text": [
      "\n"
     ]
    },
    {
     "name": "stdout",
     "output_type": "stream",
     "text": [
      "\n",
      "      Epoch    GPU_mem   box_loss   cls_loss   dfl_loss  Instances       Size\n"
     ]
    },
    {
     "name": "stderr",
     "output_type": "stream",
     "text": [
      "      55/80         0G      1.818      2.038      1.802         82        640: 100%|██████████| 6/6 [00:51<00:00,  8.58\n",
      "                 Class     Images  Instances      Box(P          R      mAP50  mAP50-95): 100%|██████████| 1/1 [00:04<0"
     ]
    },
    {
     "name": "stdout",
     "output_type": "stream",
     "text": [
      "                   all         19         63      0.282      0.349      0.211      0.089\n"
     ]
    },
    {
     "name": "stderr",
     "output_type": "stream",
     "text": [
      "\n"
     ]
    },
    {
     "name": "stdout",
     "output_type": "stream",
     "text": [
      "\n",
      "      Epoch    GPU_mem   box_loss   cls_loss   dfl_loss  Instances       Size\n"
     ]
    },
    {
     "name": "stderr",
     "output_type": "stream",
     "text": [
      "      56/80         0G       1.76      1.977      1.773        123        640: 100%|██████████| 6/6 [00:51<00:00,  8.61\n",
      "                 Class     Images  Instances      Box(P          R      mAP50  mAP50-95): 100%|██████████| 1/1 [00:04<0"
     ]
    },
    {
     "name": "stdout",
     "output_type": "stream",
     "text": [
      "                   all         19         63      0.293      0.365      0.238      0.099\n"
     ]
    },
    {
     "name": "stderr",
     "output_type": "stream",
     "text": [
      "\n"
     ]
    },
    {
     "name": "stdout",
     "output_type": "stream",
     "text": [
      "\n",
      "      Epoch    GPU_mem   box_loss   cls_loss   dfl_loss  Instances       Size\n"
     ]
    },
    {
     "name": "stderr",
     "output_type": "stream",
     "text": [
      "      57/80         0G      1.757      1.939      1.763         93        640: 100%|██████████| 6/6 [00:51<00:00,  8.58\n",
      "                 Class     Images  Instances      Box(P          R      mAP50  mAP50-95): 100%|██████████| 1/1 [00:04<0"
     ]
    },
    {
     "name": "stdout",
     "output_type": "stream",
     "text": [
      "                   all         19         63      0.293      0.381      0.226        0.1\n"
     ]
    },
    {
     "name": "stderr",
     "output_type": "stream",
     "text": [
      "\n"
     ]
    },
    {
     "name": "stdout",
     "output_type": "stream",
     "text": [
      "\n",
      "      Epoch    GPU_mem   box_loss   cls_loss   dfl_loss  Instances       Size\n"
     ]
    },
    {
     "name": "stderr",
     "output_type": "stream",
     "text": [
      "      58/80         0G      1.737      1.945      1.755         74        640: 100%|██████████| 6/6 [00:50<00:00,  8.49\n",
      "                 Class     Images  Instances      Box(P          R      mAP50  mAP50-95): 100%|██████████| 1/1 [00:04<0"
     ]
    },
    {
     "name": "stdout",
     "output_type": "stream",
     "text": [
      "                   all         19         63      0.327      0.394      0.231     0.0893\n"
     ]
    },
    {
     "name": "stderr",
     "output_type": "stream",
     "text": [
      "\n"
     ]
    },
    {
     "name": "stdout",
     "output_type": "stream",
     "text": [
      "\n",
      "      Epoch    GPU_mem   box_loss   cls_loss   dfl_loss  Instances       Size\n"
     ]
    },
    {
     "name": "stderr",
     "output_type": "stream",
     "text": [
      "      59/80         0G      1.735      1.927      1.735         57        640: 100%|██████████| 6/6 [00:53<00:00,  8.86\n",
      "                 Class     Images  Instances      Box(P          R      mAP50  mAP50-95): 100%|██████████| 1/1 [00:04<0"
     ]
    },
    {
     "name": "stdout",
     "output_type": "stream",
     "text": [
      "                   all         19         63      0.292      0.333      0.234     0.0904\n"
     ]
    },
    {
     "name": "stderr",
     "output_type": "stream",
     "text": [
      "\n"
     ]
    },
    {
     "name": "stdout",
     "output_type": "stream",
     "text": [
      "\n",
      "      Epoch    GPU_mem   box_loss   cls_loss   dfl_loss  Instances       Size\n"
     ]
    },
    {
     "name": "stderr",
     "output_type": "stream",
     "text": [
      "      60/80         0G      1.755      1.939       1.74         92        640: 100%|██████████| 6/6 [00:51<00:00,  8.57\n",
      "                 Class     Images  Instances      Box(P          R      mAP50  mAP50-95): 100%|██████████| 1/1 [00:04<0"
     ]
    },
    {
     "name": "stdout",
     "output_type": "stream",
     "text": [
      "                   all         19         63       0.27      0.333      0.223     0.0895\n"
     ]
    },
    {
     "name": "stderr",
     "output_type": "stream",
     "text": [
      "\n"
     ]
    },
    {
     "name": "stdout",
     "output_type": "stream",
     "text": [
      "\n",
      "      Epoch    GPU_mem   box_loss   cls_loss   dfl_loss  Instances       Size\n"
     ]
    },
    {
     "name": "stderr",
     "output_type": "stream",
     "text": [
      "      61/80         0G      1.717       1.86      1.689         79        640: 100%|██████████| 6/6 [00:57<00:00,  9.67\n",
      "                 Class     Images  Instances      Box(P          R      mAP50  mAP50-95): 100%|██████████| 1/1 [00:04<0"
     ]
    },
    {
     "name": "stdout",
     "output_type": "stream",
     "text": [
      "                   all         19         63      0.242      0.302      0.231     0.0973\n"
     ]
    },
    {
     "name": "stderr",
     "output_type": "stream",
     "text": [
      "\n"
     ]
    },
    {
     "name": "stdout",
     "output_type": "stream",
     "text": [
      "\n",
      "      Epoch    GPU_mem   box_loss   cls_loss   dfl_loss  Instances       Size\n"
     ]
    },
    {
     "name": "stderr",
     "output_type": "stream",
     "text": [
      "      62/80         0G      1.751      1.928      1.718         73        640: 100%|██████████| 6/6 [00:51<00:00,  8.51\n",
      "                 Class     Images  Instances      Box(P          R      mAP50  mAP50-95): 100%|██████████| 1/1 [00:04<0"
     ]
    },
    {
     "name": "stdout",
     "output_type": "stream",
     "text": [
      "                   all         19         63      0.264      0.262      0.215      0.107\n"
     ]
    },
    {
     "name": "stderr",
     "output_type": "stream",
     "text": [
      "\n"
     ]
    },
    {
     "name": "stdout",
     "output_type": "stream",
     "text": [
      "\n",
      "      Epoch    GPU_mem   box_loss   cls_loss   dfl_loss  Instances       Size\n"
     ]
    },
    {
     "name": "stderr",
     "output_type": "stream",
     "text": [
      "      63/80         0G      1.745      1.933       1.74         94        640: 100%|██████████| 6/6 [00:51<00:00,  8.57\n",
      "                 Class     Images  Instances      Box(P          R      mAP50  mAP50-95): 100%|██████████| 1/1 [00:04<0"
     ]
    },
    {
     "name": "stdout",
     "output_type": "stream",
     "text": [
      "                   all         19         63      0.253       0.27      0.213      0.108\n"
     ]
    },
    {
     "name": "stderr",
     "output_type": "stream",
     "text": [
      "\n"
     ]
    },
    {
     "name": "stdout",
     "output_type": "stream",
     "text": [
      "\n",
      "      Epoch    GPU_mem   box_loss   cls_loss   dfl_loss  Instances       Size\n"
     ]
    },
    {
     "name": "stderr",
     "output_type": "stream",
     "text": [
      "      64/80         0G      1.668      1.838      1.676        101        640: 100%|██████████| 6/6 [00:51<00:00,  8.56\n",
      "                 Class     Images  Instances      Box(P          R      mAP50  mAP50-95): 100%|██████████| 1/1 [00:04<0"
     ]
    },
    {
     "name": "stdout",
     "output_type": "stream",
     "text": [
      "                   all         19         63      0.283      0.286      0.224      0.109\n"
     ]
    },
    {
     "name": "stderr",
     "output_type": "stream",
     "text": [
      "\n"
     ]
    },
    {
     "name": "stdout",
     "output_type": "stream",
     "text": [
      "\n",
      "      Epoch    GPU_mem   box_loss   cls_loss   dfl_loss  Instances       Size\n"
     ]
    },
    {
     "name": "stderr",
     "output_type": "stream",
     "text": [
      "      65/80         0G       1.72       1.89      1.706        120        640: 100%|██████████| 6/6 [00:52<00:00,  8.82\n",
      "                 Class     Images  Instances      Box(P          R      mAP50  mAP50-95): 100%|██████████| 1/1 [00:04<0"
     ]
    },
    {
     "name": "stdout",
     "output_type": "stream",
     "text": [
      "                   all         19         63      0.238      0.302      0.227      0.105\n"
     ]
    },
    {
     "name": "stderr",
     "output_type": "stream",
     "text": [
      "\n"
     ]
    },
    {
     "name": "stdout",
     "output_type": "stream",
     "text": [
      "\n",
      "      Epoch    GPU_mem   box_loss   cls_loss   dfl_loss  Instances       Size\n"
     ]
    },
    {
     "name": "stderr",
     "output_type": "stream",
     "text": [
      "      66/80         0G      1.669      1.831      1.685         76        640: 100%|██████████| 6/6 [01:01<00:00, 10.20\n",
      "                 Class     Images  Instances      Box(P          R      mAP50  mAP50-95): 100%|██████████| 1/1 [00:07<0"
     ]
    },
    {
     "name": "stdout",
     "output_type": "stream",
     "text": [
      "                   all         19         63      0.255      0.254      0.235      0.103\n"
     ]
    },
    {
     "name": "stderr",
     "output_type": "stream",
     "text": [
      "\n"
     ]
    },
    {
     "name": "stdout",
     "output_type": "stream",
     "text": [
      "\n",
      "      Epoch    GPU_mem   box_loss   cls_loss   dfl_loss  Instances       Size\n"
     ]
    },
    {
     "name": "stderr",
     "output_type": "stream",
     "text": [
      "      67/80         0G      1.688      1.818      1.709         82        640: 100%|██████████| 6/6 [00:59<00:00,  9.96\n",
      "                 Class     Images  Instances      Box(P          R      mAP50  mAP50-95): 100%|██████████| 1/1 [00:06<0"
     ]
    },
    {
     "name": "stdout",
     "output_type": "stream",
     "text": [
      "                   all         19         63      0.269      0.286      0.232      0.104\n"
     ]
    },
    {
     "name": "stderr",
     "output_type": "stream",
     "text": [
      "\n"
     ]
    },
    {
     "name": "stdout",
     "output_type": "stream",
     "text": [
      "\n",
      "      Epoch    GPU_mem   box_loss   cls_loss   dfl_loss  Instances       Size\n"
     ]
    },
    {
     "name": "stderr",
     "output_type": "stream",
     "text": [
      "      68/80         0G      1.654      1.769      1.677        109        640: 100%|██████████| 6/6 [00:59<00:00,  9.98\n",
      "                 Class     Images  Instances      Box(P          R      mAP50  mAP50-95): 100%|██████████| 1/1 [00:05<0"
     ]
    },
    {
     "name": "stdout",
     "output_type": "stream",
     "text": [
      "                   all         19         63      0.308      0.238      0.209     0.0958\n"
     ]
    },
    {
     "name": "stderr",
     "output_type": "stream",
     "text": [
      "\n"
     ]
    },
    {
     "name": "stdout",
     "output_type": "stream",
     "text": [
      "\n",
      "      Epoch    GPU_mem   box_loss   cls_loss   dfl_loss  Instances       Size\n"
     ]
    },
    {
     "name": "stderr",
     "output_type": "stream",
     "text": [
      "      69/80         0G      1.738      1.898      1.741        109        640: 100%|██████████| 6/6 [01:02<00:00, 10.48\n",
      "                 Class     Images  Instances      Box(P          R      mAP50  mAP50-95): 100%|██████████| 1/1 [00:05<0"
     ]
    },
    {
     "name": "stdout",
     "output_type": "stream",
     "text": [
      "                   all         19         63      0.292      0.238      0.213     0.0903\n"
     ]
    },
    {
     "name": "stderr",
     "output_type": "stream",
     "text": [
      "\n"
     ]
    },
    {
     "name": "stdout",
     "output_type": "stream",
     "text": [
      "\n",
      "      Epoch    GPU_mem   box_loss   cls_loss   dfl_loss  Instances       Size\n"
     ]
    },
    {
     "name": "stderr",
     "output_type": "stream",
     "text": [
      "      70/80         0G      1.688      1.782      1.663         97        640: 100%|██████████| 6/6 [00:58<00:00,  9.70\n",
      "                 Class     Images  Instances      Box(P          R      mAP50  mAP50-95): 100%|██████████| 1/1 [00:05<0"
     ]
    },
    {
     "name": "stdout",
     "output_type": "stream",
     "text": [
      "                   all         19         63      0.202      0.317      0.184      0.082\n"
     ]
    },
    {
     "name": "stderr",
     "output_type": "stream",
     "text": [
      "\n"
     ]
    },
    {
     "name": "stdout",
     "output_type": "stream",
     "text": [
      "Closing dataloader mosaic\n",
      "\n",
      "      Epoch    GPU_mem   box_loss   cls_loss   dfl_loss  Instances       Size\n"
     ]
    },
    {
     "name": "stderr",
     "output_type": "stream",
     "text": [
      "      71/80         0G      1.706      1.961      1.745         46        640: 100%|██████████| 6/6 [01:06<00:00, 11.02\n",
      "                 Class     Images  Instances      Box(P          R      mAP50  mAP50-95): 100%|██████████| 1/1 [00:06<0"
     ]
    },
    {
     "name": "stdout",
     "output_type": "stream",
     "text": [
      "                   all         19         63      0.186      0.349      0.186     0.0825\n"
     ]
    },
    {
     "name": "stderr",
     "output_type": "stream",
     "text": [
      "\n"
     ]
    },
    {
     "name": "stdout",
     "output_type": "stream",
     "text": [
      "\n",
      "      Epoch    GPU_mem   box_loss   cls_loss   dfl_loss  Instances       Size\n"
     ]
    },
    {
     "name": "stderr",
     "output_type": "stream",
     "text": [
      "      72/80         0G      1.639      1.942      1.684         67        640: 100%|██████████| 6/6 [01:10<00:00, 11.75\n",
      "                 Class     Images  Instances      Box(P          R      mAP50  mAP50-95): 100%|██████████| 1/1 [00:05<0"
     ]
    },
    {
     "name": "stdout",
     "output_type": "stream",
     "text": [
      "                   all         19         63       0.22      0.317      0.206     0.0869\n"
     ]
    },
    {
     "name": "stderr",
     "output_type": "stream",
     "text": [
      "\n"
     ]
    },
    {
     "name": "stdout",
     "output_type": "stream",
     "text": [
      "\n",
      "      Epoch    GPU_mem   box_loss   cls_loss   dfl_loss  Instances       Size\n"
     ]
    },
    {
     "name": "stderr",
     "output_type": "stream",
     "text": [
      "      73/80         0G      1.623      1.847       1.72         46        640: 100%|██████████| 6/6 [01:05<00:00, 10.97\n",
      "                 Class     Images  Instances      Box(P          R      mAP50  mAP50-95): 100%|██████████| 1/1 [00:06<0"
     ]
    },
    {
     "name": "stdout",
     "output_type": "stream",
     "text": [
      "                   all         19         63      0.252        0.3      0.218     0.0908\n"
     ]
    },
    {
     "name": "stderr",
     "output_type": "stream",
     "text": [
      "\n"
     ]
    },
    {
     "name": "stdout",
     "output_type": "stream",
     "text": [
      "\n",
      "      Epoch    GPU_mem   box_loss   cls_loss   dfl_loss  Instances       Size\n"
     ]
    },
    {
     "name": "stderr",
     "output_type": "stream",
     "text": [
      "      74/80         0G      1.574      1.767      1.662         42        640: 100%|██████████| 6/6 [01:01<00:00, 10.20\n",
      "                 Class     Images  Instances      Box(P          R      mAP50  mAP50-95): 100%|██████████| 1/1 [00:04<0"
     ]
    },
    {
     "name": "stdout",
     "output_type": "stream",
     "text": [
      "                   all         19         63       0.26      0.284      0.212     0.0966\n"
     ]
    },
    {
     "name": "stderr",
     "output_type": "stream",
     "text": [
      "\n"
     ]
    },
    {
     "name": "stdout",
     "output_type": "stream",
     "text": [
      "\n",
      "      Epoch    GPU_mem   box_loss   cls_loss   dfl_loss  Instances       Size\n"
     ]
    },
    {
     "name": "stderr",
     "output_type": "stream",
     "text": [
      "      75/80         0G      1.546      1.813      1.649         42        640: 100%|██████████| 6/6 [00:54<00:00,  9.13\n",
      "                 Class     Images  Instances      Box(P          R      mAP50  mAP50-95): 100%|██████████| 1/1 [00:05<0"
     ]
    },
    {
     "name": "stdout",
     "output_type": "stream",
     "text": [
      "                   all         19         63      0.297       0.27      0.232      0.102\n"
     ]
    },
    {
     "name": "stderr",
     "output_type": "stream",
     "text": [
      "\n"
     ]
    },
    {
     "name": "stdout",
     "output_type": "stream",
     "text": [
      "\n",
      "      Epoch    GPU_mem   box_loss   cls_loss   dfl_loss  Instances       Size\n"
     ]
    },
    {
     "name": "stderr",
     "output_type": "stream",
     "text": [
      "      76/80         0G      1.596      1.852      1.677         51        640: 100%|██████████| 6/6 [00:54<00:00,  9.02\n",
      "                 Class     Images  Instances      Box(P          R      mAP50  mAP50-95): 100%|██████████| 1/1 [00:04<0"
     ]
    },
    {
     "name": "stdout",
     "output_type": "stream",
     "text": [
      "                   all         19         63      0.298      0.238      0.224      0.109\n"
     ]
    },
    {
     "name": "stderr",
     "output_type": "stream",
     "text": [
      "\n"
     ]
    },
    {
     "name": "stdout",
     "output_type": "stream",
     "text": [
      "\n",
      "      Epoch    GPU_mem   box_loss   cls_loss   dfl_loss  Instances       Size\n"
     ]
    },
    {
     "name": "stderr",
     "output_type": "stream",
     "text": [
      "      77/80         0G      1.527      1.745      1.635         44        640: 100%|██████████| 6/6 [00:56<00:00,  9.41\n",
      "                 Class     Images  Instances      Box(P          R      mAP50  mAP50-95): 100%|██████████| 1/1 [00:05<0"
     ]
    },
    {
     "name": "stdout",
     "output_type": "stream",
     "text": [
      "                   all         19         63      0.316      0.238      0.229       0.11\n"
     ]
    },
    {
     "name": "stderr",
     "output_type": "stream",
     "text": [
      "\n"
     ]
    },
    {
     "name": "stdout",
     "output_type": "stream",
     "text": [
      "\n",
      "      Epoch    GPU_mem   box_loss   cls_loss   dfl_loss  Instances       Size\n"
     ]
    },
    {
     "name": "stderr",
     "output_type": "stream",
     "text": [
      "      78/80         0G      1.586      1.865       1.71         44        640: 100%|██████████| 6/6 [00:57<00:00,  9.57\n",
      "                 Class     Images  Instances      Box(P          R      mAP50  mAP50-95): 100%|██████████| 1/1 [00:05<0"
     ]
    },
    {
     "name": "stdout",
     "output_type": "stream",
     "text": [
      "                   all         19         63      0.307      0.238      0.236      0.109\n"
     ]
    },
    {
     "name": "stderr",
     "output_type": "stream",
     "text": [
      "\n"
     ]
    },
    {
     "name": "stdout",
     "output_type": "stream",
     "text": [
      "\n",
      "      Epoch    GPU_mem   box_loss   cls_loss   dfl_loss  Instances       Size\n"
     ]
    },
    {
     "name": "stderr",
     "output_type": "stream",
     "text": [
      "      79/80         0G      1.495      1.752      1.621         65        640: 100%|██████████| 6/6 [00:52<00:00,  8.70\n",
      "                 Class     Images  Instances      Box(P          R      mAP50  mAP50-95): 100%|██████████| 1/1 [00:04<0"
     ]
    },
    {
     "name": "stdout",
     "output_type": "stream",
     "text": [
      "                   all         19         63      0.287      0.238      0.236      0.112\n"
     ]
    },
    {
     "name": "stderr",
     "output_type": "stream",
     "text": [
      "\n"
     ]
    },
    {
     "name": "stdout",
     "output_type": "stream",
     "text": [
      "\n",
      "      Epoch    GPU_mem   box_loss   cls_loss   dfl_loss  Instances       Size\n"
     ]
    },
    {
     "name": "stderr",
     "output_type": "stream",
     "text": [
      "      80/80         0G      1.529      1.714      1.601         68        640: 100%|██████████| 6/6 [00:51<00:00,  8.64\n",
      "                 Class     Images  Instances      Box(P          R      mAP50  mAP50-95): 100%|██████████| 1/1 [00:05<0"
     ]
    },
    {
     "name": "stdout",
     "output_type": "stream",
     "text": [
      "                   all         19         63      0.297      0.268       0.24      0.112\n"
     ]
    },
    {
     "name": "stderr",
     "output_type": "stream",
     "text": [
      "\n"
     ]
    },
    {
     "name": "stdout",
     "output_type": "stream",
     "text": [
      "\n",
      "80 epochs completed in 1.373 hours.\n",
      "Optimizer stripped from runs\\detect\\train\\weights\\last.pt, 6.3MB\n",
      "Optimizer stripped from runs\\detect\\train\\weights\\best.pt, 6.3MB\n",
      "\n",
      "Validating runs\\detect\\train\\weights\\best.pt...\n",
      "Ultralytics YOLOv8.1.18 🚀 Python-3.11.4 torch-2.2.1+cpu CPU (Intel Core(TM) i7-8665U 1.90GHz)\n",
      "Model summary (fused): 168 layers, 3005843 parameters, 0 gradients, 8.1 GFLOPs\n"
     ]
    },
    {
     "name": "stderr",
     "output_type": "stream",
     "text": [
      "                 Class     Images  Instances      Box(P          R      mAP50  mAP50-95): 100%|██████████| 1/1 [00:03<0\n"
     ]
    },
    {
     "name": "stdout",
     "output_type": "stream",
     "text": [
      "                   all         19         63      0.296      0.267      0.235      0.111\n",
      "Speed: 2.7ms preprocess, 168.2ms inference, 0.0ms loss, 5.2ms postprocess per image\n",
      "Results saved to \u001b[1mruns\\detect\\train\u001b[0m\n"
     ]
    },
    {
     "data": {
      "text/plain": [
       "ultralytics.utils.metrics.DetMetrics object with attributes:\n",
       "\n",
       "ap_class_index: array([0])\n",
       "box: ultralytics.utils.metrics.Metric object\n",
       "confusion_matrix: <ultralytics.utils.metrics.ConfusionMatrix object at 0x0000016AD48581D0>\n",
       "curves: ['Precision-Recall(B)', 'F1-Confidence(B)', 'Precision-Confidence(B)', 'Recall-Confidence(B)']\n",
       "curves_results: [[array([          0,    0.001001,    0.002002,    0.003003,    0.004004,    0.005005,    0.006006,    0.007007,    0.008008,    0.009009,     0.01001,    0.011011,    0.012012,    0.013013,    0.014014,    0.015015,    0.016016,    0.017017,    0.018018,    0.019019,     0.02002,    0.021021,    0.022022,    0.023023,\n",
       "          0.024024,    0.025025,    0.026026,    0.027027,    0.028028,    0.029029,     0.03003,    0.031031,    0.032032,    0.033033,    0.034034,    0.035035,    0.036036,    0.037037,    0.038038,    0.039039,     0.04004,    0.041041,    0.042042,    0.043043,    0.044044,    0.045045,    0.046046,    0.047047,\n",
       "          0.048048,    0.049049,     0.05005,    0.051051,    0.052052,    0.053053,    0.054054,    0.055055,    0.056056,    0.057057,    0.058058,    0.059059,     0.06006,    0.061061,    0.062062,    0.063063,    0.064064,    0.065065,    0.066066,    0.067067,    0.068068,    0.069069,     0.07007,    0.071071,\n",
       "          0.072072,    0.073073,    0.074074,    0.075075,    0.076076,    0.077077,    0.078078,    0.079079,     0.08008,    0.081081,    0.082082,    0.083083,    0.084084,    0.085085,    0.086086,    0.087087,    0.088088,    0.089089,     0.09009,    0.091091,    0.092092,    0.093093,    0.094094,    0.095095,\n",
       "          0.096096,    0.097097,    0.098098,    0.099099,      0.1001,      0.1011,      0.1021,      0.1031,      0.1041,     0.10511,     0.10611,     0.10711,     0.10811,     0.10911,     0.11011,     0.11111,     0.11211,     0.11311,     0.11411,     0.11512,     0.11612,     0.11712,     0.11812,     0.11912,\n",
       "           0.12012,     0.12112,     0.12212,     0.12312,     0.12412,     0.12513,     0.12613,     0.12713,     0.12813,     0.12913,     0.13013,     0.13113,     0.13213,     0.13313,     0.13413,     0.13514,     0.13614,     0.13714,     0.13814,     0.13914,     0.14014,     0.14114,     0.14214,     0.14314,\n",
       "           0.14414,     0.14515,     0.14615,     0.14715,     0.14815,     0.14915,     0.15015,     0.15115,     0.15215,     0.15315,     0.15415,     0.15516,     0.15616,     0.15716,     0.15816,     0.15916,     0.16016,     0.16116,     0.16216,     0.16316,     0.16416,     0.16517,     0.16617,     0.16717,\n",
       "           0.16817,     0.16917,     0.17017,     0.17117,     0.17217,     0.17317,     0.17417,     0.17518,     0.17618,     0.17718,     0.17818,     0.17918,     0.18018,     0.18118,     0.18218,     0.18318,     0.18418,     0.18519,     0.18619,     0.18719,     0.18819,     0.18919,     0.19019,     0.19119,\n",
       "           0.19219,     0.19319,     0.19419,      0.1952,      0.1962,      0.1972,      0.1982,      0.1992,      0.2002,      0.2012,      0.2022,      0.2032,      0.2042,     0.20521,     0.20621,     0.20721,     0.20821,     0.20921,     0.21021,     0.21121,     0.21221,     0.21321,     0.21421,     0.21522,\n",
       "           0.21622,     0.21722,     0.21822,     0.21922,     0.22022,     0.22122,     0.22222,     0.22322,     0.22422,     0.22523,     0.22623,     0.22723,     0.22823,     0.22923,     0.23023,     0.23123,     0.23223,     0.23323,     0.23423,     0.23524,     0.23624,     0.23724,     0.23824,     0.23924,\n",
       "           0.24024,     0.24124,     0.24224,     0.24324,     0.24424,     0.24525,     0.24625,     0.24725,     0.24825,     0.24925,     0.25025,     0.25125,     0.25225,     0.25325,     0.25425,     0.25526,     0.25626,     0.25726,     0.25826,     0.25926,     0.26026,     0.26126,     0.26226,     0.26326,\n",
       "           0.26426,     0.26527,     0.26627,     0.26727,     0.26827,     0.26927,     0.27027,     0.27127,     0.27227,     0.27327,     0.27427,     0.27528,     0.27628,     0.27728,     0.27828,     0.27928,     0.28028,     0.28128,     0.28228,     0.28328,     0.28428,     0.28529,     0.28629,     0.28729,\n",
       "           0.28829,     0.28929,     0.29029,     0.29129,     0.29229,     0.29329,     0.29429,      0.2953,      0.2963,      0.2973,      0.2983,      0.2993,      0.3003,      0.3013,      0.3023,      0.3033,      0.3043,     0.30531,     0.30631,     0.30731,     0.30831,     0.30931,     0.31031,     0.31131,\n",
       "           0.31231,     0.31331,     0.31431,     0.31532,     0.31632,     0.31732,     0.31832,     0.31932,     0.32032,     0.32132,     0.32232,     0.32332,     0.32432,     0.32533,     0.32633,     0.32733,     0.32833,     0.32933,     0.33033,     0.33133,     0.33233,     0.33333,     0.33433,     0.33534,\n",
       "           0.33634,     0.33734,     0.33834,     0.33934,     0.34034,     0.34134,     0.34234,     0.34334,     0.34434,     0.34535,     0.34635,     0.34735,     0.34835,     0.34935,     0.35035,     0.35135,     0.35235,     0.35335,     0.35435,     0.35536,     0.35636,     0.35736,     0.35836,     0.35936,\n",
       "           0.36036,     0.36136,     0.36236,     0.36336,     0.36436,     0.36537,     0.36637,     0.36737,     0.36837,     0.36937,     0.37037,     0.37137,     0.37237,     0.37337,     0.37437,     0.37538,     0.37638,     0.37738,     0.37838,     0.37938,     0.38038,     0.38138,     0.38238,     0.38338,\n",
       "           0.38438,     0.38539,     0.38639,     0.38739,     0.38839,     0.38939,     0.39039,     0.39139,     0.39239,     0.39339,     0.39439,      0.3954,      0.3964,      0.3974,      0.3984,      0.3994,      0.4004,      0.4014,      0.4024,      0.4034,      0.4044,     0.40541,     0.40641,     0.40741,\n",
       "           0.40841,     0.40941,     0.41041,     0.41141,     0.41241,     0.41341,     0.41441,     0.41542,     0.41642,     0.41742,     0.41842,     0.41942,     0.42042,     0.42142,     0.42242,     0.42342,     0.42442,     0.42543,     0.42643,     0.42743,     0.42843,     0.42943,     0.43043,     0.43143,\n",
       "           0.43243,     0.43343,     0.43443,     0.43544,     0.43644,     0.43744,     0.43844,     0.43944,     0.44044,     0.44144,     0.44244,     0.44344,     0.44444,     0.44545,     0.44645,     0.44745,     0.44845,     0.44945,     0.45045,     0.45145,     0.45245,     0.45345,     0.45445,     0.45546,\n",
       "           0.45646,     0.45746,     0.45846,     0.45946,     0.46046,     0.46146,     0.46246,     0.46346,     0.46446,     0.46547,     0.46647,     0.46747,     0.46847,     0.46947,     0.47047,     0.47147,     0.47247,     0.47347,     0.47447,     0.47548,     0.47648,     0.47748,     0.47848,     0.47948,\n",
       "           0.48048,     0.48148,     0.48248,     0.48348,     0.48448,     0.48549,     0.48649,     0.48749,     0.48849,     0.48949,     0.49049,     0.49149,     0.49249,     0.49349,     0.49449,      0.4955,      0.4965,      0.4975,      0.4985,      0.4995,      0.5005,      0.5015,      0.5025,      0.5035,\n",
       "            0.5045,     0.50551,     0.50651,     0.50751,     0.50851,     0.50951,     0.51051,     0.51151,     0.51251,     0.51351,     0.51451,     0.51552,     0.51652,     0.51752,     0.51852,     0.51952,     0.52052,     0.52152,     0.52252,     0.52352,     0.52452,     0.52553,     0.52653,     0.52753,\n",
       "           0.52853,     0.52953,     0.53053,     0.53153,     0.53253,     0.53353,     0.53453,     0.53554,     0.53654,     0.53754,     0.53854,     0.53954,     0.54054,     0.54154,     0.54254,     0.54354,     0.54454,     0.54555,     0.54655,     0.54755,     0.54855,     0.54955,     0.55055,     0.55155,\n",
       "           0.55255,     0.55355,     0.55455,     0.55556,     0.55656,     0.55756,     0.55856,     0.55956,     0.56056,     0.56156,     0.56256,     0.56356,     0.56456,     0.56557,     0.56657,     0.56757,     0.56857,     0.56957,     0.57057,     0.57157,     0.57257,     0.57357,     0.57457,     0.57558,\n",
       "           0.57658,     0.57758,     0.57858,     0.57958,     0.58058,     0.58158,     0.58258,     0.58358,     0.58458,     0.58559,     0.58659,     0.58759,     0.58859,     0.58959,     0.59059,     0.59159,     0.59259,     0.59359,     0.59459,      0.5956,      0.5966,      0.5976,      0.5986,      0.5996,\n",
       "            0.6006,      0.6016,      0.6026,      0.6036,      0.6046,     0.60561,     0.60661,     0.60761,     0.60861,     0.60961,     0.61061,     0.61161,     0.61261,     0.61361,     0.61461,     0.61562,     0.61662,     0.61762,     0.61862,     0.61962,     0.62062,     0.62162,     0.62262,     0.62362,\n",
       "           0.62462,     0.62563,     0.62663,     0.62763,     0.62863,     0.62963,     0.63063,     0.63163,     0.63263,     0.63363,     0.63463,     0.63564,     0.63664,     0.63764,     0.63864,     0.63964,     0.64064,     0.64164,     0.64264,     0.64364,     0.64464,     0.64565,     0.64665,     0.64765,\n",
       "           0.64865,     0.64965,     0.65065,     0.65165,     0.65265,     0.65365,     0.65465,     0.65566,     0.65666,     0.65766,     0.65866,     0.65966,     0.66066,     0.66166,     0.66266,     0.66366,     0.66466,     0.66567,     0.66667,     0.66767,     0.66867,     0.66967,     0.67067,     0.67167,\n",
       "           0.67267,     0.67367,     0.67467,     0.67568,     0.67668,     0.67768,     0.67868,     0.67968,     0.68068,     0.68168,     0.68268,     0.68368,     0.68468,     0.68569,     0.68669,     0.68769,     0.68869,     0.68969,     0.69069,     0.69169,     0.69269,     0.69369,     0.69469,      0.6957,\n",
       "            0.6967,      0.6977,      0.6987,      0.6997,      0.7007,      0.7017,      0.7027,      0.7037,      0.7047,     0.70571,     0.70671,     0.70771,     0.70871,     0.70971,     0.71071,     0.71171,     0.71271,     0.71371,     0.71471,     0.71572,     0.71672,     0.71772,     0.71872,     0.71972,\n",
       "           0.72072,     0.72172,     0.72272,     0.72372,     0.72472,     0.72573,     0.72673,     0.72773,     0.72873,     0.72973,     0.73073,     0.73173,     0.73273,     0.73373,     0.73473,     0.73574,     0.73674,     0.73774,     0.73874,     0.73974,     0.74074,     0.74174,     0.74274,     0.74374,\n",
       "           0.74474,     0.74575,     0.74675,     0.74775,     0.74875,     0.74975,     0.75075,     0.75175,     0.75275,     0.75375,     0.75475,     0.75576,     0.75676,     0.75776,     0.75876,     0.75976,     0.76076,     0.76176,     0.76276,     0.76376,     0.76476,     0.76577,     0.76677,     0.76777,\n",
       "           0.76877,     0.76977,     0.77077,     0.77177,     0.77277,     0.77377,     0.77477,     0.77578,     0.77678,     0.77778,     0.77878,     0.77978,     0.78078,     0.78178,     0.78278,     0.78378,     0.78478,     0.78579,     0.78679,     0.78779,     0.78879,     0.78979,     0.79079,     0.79179,\n",
       "           0.79279,     0.79379,     0.79479,      0.7958,      0.7968,      0.7978,      0.7988,      0.7998,      0.8008,      0.8018,      0.8028,      0.8038,      0.8048,     0.80581,     0.80681,     0.80781,     0.80881,     0.80981,     0.81081,     0.81181,     0.81281,     0.81381,     0.81481,     0.81582,\n",
       "           0.81682,     0.81782,     0.81882,     0.81982,     0.82082,     0.82182,     0.82282,     0.82382,     0.82482,     0.82583,     0.82683,     0.82783,     0.82883,     0.82983,     0.83083,     0.83183,     0.83283,     0.83383,     0.83483,     0.83584,     0.83684,     0.83784,     0.83884,     0.83984,\n",
       "           0.84084,     0.84184,     0.84284,     0.84384,     0.84484,     0.84585,     0.84685,     0.84785,     0.84885,     0.84985,     0.85085,     0.85185,     0.85285,     0.85385,     0.85485,     0.85586,     0.85686,     0.85786,     0.85886,     0.85986,     0.86086,     0.86186,     0.86286,     0.86386,\n",
       "           0.86486,     0.86587,     0.86687,     0.86787,     0.86887,     0.86987,     0.87087,     0.87187,     0.87287,     0.87387,     0.87487,     0.87588,     0.87688,     0.87788,     0.87888,     0.87988,     0.88088,     0.88188,     0.88288,     0.88388,     0.88488,     0.88589,     0.88689,     0.88789,\n",
       "           0.88889,     0.88989,     0.89089,     0.89189,     0.89289,     0.89389,     0.89489,      0.8959,      0.8969,      0.8979,      0.8989,      0.8999,      0.9009,      0.9019,      0.9029,      0.9039,      0.9049,     0.90591,     0.90691,     0.90791,     0.90891,     0.90991,     0.91091,     0.91191,\n",
       "           0.91291,     0.91391,     0.91491,     0.91592,     0.91692,     0.91792,     0.91892,     0.91992,     0.92092,     0.92192,     0.92292,     0.92392,     0.92492,     0.92593,     0.92693,     0.92793,     0.92893,     0.92993,     0.93093,     0.93193,     0.93293,     0.93393,     0.93493,     0.93594,\n",
       "           0.93694,     0.93794,     0.93894,     0.93994,     0.94094,     0.94194,     0.94294,     0.94394,     0.94494,     0.94595,     0.94695,     0.94795,     0.94895,     0.94995,     0.95095,     0.95195,     0.95295,     0.95395,     0.95495,     0.95596,     0.95696,     0.95796,     0.95896,     0.95996,\n",
       "           0.96096,     0.96196,     0.96296,     0.96396,     0.96496,     0.96597,     0.96697,     0.96797,     0.96897,     0.96997,     0.97097,     0.97197,     0.97297,     0.97397,     0.97497,     0.97598,     0.97698,     0.97798,     0.97898,     0.97998,     0.98098,     0.98198,     0.98298,     0.98398,\n",
       "           0.98498,     0.98599,     0.98699,     0.98799,     0.98899,     0.98999,     0.99099,     0.99199,     0.99299,     0.99399,     0.99499,       0.996,       0.997,       0.998,       0.999,           1]), array([[          1,           1,           1,           1,           1,           1,           1,           1,           1,           1,           1,           1,           1,           1,           1,           1,           1,           1,           1,           1,           1,           1,           1,\n",
       "                  1,           1,           1,           1,           1,           1,           1,           1,           1,           1,           1,           1,           1,           1,           1,           1,           1,           1,           1,           1,           1,           1,           1,\n",
       "                  1,           1,     0.83333,     0.83333,     0.83333,     0.83333,     0.83333,     0.83333,     0.83333,     0.83333,     0.83333,     0.83333,     0.83333,     0.83333,     0.83333,     0.83333,     0.83333,     0.83333,     0.83333,     0.83333,     0.83333,     0.83333,     0.83333,\n",
       "            0.83333,     0.83333,     0.83333,     0.83333,     0.83333,     0.83333,     0.83333,     0.83333,     0.83333,     0.83333,     0.83333,     0.66667,     0.66667,     0.66667,     0.66667,     0.66667,     0.66667,     0.66667,     0.66667,     0.66667,     0.66667,     0.66667,     0.66667,\n",
       "            0.66667,     0.66667,     0.66667,     0.66667,         0.5,         0.5,         0.5,         0.5,         0.5,         0.5,         0.5,         0.5,         0.5,         0.5,         0.5,         0.5,         0.5,         0.5,         0.5,         0.5,         0.5,         0.5,         0.5,\n",
       "                0.5,         0.5,         0.5,         0.5,         0.5,         0.5,         0.5,         0.5,         0.5,         0.5,         0.5,         0.5,         0.5,         0.5,         0.5,         0.5,         0.5,         0.5,         0.5,         0.5,         0.5,         0.5,         0.5,\n",
       "                0.5,         0.5,         0.5,         0.5,         0.5,     0.41379,     0.41379,     0.41379,     0.41379,     0.41379,     0.41379,     0.41379,     0.41379,     0.41379,     0.41379,     0.41379,     0.41379,     0.41379,     0.41379,     0.41379,     0.41379,     0.41379,     0.41379,\n",
       "            0.41379,     0.41379,     0.41379,     0.41379,     0.41379,     0.41379,     0.41379,     0.41379,     0.41379,     0.41379,     0.41379,     0.41379,     0.41379,     0.41379,     0.41379,     0.41379,     0.41379,     0.41379,     0.41379,     0.41379,     0.41379,     0.41379,     0.41379,\n",
       "            0.41379,     0.41379,     0.41379,     0.41379,     0.41379,     0.41379,     0.41379,     0.40541,     0.40541,     0.40541,     0.40541,     0.40541,     0.40541,     0.40541,     0.40541,     0.40541,     0.40541,     0.40541,     0.40541,     0.40541,     0.40541,     0.40541,     0.40541,\n",
       "            0.40541,     0.40541,     0.40541,     0.40541,     0.40541,     0.40541,     0.40541,     0.40541,     0.40541,     0.40541,     0.40541,     0.40541,     0.40541,     0.40541,     0.40541,     0.40541,     0.40541,     0.40541,     0.40541,     0.40541,     0.40541,     0.40541,     0.40541,\n",
       "            0.40541,     0.40541,     0.40541,     0.40541,     0.40541,     0.40541,     0.40541,     0.40541,     0.30508,     0.30508,     0.30508,     0.30508,     0.30508,     0.30508,     0.30508,     0.30508,     0.30508,     0.30508,     0.30508,     0.30508,     0.30508,     0.30508,     0.30508,\n",
       "            0.30508,     0.30508,     0.30508,     0.30508,     0.30508,     0.30508,     0.30508,     0.30508,     0.30508,     0.30508,     0.30508,     0.30508,     0.30508,     0.30508,     0.30508,     0.30508,     0.30508,     0.30508,     0.30508,     0.30508,     0.30508,     0.30508,     0.30508,\n",
       "            0.30508,     0.30508,     0.30508,     0.30508,     0.30508,     0.30508,     0.30508,     0.30508,     0.30508,     0.30508,     0.26027,     0.26027,     0.26027,     0.26027,     0.26027,     0.26027,     0.26027,     0.26027,     0.26027,     0.26027,     0.26027,     0.26027,     0.26027,\n",
       "            0.26027,     0.26027,     0.26027,     0.22472,     0.22472,     0.22472,     0.22472,     0.22472,     0.22472,     0.22472,     0.22472,     0.22472,     0.22472,     0.22472,     0.22472,     0.22472,     0.22472,     0.22472,     0.22472,     0.21849,     0.21849,     0.21849,     0.21849,\n",
       "            0.21849,     0.21849,     0.21849,     0.21849,     0.21849,     0.21849,     0.21849,     0.21849,     0.21849,     0.21849,     0.21849,     0.21849,     0.21849,     0.21849,     0.21849,     0.21849,     0.21849,     0.21849,     0.21849,     0.21849,     0.21849,     0.21849,     0.21849,\n",
       "            0.21849,     0.21849,     0.21849,     0.21849,     0.21849,     0.21849,     0.21849,     0.21849,     0.21849,     0.21849,     0.21849,     0.21849,     0.21849,     0.21849,     0.21849,     0.21849,     0.21849,     0.21849,     0.21849,     0.21849,     0.21849,     0.21849,     0.21849,\n",
       "            0.21849,     0.21849,     0.21849,     0.21849,     0.21849,     0.21849,     0.21849,     0.21849,     0.21849,     0.21849,     0.21849,     0.21849,     0.21849,     0.21849,     0.21849,     0.21849,     0.21849,     0.21849,     0.21849,     0.21849,     0.21849,     0.21849,     0.21849,\n",
       "            0.21849,     0.21849,     0.21849,     0.21849,     0.21849,     0.21849,     0.21849,     0.21849,     0.21849,     0.21849,     0.21849,     0.21849,     0.21849,     0.21849,     0.21849,     0.21849,     0.21849,     0.21849,     0.21849,     0.21849,     0.21849,     0.21849,     0.19853,\n",
       "            0.19853,     0.19853,     0.19853,     0.19853,     0.19853,     0.19853,     0.19853,     0.19853,     0.19853,     0.19853,     0.19853,     0.19853,     0.19853,     0.19853,     0.19853,     0.19048,     0.19048,     0.19048,     0.19048,     0.19048,     0.19048,     0.19048,     0.19048,\n",
       "            0.19048,     0.19048,     0.19048,     0.19048,     0.19048,     0.19048,     0.19048,     0.18831,     0.18831,     0.18831,     0.18831,     0.18831,     0.18831,     0.18831,     0.18831,     0.18831,     0.18831,     0.18831,     0.18831,     0.18831,     0.18831,     0.18831,     0.18831,\n",
       "            0.16837,     0.16837,     0.16837,     0.16837,     0.16837,     0.16837,     0.16837,     0.16837,     0.16837,     0.16837,     0.16837,     0.16837,     0.16837,     0.16837,     0.16837,     0.16837,     0.16837,     0.16837,     0.16837,     0.16837,     0.16837,     0.16837,     0.16837,\n",
       "            0.16837,     0.16837,     0.16837,     0.16837,     0.16837,     0.16837,     0.16837,     0.16837,     0.16837,     0.16837,     0.16837,     0.16837,     0.16837,     0.16837,     0.16837,     0.16837,     0.16837,     0.16837,     0.16837,     0.16837,     0.16837,     0.16837,     0.16837,\n",
       "            0.16837,     0.16837,     0.16837,     0.16837,     0.16837,     0.16837,     0.16837,     0.16837,     0.16837,     0.16837,     0.16837,     0.16837,     0.16837,     0.16837,     0.16837,     0.16837,     0.16837,     0.16837,     0.13821,     0.13821,     0.13821,     0.13821,     0.13821,\n",
       "            0.13821,     0.13821,     0.13821,     0.13821,     0.13821,     0.13821,     0.13821,     0.13821,     0.13821,     0.13821,     0.13821,     0.13109,     0.13109,     0.13109,     0.13109,     0.13109,     0.13109,     0.13109,     0.13109,     0.13109,     0.13109,     0.13109,     0.13109,\n",
       "            0.13109,     0.13109,     0.13109,     0.11974,     0.11974,     0.11974,     0.11974,     0.11974,     0.11974,     0.11974,     0.11974,     0.11974,     0.11974,     0.11974,     0.11974,     0.11974,     0.11974,     0.11974,     0.11974,     0.11974,     0.11974,     0.11974,     0.11974,\n",
       "            0.11974,     0.11974,     0.11974,     0.11974,     0.11974,     0.11974,     0.11974,     0.11974,     0.11974,     0.11974,     0.11974,     0.11974,     0.10803,     0.10803,     0.10803,     0.10803,     0.10803,     0.10803,     0.10803,     0.10803,     0.10803,     0.10803,     0.10803,\n",
       "            0.10803,     0.10803,     0.10803,     0.10803,     0.10803,     0.10803,     0.10803,     0.10803,     0.10803,     0.10803,     0.10803,     0.10803,     0.10803,     0.10803,     0.10803,     0.10803,     0.10803,     0.10803,     0.10803,     0.10803,     0.10803,      0.1005,      0.1005,\n",
       "             0.1005,      0.1005,      0.1005,      0.1005,      0.1005,      0.1005,      0.1005,      0.1005,      0.1005,      0.1005,      0.1005,      0.1005,      0.1005,      0.1005,    0.099757,    0.099757,    0.099757,    0.099757,    0.099757,    0.099757,    0.099757,    0.099757,    0.099757,\n",
       "           0.099757,    0.099757,    0.099757,    0.099757,    0.099757,    0.099757,    0.099757,    0.098655,    0.098655,    0.098655,    0.098655,    0.098655,    0.098655,    0.098655,    0.098655,    0.098655,    0.098655,    0.098655,    0.098655,    0.098655,    0.098655,    0.098655,    0.098655,\n",
       "           0.098655,    0.098655,    0.098655,    0.098655,    0.098655,    0.098655,    0.098655,    0.098655,    0.098655,    0.098655,    0.098655,    0.098655,    0.098655,    0.098655,    0.098655,    0.098655,    0.098655,    0.098655,    0.098655,    0.098655,    0.098655,    0.098655,    0.098655,\n",
       "           0.098655,    0.098655,    0.098655,    0.098655,    0.098655,    0.098655,    0.098655,    0.098655,    0.086705,    0.086705,    0.086705,    0.086705,    0.086705,    0.086705,    0.086705,    0.086705,    0.086705,    0.086705,    0.086705,    0.086705,    0.086705,    0.086705,    0.086705,\n",
       "           0.086705,    0.059202,    0.059202,    0.059202,    0.059202,    0.059202,    0.059202,    0.059202,    0.059202,    0.059202,    0.059202,    0.059202,    0.059202,    0.059202,    0.059202,    0.059202,    0.059202,     0.05347,     0.05347,     0.05347,     0.05347,     0.05347,     0.05347,\n",
       "            0.05347,     0.05347,     0.05347,     0.05347,     0.05347,     0.05347,     0.05347,     0.05347,     0.05347,     0.05347,    0.045845,    0.045845,    0.045845,    0.045845,    0.045845,    0.045845,    0.045845,    0.045845,    0.045845,    0.045845,    0.045845,    0.045845,    0.045845,\n",
       "           0.045845,    0.045845,    0.045845,    0.042535,    0.042535,    0.042535,    0.042535,    0.042535,    0.042535,    0.042535,    0.042535,    0.042535,    0.042535,    0.042535,    0.042535,    0.042535,    0.042535,    0.042535,    0.034674,    0.034674,    0.034674,    0.034674,    0.034674,\n",
       "           0.034674,    0.034674,    0.034674,    0.034674,    0.034674,    0.034674,    0.034674,    0.034674,    0.034674,    0.034674,    0.034674,    0.034182,    0.034182,    0.034182,    0.034182,    0.034182,    0.034182,    0.034182,    0.034182,    0.034182,    0.034182,    0.034182,    0.034182,\n",
       "           0.034182,    0.034182,    0.034182,    0.034182,    0.026846,    0.026846,    0.026846,    0.026846,    0.026846,    0.026846,    0.026846,    0.026846,    0.026846,    0.026846,    0.026846,    0.026846,    0.026846,    0.026846,    0.026846,    0.026846,   0.0098224,    0.009766,   0.0097095,\n",
       "          0.0096531,   0.0095966,   0.0095402,   0.0094837,   0.0094273,   0.0093708,   0.0093144,   0.0092579,   0.0092015,    0.009145,   0.0090886,   0.0090321,   0.0089757,   0.0089192,   0.0088628,   0.0088063,   0.0087499,   0.0086934,    0.008637,   0.0085805,   0.0085241,   0.0084676,   0.0084112,\n",
       "          0.0083547,   0.0082983,   0.0082418,   0.0081854,   0.0081289,   0.0080725,    0.008016,   0.0079596,   0.0079031,   0.0078467,   0.0077902,   0.0077337,   0.0076773,   0.0076208,   0.0075644,   0.0075079,   0.0074515,    0.007395,   0.0073386,   0.0072821,   0.0072257,   0.0071692,   0.0071128,\n",
       "          0.0070563,   0.0069999,   0.0069434,    0.006887,   0.0068305,   0.0067741,   0.0067176,   0.0066612,   0.0066047,   0.0065483,   0.0064918,   0.0064354,   0.0063789,   0.0063225,    0.006266,   0.0062096,   0.0061531,   0.0060967,   0.0060402,   0.0059838,   0.0059273,   0.0058709,   0.0058144,\n",
       "           0.005758,   0.0057015,   0.0056451,   0.0055886,   0.0055322,   0.0054757,   0.0054193,   0.0053628,   0.0053064,   0.0052499,   0.0051935,    0.005137,   0.0050806,   0.0050241,   0.0049677,   0.0049112,   0.0048548,   0.0047983,   0.0047419,   0.0046854,    0.004629,   0.0045725,   0.0045161,\n",
       "          0.0044596,   0.0044032,   0.0043467,   0.0042903,   0.0042338,   0.0041774,   0.0041209,   0.0040645,    0.004008,   0.0039516,   0.0038951,   0.0038386,   0.0037822,   0.0037257,   0.0036693,   0.0036128,   0.0035564,   0.0034999,   0.0034435,    0.003387,   0.0033306,   0.0032741,   0.0032177,\n",
       "          0.0031612,   0.0031048,   0.0030483,   0.0029919,   0.0029354,    0.002879,   0.0028225,   0.0027661,   0.0027096,   0.0026532,   0.0025967,   0.0025403,   0.0024838,   0.0024274,   0.0023709,   0.0023145,    0.002258,   0.0022016,   0.0021451,   0.0020887,   0.0020322,   0.0019758,   0.0019193,\n",
       "          0.0018629,   0.0018064,     0.00175,   0.0016935,   0.0016371,   0.0015806,   0.0015242,   0.0014677,   0.0014113,   0.0013548,   0.0012984,   0.0012419,   0.0011855,    0.001129,   0.0010726,   0.0010161,  0.00095966,  0.00090321,  0.00084676,  0.00079031,  0.00073386,  0.00067741,  0.00062096,\n",
       "         0.00056451,  0.00050806,  0.00045161,  0.00039516,   0.0003387,  0.00028225,   0.0002258,  0.00016935,   0.0001129,  5.6451e-05,           0]]), 'Recall', 'Precision'], [array([          0,    0.001001,    0.002002,    0.003003,    0.004004,    0.005005,    0.006006,    0.007007,    0.008008,    0.009009,     0.01001,    0.011011,    0.012012,    0.013013,    0.014014,    0.015015,    0.016016,    0.017017,    0.018018,    0.019019,     0.02002,    0.021021,    0.022022,    0.023023,\n",
       "          0.024024,    0.025025,    0.026026,    0.027027,    0.028028,    0.029029,     0.03003,    0.031031,    0.032032,    0.033033,    0.034034,    0.035035,    0.036036,    0.037037,    0.038038,    0.039039,     0.04004,    0.041041,    0.042042,    0.043043,    0.044044,    0.045045,    0.046046,    0.047047,\n",
       "          0.048048,    0.049049,     0.05005,    0.051051,    0.052052,    0.053053,    0.054054,    0.055055,    0.056056,    0.057057,    0.058058,    0.059059,     0.06006,    0.061061,    0.062062,    0.063063,    0.064064,    0.065065,    0.066066,    0.067067,    0.068068,    0.069069,     0.07007,    0.071071,\n",
       "          0.072072,    0.073073,    0.074074,    0.075075,    0.076076,    0.077077,    0.078078,    0.079079,     0.08008,    0.081081,    0.082082,    0.083083,    0.084084,    0.085085,    0.086086,    0.087087,    0.088088,    0.089089,     0.09009,    0.091091,    0.092092,    0.093093,    0.094094,    0.095095,\n",
       "          0.096096,    0.097097,    0.098098,    0.099099,      0.1001,      0.1011,      0.1021,      0.1031,      0.1041,     0.10511,     0.10611,     0.10711,     0.10811,     0.10911,     0.11011,     0.11111,     0.11211,     0.11311,     0.11411,     0.11512,     0.11612,     0.11712,     0.11812,     0.11912,\n",
       "           0.12012,     0.12112,     0.12212,     0.12312,     0.12412,     0.12513,     0.12613,     0.12713,     0.12813,     0.12913,     0.13013,     0.13113,     0.13213,     0.13313,     0.13413,     0.13514,     0.13614,     0.13714,     0.13814,     0.13914,     0.14014,     0.14114,     0.14214,     0.14314,\n",
       "           0.14414,     0.14515,     0.14615,     0.14715,     0.14815,     0.14915,     0.15015,     0.15115,     0.15215,     0.15315,     0.15415,     0.15516,     0.15616,     0.15716,     0.15816,     0.15916,     0.16016,     0.16116,     0.16216,     0.16316,     0.16416,     0.16517,     0.16617,     0.16717,\n",
       "           0.16817,     0.16917,     0.17017,     0.17117,     0.17217,     0.17317,     0.17417,     0.17518,     0.17618,     0.17718,     0.17818,     0.17918,     0.18018,     0.18118,     0.18218,     0.18318,     0.18418,     0.18519,     0.18619,     0.18719,     0.18819,     0.18919,     0.19019,     0.19119,\n",
       "           0.19219,     0.19319,     0.19419,      0.1952,      0.1962,      0.1972,      0.1982,      0.1992,      0.2002,      0.2012,      0.2022,      0.2032,      0.2042,     0.20521,     0.20621,     0.20721,     0.20821,     0.20921,     0.21021,     0.21121,     0.21221,     0.21321,     0.21421,     0.21522,\n",
       "           0.21622,     0.21722,     0.21822,     0.21922,     0.22022,     0.22122,     0.22222,     0.22322,     0.22422,     0.22523,     0.22623,     0.22723,     0.22823,     0.22923,     0.23023,     0.23123,     0.23223,     0.23323,     0.23423,     0.23524,     0.23624,     0.23724,     0.23824,     0.23924,\n",
       "           0.24024,     0.24124,     0.24224,     0.24324,     0.24424,     0.24525,     0.24625,     0.24725,     0.24825,     0.24925,     0.25025,     0.25125,     0.25225,     0.25325,     0.25425,     0.25526,     0.25626,     0.25726,     0.25826,     0.25926,     0.26026,     0.26126,     0.26226,     0.26326,\n",
       "           0.26426,     0.26527,     0.26627,     0.26727,     0.26827,     0.26927,     0.27027,     0.27127,     0.27227,     0.27327,     0.27427,     0.27528,     0.27628,     0.27728,     0.27828,     0.27928,     0.28028,     0.28128,     0.28228,     0.28328,     0.28428,     0.28529,     0.28629,     0.28729,\n",
       "           0.28829,     0.28929,     0.29029,     0.29129,     0.29229,     0.29329,     0.29429,      0.2953,      0.2963,      0.2973,      0.2983,      0.2993,      0.3003,      0.3013,      0.3023,      0.3033,      0.3043,     0.30531,     0.30631,     0.30731,     0.30831,     0.30931,     0.31031,     0.31131,\n",
       "           0.31231,     0.31331,     0.31431,     0.31532,     0.31632,     0.31732,     0.31832,     0.31932,     0.32032,     0.32132,     0.32232,     0.32332,     0.32432,     0.32533,     0.32633,     0.32733,     0.32833,     0.32933,     0.33033,     0.33133,     0.33233,     0.33333,     0.33433,     0.33534,\n",
       "           0.33634,     0.33734,     0.33834,     0.33934,     0.34034,     0.34134,     0.34234,     0.34334,     0.34434,     0.34535,     0.34635,     0.34735,     0.34835,     0.34935,     0.35035,     0.35135,     0.35235,     0.35335,     0.35435,     0.35536,     0.35636,     0.35736,     0.35836,     0.35936,\n",
       "           0.36036,     0.36136,     0.36236,     0.36336,     0.36436,     0.36537,     0.36637,     0.36737,     0.36837,     0.36937,     0.37037,     0.37137,     0.37237,     0.37337,     0.37437,     0.37538,     0.37638,     0.37738,     0.37838,     0.37938,     0.38038,     0.38138,     0.38238,     0.38338,\n",
       "           0.38438,     0.38539,     0.38639,     0.38739,     0.38839,     0.38939,     0.39039,     0.39139,     0.39239,     0.39339,     0.39439,      0.3954,      0.3964,      0.3974,      0.3984,      0.3994,      0.4004,      0.4014,      0.4024,      0.4034,      0.4044,     0.40541,     0.40641,     0.40741,\n",
       "           0.40841,     0.40941,     0.41041,     0.41141,     0.41241,     0.41341,     0.41441,     0.41542,     0.41642,     0.41742,     0.41842,     0.41942,     0.42042,     0.42142,     0.42242,     0.42342,     0.42442,     0.42543,     0.42643,     0.42743,     0.42843,     0.42943,     0.43043,     0.43143,\n",
       "           0.43243,     0.43343,     0.43443,     0.43544,     0.43644,     0.43744,     0.43844,     0.43944,     0.44044,     0.44144,     0.44244,     0.44344,     0.44444,     0.44545,     0.44645,     0.44745,     0.44845,     0.44945,     0.45045,     0.45145,     0.45245,     0.45345,     0.45445,     0.45546,\n",
       "           0.45646,     0.45746,     0.45846,     0.45946,     0.46046,     0.46146,     0.46246,     0.46346,     0.46446,     0.46547,     0.46647,     0.46747,     0.46847,     0.46947,     0.47047,     0.47147,     0.47247,     0.47347,     0.47447,     0.47548,     0.47648,     0.47748,     0.47848,     0.47948,\n",
       "           0.48048,     0.48148,     0.48248,     0.48348,     0.48448,     0.48549,     0.48649,     0.48749,     0.48849,     0.48949,     0.49049,     0.49149,     0.49249,     0.49349,     0.49449,      0.4955,      0.4965,      0.4975,      0.4985,      0.4995,      0.5005,      0.5015,      0.5025,      0.5035,\n",
       "            0.5045,     0.50551,     0.50651,     0.50751,     0.50851,     0.50951,     0.51051,     0.51151,     0.51251,     0.51351,     0.51451,     0.51552,     0.51652,     0.51752,     0.51852,     0.51952,     0.52052,     0.52152,     0.52252,     0.52352,     0.52452,     0.52553,     0.52653,     0.52753,\n",
       "           0.52853,     0.52953,     0.53053,     0.53153,     0.53253,     0.53353,     0.53453,     0.53554,     0.53654,     0.53754,     0.53854,     0.53954,     0.54054,     0.54154,     0.54254,     0.54354,     0.54454,     0.54555,     0.54655,     0.54755,     0.54855,     0.54955,     0.55055,     0.55155,\n",
       "           0.55255,     0.55355,     0.55455,     0.55556,     0.55656,     0.55756,     0.55856,     0.55956,     0.56056,     0.56156,     0.56256,     0.56356,     0.56456,     0.56557,     0.56657,     0.56757,     0.56857,     0.56957,     0.57057,     0.57157,     0.57257,     0.57357,     0.57457,     0.57558,\n",
       "           0.57658,     0.57758,     0.57858,     0.57958,     0.58058,     0.58158,     0.58258,     0.58358,     0.58458,     0.58559,     0.58659,     0.58759,     0.58859,     0.58959,     0.59059,     0.59159,     0.59259,     0.59359,     0.59459,      0.5956,      0.5966,      0.5976,      0.5986,      0.5996,\n",
       "            0.6006,      0.6016,      0.6026,      0.6036,      0.6046,     0.60561,     0.60661,     0.60761,     0.60861,     0.60961,     0.61061,     0.61161,     0.61261,     0.61361,     0.61461,     0.61562,     0.61662,     0.61762,     0.61862,     0.61962,     0.62062,     0.62162,     0.62262,     0.62362,\n",
       "           0.62462,     0.62563,     0.62663,     0.62763,     0.62863,     0.62963,     0.63063,     0.63163,     0.63263,     0.63363,     0.63463,     0.63564,     0.63664,     0.63764,     0.63864,     0.63964,     0.64064,     0.64164,     0.64264,     0.64364,     0.64464,     0.64565,     0.64665,     0.64765,\n",
       "           0.64865,     0.64965,     0.65065,     0.65165,     0.65265,     0.65365,     0.65465,     0.65566,     0.65666,     0.65766,     0.65866,     0.65966,     0.66066,     0.66166,     0.66266,     0.66366,     0.66466,     0.66567,     0.66667,     0.66767,     0.66867,     0.66967,     0.67067,     0.67167,\n",
       "           0.67267,     0.67367,     0.67467,     0.67568,     0.67668,     0.67768,     0.67868,     0.67968,     0.68068,     0.68168,     0.68268,     0.68368,     0.68468,     0.68569,     0.68669,     0.68769,     0.68869,     0.68969,     0.69069,     0.69169,     0.69269,     0.69369,     0.69469,      0.6957,\n",
       "            0.6967,      0.6977,      0.6987,      0.6997,      0.7007,      0.7017,      0.7027,      0.7037,      0.7047,     0.70571,     0.70671,     0.70771,     0.70871,     0.70971,     0.71071,     0.71171,     0.71271,     0.71371,     0.71471,     0.71572,     0.71672,     0.71772,     0.71872,     0.71972,\n",
       "           0.72072,     0.72172,     0.72272,     0.72372,     0.72472,     0.72573,     0.72673,     0.72773,     0.72873,     0.72973,     0.73073,     0.73173,     0.73273,     0.73373,     0.73473,     0.73574,     0.73674,     0.73774,     0.73874,     0.73974,     0.74074,     0.74174,     0.74274,     0.74374,\n",
       "           0.74474,     0.74575,     0.74675,     0.74775,     0.74875,     0.74975,     0.75075,     0.75175,     0.75275,     0.75375,     0.75475,     0.75576,     0.75676,     0.75776,     0.75876,     0.75976,     0.76076,     0.76176,     0.76276,     0.76376,     0.76476,     0.76577,     0.76677,     0.76777,\n",
       "           0.76877,     0.76977,     0.77077,     0.77177,     0.77277,     0.77377,     0.77477,     0.77578,     0.77678,     0.77778,     0.77878,     0.77978,     0.78078,     0.78178,     0.78278,     0.78378,     0.78478,     0.78579,     0.78679,     0.78779,     0.78879,     0.78979,     0.79079,     0.79179,\n",
       "           0.79279,     0.79379,     0.79479,      0.7958,      0.7968,      0.7978,      0.7988,      0.7998,      0.8008,      0.8018,      0.8028,      0.8038,      0.8048,     0.80581,     0.80681,     0.80781,     0.80881,     0.80981,     0.81081,     0.81181,     0.81281,     0.81381,     0.81481,     0.81582,\n",
       "           0.81682,     0.81782,     0.81882,     0.81982,     0.82082,     0.82182,     0.82282,     0.82382,     0.82482,     0.82583,     0.82683,     0.82783,     0.82883,     0.82983,     0.83083,     0.83183,     0.83283,     0.83383,     0.83483,     0.83584,     0.83684,     0.83784,     0.83884,     0.83984,\n",
       "           0.84084,     0.84184,     0.84284,     0.84384,     0.84484,     0.84585,     0.84685,     0.84785,     0.84885,     0.84985,     0.85085,     0.85185,     0.85285,     0.85385,     0.85485,     0.85586,     0.85686,     0.85786,     0.85886,     0.85986,     0.86086,     0.86186,     0.86286,     0.86386,\n",
       "           0.86486,     0.86587,     0.86687,     0.86787,     0.86887,     0.86987,     0.87087,     0.87187,     0.87287,     0.87387,     0.87487,     0.87588,     0.87688,     0.87788,     0.87888,     0.87988,     0.88088,     0.88188,     0.88288,     0.88388,     0.88488,     0.88589,     0.88689,     0.88789,\n",
       "           0.88889,     0.88989,     0.89089,     0.89189,     0.89289,     0.89389,     0.89489,      0.8959,      0.8969,      0.8979,      0.8989,      0.8999,      0.9009,      0.9019,      0.9029,      0.9039,      0.9049,     0.90591,     0.90691,     0.90791,     0.90891,     0.90991,     0.91091,     0.91191,\n",
       "           0.91291,     0.91391,     0.91491,     0.91592,     0.91692,     0.91792,     0.91892,     0.91992,     0.92092,     0.92192,     0.92292,     0.92392,     0.92492,     0.92593,     0.92693,     0.92793,     0.92893,     0.92993,     0.93093,     0.93193,     0.93293,     0.93393,     0.93493,     0.93594,\n",
       "           0.93694,     0.93794,     0.93894,     0.93994,     0.94094,     0.94194,     0.94294,     0.94394,     0.94494,     0.94595,     0.94695,     0.94795,     0.94895,     0.94995,     0.95095,     0.95195,     0.95295,     0.95395,     0.95495,     0.95596,     0.95696,     0.95796,     0.95896,     0.95996,\n",
       "           0.96096,     0.96196,     0.96296,     0.96396,     0.96496,     0.96597,     0.96697,     0.96797,     0.96897,     0.96997,     0.97097,     0.97197,     0.97297,     0.97397,     0.97497,     0.97598,     0.97698,     0.97798,     0.97898,     0.97998,     0.98098,     0.98198,     0.98298,     0.98398,\n",
       "           0.98498,     0.98599,     0.98699,     0.98799,     0.98899,     0.98999,     0.99099,     0.99199,     0.99299,     0.99399,     0.99499,       0.996,       0.997,       0.998,       0.999,           1]), array([[   0.019461,    0.019466,    0.039879,    0.053374,    0.063743,    0.069099,    0.076591,    0.081182,    0.086452,    0.089487,    0.093499,    0.098379,     0.10213,     0.10681,     0.11181,     0.11597,     0.12046,     0.12568,     0.13091,      0.1389,     0.14238,       0.146,     0.15266,\n",
       "            0.15484,      0.1591,     0.16359,     0.16969,      0.1671,     0.16755,     0.16918,      0.1692,     0.17293,     0.17302,     0.17426,     0.17845,     0.18214,     0.17709,     0.17983,      0.1832,     0.18771,     0.19119,     0.19609,     0.19845,     0.19474,     0.19622,     0.19999,\n",
       "            0.20459,     0.20678,     0.21133,     0.20927,     0.21447,     0.21902,     0.22001,     0.21661,     0.21874,     0.22284,     0.22666,     0.23223,     0.23705,     0.24357,     0.24399,     0.24441,     0.25001,      0.2513,     0.25385,     0.24945,     0.23745,     0.24187,     0.23825,\n",
       "             0.2397,     0.24132,     0.24319,     0.24754,      0.2526,     0.25427,      0.2553,     0.25817,     0.25959,     0.26254,      0.2666,     0.26015,     0.26022,     0.26117,     0.26229,     0.26454,     0.26645,     0.26119,     0.26369,     0.26542,     0.27032,     0.26363,     0.26787,\n",
       "            0.27101,     0.27526,     0.27738,     0.27996,      0.2852,     0.27861,     0.27124,     0.27237,     0.26771,     0.26135,     0.25838,     0.25009,     0.25157,     0.25274,     0.25426,     0.24543,     0.24605,     0.24666,     0.24908,     0.25026,     0.25103,     0.25201,     0.25467,\n",
       "            0.25812,     0.25891,      0.2597,     0.26182,     0.25211,     0.25505,      0.2559,     0.25675,     0.26337,     0.26859,      0.2705,     0.27343,     0.27399,     0.27454,     0.27509,     0.27585,     0.27681,     0.27808,     0.27253,     0.26932,      0.2704,      0.2723,     0.27328,\n",
       "            0.27397,     0.27466,     0.27809,     0.27956,     0.28081,     0.28307,     0.28627,     0.28715,     0.28801,     0.28884,     0.28966,      0.2904,     0.29085,      0.2913,     0.29174,     0.29218,     0.29262,     0.29316,     0.29372,     0.29427,     0.29482,     0.29308,     0.28924,\n",
       "             0.2854,     0.28156,     0.28218,     0.28296,     0.28078,      0.2786,     0.27642,     0.27424,     0.27205,     0.26986,     0.26914,     0.26956,     0.26997,     0.27039,      0.2708,      0.2713,     0.27332,     0.27341,     0.26511,     0.26323,     0.26406,     0.26488,     0.26557,\n",
       "            0.26591,     0.26624,     0.26657,      0.2669,     0.26722,     0.26755,     0.26795,     0.26949,     0.27111,     0.27282,     0.27438,     0.27544,     0.27592,      0.2764,     0.27687,     0.27734,     0.27781,     0.27834,     0.27887,     0.27939,     0.27991,     0.28189,     0.28933,\n",
       "            0.29122,      0.2952,     0.29675,     0.29944,      0.2924,     0.28298,     0.27517,     0.26736,     0.26018,     0.25321,     0.24758,     0.24851,     0.24943,     0.25031,     0.25113,     0.25194,     0.25392,     0.25742,     0.25896,     0.26017,     0.25861,     0.25312,     0.24763,\n",
       "            0.24212,     0.23318,     0.22396,     0.22269,     0.22326,     0.22383,     0.22439,     0.22567,     0.22667,     0.22463,      0.2226,     0.22056,     0.21852,     0.21648,     0.21444,      0.2124,     0.21036,     0.20831,     0.20696,     0.20716,     0.20736,     0.20756,     0.20776,\n",
       "            0.20796,     0.20815,     0.20835,     0.20854,     0.20874,     0.20893,     0.20912,     0.20931,     0.20955,     0.20978,     0.21001,     0.21023,     0.21046,     0.21068,     0.21091,     0.21113,     0.21135,     0.21157,     0.21184,     0.21256,     0.21326,     0.21396,     0.21443,\n",
       "            0.21472,       0.215,     0.21528,     0.21555,     0.21583,      0.2161,     0.21637,     0.21664,     0.21694,     0.21737,      0.2178,     0.21823,     0.21865,     0.21906,     0.21947,     0.22029,     0.22113,     0.22195,     0.21461,     0.20314,     0.19822,     0.19577,     0.19331,\n",
       "            0.19085,      0.1884,     0.18593,     0.18347,       0.181,     0.17853,     0.17724,     0.17728,     0.17732,     0.17737,     0.17741,     0.17746,      0.1775,     0.17754,     0.17759,     0.17763,     0.17767,     0.17772,     0.17776,      0.1778,     0.17785,     0.17789,     0.17793,\n",
       "            0.17798,     0.17802,     0.17806,      0.1781,     0.17815,     0.17819,     0.17823,     0.17827,     0.17832,     0.17836,      0.1784,     0.17844,     0.17848,     0.17853,     0.17857,     0.17861,     0.17865,     0.17869,     0.17873,     0.17878,     0.17882,     0.17886,      0.1789,\n",
       "            0.17894,     0.17898,     0.17902,     0.17906,      0.1791,     0.17914,     0.17918,     0.17923,     0.17927,     0.17931,     0.17935,     0.17939,     0.17943,     0.17947,     0.17965,     0.17998,      0.1803,     0.18062,     0.18094,     0.18125,     0.18155,     0.18173,     0.18091,\n",
       "            0.18009,     0.17927,     0.17845,     0.17762,      0.1768,     0.17598,     0.17516,     0.17433,     0.17351,     0.17269,     0.17186,     0.17104,     0.17021,     0.16939,     0.16856,     0.16774,     0.16691,     0.16609,     0.16526,     0.16443,     0.16361,     0.16278,     0.16195,\n",
       "            0.16112,     0.16029,     0.15946,     0.15863,     0.15792,     0.15817,     0.15841,     0.15865,     0.15889,     0.15912,     0.15935,     0.15958,      0.1598,     0.16003,     0.16034,     0.16065,     0.16095,     0.16124,     0.16153,     0.16181,     0.16208,     0.16228,     0.16243,\n",
       "            0.16259,     0.16274,     0.16289,     0.16305,     0.16319,     0.16334,     0.16349,     0.16363,     0.16377,     0.16391,     0.16405,     0.16419,     0.16433,     0.16459,     0.16492,     0.16525,     0.16557,     0.16588,     0.16618,     0.16648,     0.16628,     0.16513,     0.16399,\n",
       "            0.16284,     0.16169,     0.16054,     0.15939,     0.15824,     0.15708,     0.15593,     0.15478,     0.15362,     0.15247,     0.15131,     0.15015,     0.14899,     0.14783,     0.14667,     0.14551,     0.14435,     0.14319,     0.14202,     0.14086,     0.14118,     0.14151,     0.14183,\n",
       "            0.14213,     0.14243,     0.14271,     0.14289,     0.14296,     0.14303,      0.1431,     0.14317,     0.14324,      0.1433,     0.14337,     0.14344,      0.1435,     0.14357,     0.14363,      0.1437,     0.14376,     0.14382,     0.14388,     0.14395,     0.14401,     0.14407,     0.14413,\n",
       "            0.14419,     0.14425,     0.14431,     0.14436,     0.14442,     0.14448,     0.14454,     0.14459,     0.14465,     0.14471,     0.14476,     0.14482,     0.14487,     0.14492,     0.14435,     0.14374,     0.14312,      0.1425,     0.14188,     0.14126,     0.14064,     0.14002,      0.1394,\n",
       "            0.13878,     0.13816,     0.13753,     0.13691,     0.13629,     0.13567,     0.13505,     0.13442,      0.1338,     0.13317,     0.13255,     0.13193,      0.1313,     0.13068,     0.13005,     0.12942,      0.1288,     0.12817,     0.12755,     0.12692,     0.12629,     0.12566,     0.12503,\n",
       "            0.12441,     0.12378,     0.12315,     0.12252,     0.12189,     0.12126,     0.12063,        0.12,     0.11936,     0.11873,      0.1181,     0.11663,     0.11302,      0.1094,     0.10577,     0.10213,    0.098477,    0.094815,    0.091142,    0.089557,    0.089566,    0.089575,    0.089583,\n",
       "           0.089592,    0.089601,    0.089609,    0.089618,    0.089627,    0.089635,    0.089644,    0.089652,    0.089661,    0.089669,    0.089678,    0.089686,    0.089694,    0.089703,    0.089711,    0.089719,    0.089728,    0.089736,    0.089744,    0.089752,    0.089761,    0.089769,    0.089777,\n",
       "           0.089785,    0.089793,    0.089801,    0.089809,    0.089817,    0.089825,    0.089833,    0.089841,    0.089849,    0.089857,    0.089865,    0.089873,     0.08988,    0.089888,    0.089896,    0.089904,    0.089911,    0.089919,    0.089927,    0.089935,    0.089942,     0.08995,    0.089957,\n",
       "           0.089965,    0.089973,     0.08998,    0.089988,    0.089995,    0.090003,     0.09001,    0.090017,    0.090025,    0.090032,     0.09004,    0.090047,    0.090054,    0.090062,    0.090069,    0.090076,    0.090083,    0.090091,    0.090098,    0.090105,    0.090112,    0.090119,    0.090126,\n",
       "           0.090134,    0.090141,    0.090148,    0.090155,    0.090162,    0.090169,    0.090176,    0.090183,     0.09019,    0.090197,    0.090204,     0.09021,    0.090217,    0.090224,    0.090231,    0.090238,    0.090245,    0.090251,    0.090258,    0.090265,    0.090272,    0.090278,    0.090285,\n",
       "           0.090292,    0.090298,    0.090305,    0.090312,    0.090318,    0.090325,    0.090331,    0.090338,    0.090344,    0.090351,    0.090357,    0.090364,     0.09037,    0.090377,    0.090383,     0.09039,    0.090396,    0.090402,    0.090409,    0.090415,    0.090421,    0.090428,    0.090434,\n",
       "            0.09044,    0.090447,    0.090453,    0.090459,    0.090465,    0.090471,    0.090478,    0.090484,     0.09049,    0.090496,    0.090502,    0.090508,    0.090514,     0.09052,    0.090526,    0.090532,    0.090539,    0.090545,     0.09055,    0.090556,    0.090562,    0.090568,    0.090574,\n",
       "            0.09058,    0.090586,    0.090592,    0.090598,    0.090604,     0.09061,    0.090615,    0.090621,    0.090627,    0.090633,    0.090639,    0.090644,     0.09065,    0.090656,    0.090661,    0.090667,    0.090673,    0.090679,    0.090684,     0.09069,    0.090695,    0.090701,    0.090707,\n",
       "           0.090712,    0.090718,    0.090723,    0.090729,    0.090734,     0.09074,    0.090745,    0.090751,    0.090756,    0.090762,    0.090767,    0.090773,    0.090778,    0.090784,    0.090789,    0.090794,      0.0908,    0.090805,     0.09081,    0.090816,    0.090821,    0.090826,    0.090832,\n",
       "           0.090837,    0.090842,    0.090847,    0.090853,    0.090858,    0.090863,    0.090868,    0.090874,    0.090879,    0.090884,    0.090889,    0.090894,    0.090899,    0.090904,     0.09073,    0.088823,    0.086913,    0.084999,    0.083081,    0.081159,    0.079234,    0.077304,    0.075371,\n",
       "           0.073434,    0.071493,    0.069547,    0.067598,    0.065646,    0.063689,    0.061728,    0.060926,    0.060248,     0.05957,    0.058891,    0.058212,    0.057532,    0.056851,     0.05617,    0.055489,    0.054807,    0.054125,    0.053442,    0.052759,    0.052075,    0.051391,    0.050706,\n",
       "           0.050021,    0.049336,     0.04865,    0.047963,    0.047276,    0.046588,      0.0459,    0.045212,    0.044523,    0.043833,    0.043143,    0.042453,    0.041762,     0.04107,    0.040378,    0.039686,    0.038993,      0.0383,    0.037606,    0.036911,    0.036216,    0.035521,    0.034825,\n",
       "           0.034129,    0.033432,    0.032735,    0.032037,    0.031338,           0,           0,           0,           0,           0,           0,           0,           0,           0,           0,           0,           0,           0,           0,           0,           0,           0,           0,\n",
       "                  0,           0,           0,           0,           0,           0,           0,           0,           0,           0,           0,           0,           0,           0,           0,           0,           0,           0,           0,           0,           0,           0,           0,\n",
       "                  0,           0,           0,           0,           0,           0,           0,           0,           0,           0,           0,           0,           0,           0,           0,           0,           0,           0,           0,           0,           0,           0,           0,\n",
       "                  0,           0,           0,           0,           0,           0,           0,           0,           0,           0,           0,           0,           0,           0,           0,           0,           0,           0,           0,           0,           0,           0,           0,\n",
       "                  0,           0,           0,           0,           0,           0,           0,           0,           0,           0,           0,           0,           0,           0,           0,           0,           0,           0,           0,           0,           0,           0,           0,\n",
       "                  0,           0,           0,           0,           0,           0,           0,           0,           0,           0,           0,           0,           0,           0,           0,           0,           0,           0,           0,           0,           0,           0,           0,\n",
       "                  0,           0,           0,           0,           0,           0,           0,           0,           0,           0,           0,           0,           0,           0,           0,           0,           0,           0,           0,           0,           0,           0,           0,\n",
       "                  0,           0,           0,           0,           0,           0,           0,           0,           0,           0,           0,           0,           0,           0,           0,           0,           0,           0,           0,           0,           0,           0,           0,\n",
       "                  0,           0,           0,           0,           0,           0,           0,           0,           0,           0,           0]]), 'Confidence', 'F1'], [array([          0,    0.001001,    0.002002,    0.003003,    0.004004,    0.005005,    0.006006,    0.007007,    0.008008,    0.009009,     0.01001,    0.011011,    0.012012,    0.013013,    0.014014,    0.015015,    0.016016,    0.017017,    0.018018,    0.019019,     0.02002,    0.021021,    0.022022,    0.023023,\n",
       "          0.024024,    0.025025,    0.026026,    0.027027,    0.028028,    0.029029,     0.03003,    0.031031,    0.032032,    0.033033,    0.034034,    0.035035,    0.036036,    0.037037,    0.038038,    0.039039,     0.04004,    0.041041,    0.042042,    0.043043,    0.044044,    0.045045,    0.046046,    0.047047,\n",
       "          0.048048,    0.049049,     0.05005,    0.051051,    0.052052,    0.053053,    0.054054,    0.055055,    0.056056,    0.057057,    0.058058,    0.059059,     0.06006,    0.061061,    0.062062,    0.063063,    0.064064,    0.065065,    0.066066,    0.067067,    0.068068,    0.069069,     0.07007,    0.071071,\n",
       "          0.072072,    0.073073,    0.074074,    0.075075,    0.076076,    0.077077,    0.078078,    0.079079,     0.08008,    0.081081,    0.082082,    0.083083,    0.084084,    0.085085,    0.086086,    0.087087,    0.088088,    0.089089,     0.09009,    0.091091,    0.092092,    0.093093,    0.094094,    0.095095,\n",
       "          0.096096,    0.097097,    0.098098,    0.099099,      0.1001,      0.1011,      0.1021,      0.1031,      0.1041,     0.10511,     0.10611,     0.10711,     0.10811,     0.10911,     0.11011,     0.11111,     0.11211,     0.11311,     0.11411,     0.11512,     0.11612,     0.11712,     0.11812,     0.11912,\n",
       "           0.12012,     0.12112,     0.12212,     0.12312,     0.12412,     0.12513,     0.12613,     0.12713,     0.12813,     0.12913,     0.13013,     0.13113,     0.13213,     0.13313,     0.13413,     0.13514,     0.13614,     0.13714,     0.13814,     0.13914,     0.14014,     0.14114,     0.14214,     0.14314,\n",
       "           0.14414,     0.14515,     0.14615,     0.14715,     0.14815,     0.14915,     0.15015,     0.15115,     0.15215,     0.15315,     0.15415,     0.15516,     0.15616,     0.15716,     0.15816,     0.15916,     0.16016,     0.16116,     0.16216,     0.16316,     0.16416,     0.16517,     0.16617,     0.16717,\n",
       "           0.16817,     0.16917,     0.17017,     0.17117,     0.17217,     0.17317,     0.17417,     0.17518,     0.17618,     0.17718,     0.17818,     0.17918,     0.18018,     0.18118,     0.18218,     0.18318,     0.18418,     0.18519,     0.18619,     0.18719,     0.18819,     0.18919,     0.19019,     0.19119,\n",
       "           0.19219,     0.19319,     0.19419,      0.1952,      0.1962,      0.1972,      0.1982,      0.1992,      0.2002,      0.2012,      0.2022,      0.2032,      0.2042,     0.20521,     0.20621,     0.20721,     0.20821,     0.20921,     0.21021,     0.21121,     0.21221,     0.21321,     0.21421,     0.21522,\n",
       "           0.21622,     0.21722,     0.21822,     0.21922,     0.22022,     0.22122,     0.22222,     0.22322,     0.22422,     0.22523,     0.22623,     0.22723,     0.22823,     0.22923,     0.23023,     0.23123,     0.23223,     0.23323,     0.23423,     0.23524,     0.23624,     0.23724,     0.23824,     0.23924,\n",
       "           0.24024,     0.24124,     0.24224,     0.24324,     0.24424,     0.24525,     0.24625,     0.24725,     0.24825,     0.24925,     0.25025,     0.25125,     0.25225,     0.25325,     0.25425,     0.25526,     0.25626,     0.25726,     0.25826,     0.25926,     0.26026,     0.26126,     0.26226,     0.26326,\n",
       "           0.26426,     0.26527,     0.26627,     0.26727,     0.26827,     0.26927,     0.27027,     0.27127,     0.27227,     0.27327,     0.27427,     0.27528,     0.27628,     0.27728,     0.27828,     0.27928,     0.28028,     0.28128,     0.28228,     0.28328,     0.28428,     0.28529,     0.28629,     0.28729,\n",
       "           0.28829,     0.28929,     0.29029,     0.29129,     0.29229,     0.29329,     0.29429,      0.2953,      0.2963,      0.2973,      0.2983,      0.2993,      0.3003,      0.3013,      0.3023,      0.3033,      0.3043,     0.30531,     0.30631,     0.30731,     0.30831,     0.30931,     0.31031,     0.31131,\n",
       "           0.31231,     0.31331,     0.31431,     0.31532,     0.31632,     0.31732,     0.31832,     0.31932,     0.32032,     0.32132,     0.32232,     0.32332,     0.32432,     0.32533,     0.32633,     0.32733,     0.32833,     0.32933,     0.33033,     0.33133,     0.33233,     0.33333,     0.33433,     0.33534,\n",
       "           0.33634,     0.33734,     0.33834,     0.33934,     0.34034,     0.34134,     0.34234,     0.34334,     0.34434,     0.34535,     0.34635,     0.34735,     0.34835,     0.34935,     0.35035,     0.35135,     0.35235,     0.35335,     0.35435,     0.35536,     0.35636,     0.35736,     0.35836,     0.35936,\n",
       "           0.36036,     0.36136,     0.36236,     0.36336,     0.36436,     0.36537,     0.36637,     0.36737,     0.36837,     0.36937,     0.37037,     0.37137,     0.37237,     0.37337,     0.37437,     0.37538,     0.37638,     0.37738,     0.37838,     0.37938,     0.38038,     0.38138,     0.38238,     0.38338,\n",
       "           0.38438,     0.38539,     0.38639,     0.38739,     0.38839,     0.38939,     0.39039,     0.39139,     0.39239,     0.39339,     0.39439,      0.3954,      0.3964,      0.3974,      0.3984,      0.3994,      0.4004,      0.4014,      0.4024,      0.4034,      0.4044,     0.40541,     0.40641,     0.40741,\n",
       "           0.40841,     0.40941,     0.41041,     0.41141,     0.41241,     0.41341,     0.41441,     0.41542,     0.41642,     0.41742,     0.41842,     0.41942,     0.42042,     0.42142,     0.42242,     0.42342,     0.42442,     0.42543,     0.42643,     0.42743,     0.42843,     0.42943,     0.43043,     0.43143,\n",
       "           0.43243,     0.43343,     0.43443,     0.43544,     0.43644,     0.43744,     0.43844,     0.43944,     0.44044,     0.44144,     0.44244,     0.44344,     0.44444,     0.44545,     0.44645,     0.44745,     0.44845,     0.44945,     0.45045,     0.45145,     0.45245,     0.45345,     0.45445,     0.45546,\n",
       "           0.45646,     0.45746,     0.45846,     0.45946,     0.46046,     0.46146,     0.46246,     0.46346,     0.46446,     0.46547,     0.46647,     0.46747,     0.46847,     0.46947,     0.47047,     0.47147,     0.47247,     0.47347,     0.47447,     0.47548,     0.47648,     0.47748,     0.47848,     0.47948,\n",
       "           0.48048,     0.48148,     0.48248,     0.48348,     0.48448,     0.48549,     0.48649,     0.48749,     0.48849,     0.48949,     0.49049,     0.49149,     0.49249,     0.49349,     0.49449,      0.4955,      0.4965,      0.4975,      0.4985,      0.4995,      0.5005,      0.5015,      0.5025,      0.5035,\n",
       "            0.5045,     0.50551,     0.50651,     0.50751,     0.50851,     0.50951,     0.51051,     0.51151,     0.51251,     0.51351,     0.51451,     0.51552,     0.51652,     0.51752,     0.51852,     0.51952,     0.52052,     0.52152,     0.52252,     0.52352,     0.52452,     0.52553,     0.52653,     0.52753,\n",
       "           0.52853,     0.52953,     0.53053,     0.53153,     0.53253,     0.53353,     0.53453,     0.53554,     0.53654,     0.53754,     0.53854,     0.53954,     0.54054,     0.54154,     0.54254,     0.54354,     0.54454,     0.54555,     0.54655,     0.54755,     0.54855,     0.54955,     0.55055,     0.55155,\n",
       "           0.55255,     0.55355,     0.55455,     0.55556,     0.55656,     0.55756,     0.55856,     0.55956,     0.56056,     0.56156,     0.56256,     0.56356,     0.56456,     0.56557,     0.56657,     0.56757,     0.56857,     0.56957,     0.57057,     0.57157,     0.57257,     0.57357,     0.57457,     0.57558,\n",
       "           0.57658,     0.57758,     0.57858,     0.57958,     0.58058,     0.58158,     0.58258,     0.58358,     0.58458,     0.58559,     0.58659,     0.58759,     0.58859,     0.58959,     0.59059,     0.59159,     0.59259,     0.59359,     0.59459,      0.5956,      0.5966,      0.5976,      0.5986,      0.5996,\n",
       "            0.6006,      0.6016,      0.6026,      0.6036,      0.6046,     0.60561,     0.60661,     0.60761,     0.60861,     0.60961,     0.61061,     0.61161,     0.61261,     0.61361,     0.61461,     0.61562,     0.61662,     0.61762,     0.61862,     0.61962,     0.62062,     0.62162,     0.62262,     0.62362,\n",
       "           0.62462,     0.62563,     0.62663,     0.62763,     0.62863,     0.62963,     0.63063,     0.63163,     0.63263,     0.63363,     0.63463,     0.63564,     0.63664,     0.63764,     0.63864,     0.63964,     0.64064,     0.64164,     0.64264,     0.64364,     0.64464,     0.64565,     0.64665,     0.64765,\n",
       "           0.64865,     0.64965,     0.65065,     0.65165,     0.65265,     0.65365,     0.65465,     0.65566,     0.65666,     0.65766,     0.65866,     0.65966,     0.66066,     0.66166,     0.66266,     0.66366,     0.66466,     0.66567,     0.66667,     0.66767,     0.66867,     0.66967,     0.67067,     0.67167,\n",
       "           0.67267,     0.67367,     0.67467,     0.67568,     0.67668,     0.67768,     0.67868,     0.67968,     0.68068,     0.68168,     0.68268,     0.68368,     0.68468,     0.68569,     0.68669,     0.68769,     0.68869,     0.68969,     0.69069,     0.69169,     0.69269,     0.69369,     0.69469,      0.6957,\n",
       "            0.6967,      0.6977,      0.6987,      0.6997,      0.7007,      0.7017,      0.7027,      0.7037,      0.7047,     0.70571,     0.70671,     0.70771,     0.70871,     0.70971,     0.71071,     0.71171,     0.71271,     0.71371,     0.71471,     0.71572,     0.71672,     0.71772,     0.71872,     0.71972,\n",
       "           0.72072,     0.72172,     0.72272,     0.72372,     0.72472,     0.72573,     0.72673,     0.72773,     0.72873,     0.72973,     0.73073,     0.73173,     0.73273,     0.73373,     0.73473,     0.73574,     0.73674,     0.73774,     0.73874,     0.73974,     0.74074,     0.74174,     0.74274,     0.74374,\n",
       "           0.74474,     0.74575,     0.74675,     0.74775,     0.74875,     0.74975,     0.75075,     0.75175,     0.75275,     0.75375,     0.75475,     0.75576,     0.75676,     0.75776,     0.75876,     0.75976,     0.76076,     0.76176,     0.76276,     0.76376,     0.76476,     0.76577,     0.76677,     0.76777,\n",
       "           0.76877,     0.76977,     0.77077,     0.77177,     0.77277,     0.77377,     0.77477,     0.77578,     0.77678,     0.77778,     0.77878,     0.77978,     0.78078,     0.78178,     0.78278,     0.78378,     0.78478,     0.78579,     0.78679,     0.78779,     0.78879,     0.78979,     0.79079,     0.79179,\n",
       "           0.79279,     0.79379,     0.79479,      0.7958,      0.7968,      0.7978,      0.7988,      0.7998,      0.8008,      0.8018,      0.8028,      0.8038,      0.8048,     0.80581,     0.80681,     0.80781,     0.80881,     0.80981,     0.81081,     0.81181,     0.81281,     0.81381,     0.81481,     0.81582,\n",
       "           0.81682,     0.81782,     0.81882,     0.81982,     0.82082,     0.82182,     0.82282,     0.82382,     0.82482,     0.82583,     0.82683,     0.82783,     0.82883,     0.82983,     0.83083,     0.83183,     0.83283,     0.83383,     0.83483,     0.83584,     0.83684,     0.83784,     0.83884,     0.83984,\n",
       "           0.84084,     0.84184,     0.84284,     0.84384,     0.84484,     0.84585,     0.84685,     0.84785,     0.84885,     0.84985,     0.85085,     0.85185,     0.85285,     0.85385,     0.85485,     0.85586,     0.85686,     0.85786,     0.85886,     0.85986,     0.86086,     0.86186,     0.86286,     0.86386,\n",
       "           0.86486,     0.86587,     0.86687,     0.86787,     0.86887,     0.86987,     0.87087,     0.87187,     0.87287,     0.87387,     0.87487,     0.87588,     0.87688,     0.87788,     0.87888,     0.87988,     0.88088,     0.88188,     0.88288,     0.88388,     0.88488,     0.88589,     0.88689,     0.88789,\n",
       "           0.88889,     0.88989,     0.89089,     0.89189,     0.89289,     0.89389,     0.89489,      0.8959,      0.8969,      0.8979,      0.8989,      0.8999,      0.9009,      0.9019,      0.9029,      0.9039,      0.9049,     0.90591,     0.90691,     0.90791,     0.90891,     0.90991,     0.91091,     0.91191,\n",
       "           0.91291,     0.91391,     0.91491,     0.91592,     0.91692,     0.91792,     0.91892,     0.91992,     0.92092,     0.92192,     0.92292,     0.92392,     0.92492,     0.92593,     0.92693,     0.92793,     0.92893,     0.92993,     0.93093,     0.93193,     0.93293,     0.93393,     0.93493,     0.93594,\n",
       "           0.93694,     0.93794,     0.93894,     0.93994,     0.94094,     0.94194,     0.94294,     0.94394,     0.94494,     0.94595,     0.94695,     0.94795,     0.94895,     0.94995,     0.95095,     0.95195,     0.95295,     0.95395,     0.95495,     0.95596,     0.95696,     0.95796,     0.95896,     0.95996,\n",
       "           0.96096,     0.96196,     0.96296,     0.96396,     0.96496,     0.96597,     0.96697,     0.96797,     0.96897,     0.96997,     0.97097,     0.97197,     0.97297,     0.97397,     0.97497,     0.97598,     0.97698,     0.97798,     0.97898,     0.97998,     0.98098,     0.98198,     0.98298,     0.98398,\n",
       "           0.98498,     0.98599,     0.98699,     0.98799,     0.98899,     0.98999,     0.99099,     0.99199,     0.99299,     0.99399,     0.99499,       0.996,       0.997,       0.998,       0.999,           1]), array([[  0.0098466,   0.0098492,    0.020433,    0.027597,    0.033178,    0.036156,    0.040279,    0.042875,    0.045826,    0.047598,    0.049875,    0.052662,    0.054907,    0.057622,    0.060654,    0.063106,    0.065777,    0.068901,    0.072056,    0.076928,    0.079071,    0.081308,    0.085465,\n",
       "           0.087075,    0.089773,    0.092642,    0.096578,    0.095521,    0.096038,    0.097231,    0.097603,     0.10009,     0.10056,      0.1014,     0.10425,     0.10678,     0.10426,     0.10617,     0.10852,     0.11171,     0.11418,     0.11769,      0.1194,     0.11807,     0.11915,     0.12194,\n",
       "            0.12538,     0.12703,     0.13048,      0.1298,     0.13383,     0.13739,     0.13817,     0.13654,     0.13823,     0.14152,     0.14462,     0.14918,     0.15319,     0.15868,     0.15903,     0.15939,     0.16419,     0.16531,     0.16751,     0.16545,     0.15815,      0.1621,     0.16072,\n",
       "            0.16204,     0.16352,     0.16525,     0.16929,     0.17406,     0.17565,     0.17663,     0.17939,     0.18076,     0.18364,     0.18764,      0.1836,     0.18396,     0.18492,     0.18604,     0.18832,     0.19033,     0.18783,     0.19042,     0.19224,     0.19742,     0.19368,     0.19829,\n",
       "            0.20175,      0.2065,     0.20889,     0.21183,     0.21789,     0.21466,      0.2106,     0.21196,     0.20959,     0.20661,     0.20528,     0.19925,     0.20202,     0.20353,     0.20551,     0.20005,     0.20086,     0.20168,     0.20493,     0.20654,     0.20759,     0.20894,     0.21261,\n",
       "            0.21748,      0.2186,     0.21972,      0.2237,     0.21658,     0.22095,     0.22223,     0.22351,     0.23374,      0.2421,     0.24522,     0.25008,     0.25101,     0.25194,     0.25287,     0.25416,      0.2558,     0.25797,     0.25472,     0.25471,     0.25664,     0.26009,     0.26189,\n",
       "            0.26316,     0.26443,     0.27086,     0.27366,     0.27608,     0.28048,     0.28683,     0.28859,     0.29035,     0.29203,     0.29371,     0.29525,     0.29618,      0.2971,     0.29802,     0.29895,     0.29987,     0.30101,     0.30218,     0.30335,     0.30453,     0.30338,     0.30011,\n",
       "            0.29685,     0.29359,     0.29571,     0.29792,     0.29603,     0.29413,     0.29223,     0.29034,     0.28844,     0.28654,     0.28624,     0.28719,     0.28813,     0.28908,     0.29002,     0.29117,     0.29586,     0.29969,     0.29225,     0.29431,     0.29638,     0.29846,     0.30022,\n",
       "            0.30107,     0.30192,     0.30277,     0.30362,     0.30447,     0.30533,     0.30638,     0.31041,     0.31475,      0.3194,     0.32371,     0.32669,     0.32803,     0.32938,     0.33073,     0.33207,     0.33343,     0.33496,     0.33649,     0.33802,     0.33955,     0.34542,     0.36867,\n",
       "            0.37485,     0.38835,     0.39375,     0.40338,     0.39808,     0.38903,     0.38124,     0.37347,     0.36612,     0.35891,      0.3536,     0.35742,     0.36124,     0.36495,     0.36846,     0.37197,     0.38073,      0.3969,     0.40435,      0.4103,     0.41131,     0.40529,     0.39927,\n",
       "            0.39326,     0.38296,     0.37236,     0.37299,     0.37623,     0.37946,     0.38269,     0.39023,     0.39926,     0.39675,     0.39425,     0.39175,     0.38924,     0.38674,     0.38424,     0.38173,     0.37923,     0.37673,     0.37541,     0.37674,     0.37807,      0.3794,     0.38073,\n",
       "            0.38206,     0.38339,     0.38472,     0.38605,     0.38738,     0.38871,     0.39004,     0.39139,     0.39301,     0.39464,     0.39626,     0.39789,     0.39951,     0.40114,     0.40276,     0.40439,     0.40601,     0.40764,     0.40967,     0.41509,     0.42052,     0.42595,     0.42975,\n",
       "            0.43204,     0.43433,     0.43662,     0.43891,      0.4412,     0.44349,     0.44577,     0.44806,     0.45058,     0.45437,     0.45816,     0.46195,     0.46574,     0.46953,     0.47331,     0.48102,     0.48915,     0.49728,      0.4899,     0.47472,     0.46799,     0.46442,     0.46084,\n",
       "            0.45727,     0.45369,     0.45012,     0.44655,     0.44297,      0.4394,     0.43775,     0.43829,     0.43883,     0.43937,     0.43991,     0.44045,     0.44099,     0.44154,     0.44208,     0.44262,     0.44316,      0.4437,     0.44424,     0.44478,     0.44532,     0.44586,      0.4464,\n",
       "            0.44694,     0.44748,     0.44802,     0.44856,      0.4491,     0.44964,     0.45018,     0.45072,     0.45126,      0.4518,     0.45234,     0.45288,     0.45342,     0.45396,      0.4545,     0.45504,     0.45558,     0.45612,     0.45666,      0.4572,     0.45774,     0.45829,     0.45883,\n",
       "            0.45937,     0.45991,     0.46045,     0.46099,     0.46153,     0.46207,     0.46261,     0.46315,     0.46369,     0.46423,     0.46477,     0.46531,     0.46585,     0.46639,     0.46887,     0.47339,      0.4779,     0.48242,     0.48694,     0.49145,     0.49597,     0.49986,     0.49853,\n",
       "             0.4972,     0.49588,     0.49455,     0.49323,      0.4919,     0.49057,     0.48925,     0.48792,     0.48659,     0.48527,     0.48394,     0.48262,     0.48129,     0.47996,     0.47864,     0.47731,     0.47598,     0.47466,     0.47333,       0.472,     0.47068,     0.46935,     0.46803,\n",
       "             0.4667,     0.46537,     0.46405,     0.46272,       0.462,     0.46627,     0.47054,     0.47482,     0.47909,     0.48336,     0.48763,      0.4919,     0.49617,     0.50064,     0.50679,     0.51294,     0.51909,     0.52524,      0.5314,     0.53755,      0.5437,     0.54803,     0.55164,\n",
       "            0.55525,     0.55886,     0.56247,     0.56608,     0.56968,     0.57329,      0.5769,     0.58051,     0.58412,     0.58773,     0.59133,     0.59494,     0.59855,     0.60549,     0.61468,     0.62386,     0.63304,     0.64222,      0.6514,     0.66058,     0.66604,     0.66417,     0.66231,\n",
       "            0.66044,     0.65858,     0.65672,     0.65485,     0.65299,     0.65112,     0.64926,     0.64739,     0.64553,     0.64366,      0.6418,     0.63994,     0.63807,     0.63621,     0.63434,     0.63248,     0.63061,     0.62875,     0.62688,     0.62502,     0.63856,     0.65226,     0.66596,\n",
       "            0.67966,     0.69336,     0.70707,     0.71596,     0.71951,     0.72306,     0.72661,     0.73016,     0.73371,     0.73726,     0.74081,     0.74436,      0.7479,     0.75145,       0.755,     0.75855,      0.7621,     0.76565,      0.7692,     0.77275,      0.7763,     0.77984,     0.78339,\n",
       "            0.78694,     0.79049,     0.79404,     0.79759,     0.80114,     0.80469,     0.80824,     0.81179,     0.81533,     0.81888,     0.82243,     0.82598,     0.82953,     0.83308,     0.83262,     0.83186,      0.8311,     0.83033,     0.82957,     0.82881,     0.82804,     0.82728,     0.82651,\n",
       "            0.82575,     0.82499,     0.82422,     0.82346,      0.8227,     0.82193,     0.82117,      0.8204,     0.81964,     0.81888,     0.81811,     0.81735,     0.81659,     0.81582,     0.81506,     0.81429,     0.81353,     0.81277,       0.812,     0.81124,     0.81048,     0.80971,     0.80895,\n",
       "            0.80818,     0.80742,     0.80666,     0.80589,     0.80513,     0.80437,      0.8036,     0.80284,     0.80207,     0.80131,     0.80055,     0.79817,     0.79168,      0.7852,     0.77872,     0.77224,     0.76576,     0.75928,      0.7528,      0.7507,     0.75194,     0.75317,     0.75441,\n",
       "            0.75564,     0.75688,     0.75811,     0.75934,     0.76058,     0.76181,     0.76305,     0.76428,     0.76552,     0.76675,     0.76799,     0.76922,     0.77046,     0.77169,     0.77293,     0.77416,      0.7754,     0.77663,     0.77787,      0.7791,     0.78034,     0.78157,      0.7828,\n",
       "            0.78404,     0.78527,     0.78651,     0.78774,     0.78898,     0.79021,     0.79145,     0.79268,     0.79392,     0.79515,     0.79639,     0.79762,     0.79886,     0.80009,     0.80133,     0.80256,     0.80379,     0.80503,     0.80626,      0.8075,     0.80873,     0.80997,      0.8112,\n",
       "            0.81244,     0.81367,     0.81491,     0.81614,     0.81738,     0.81861,     0.81985,     0.82108,     0.82232,     0.82355,     0.82479,     0.82602,     0.82725,     0.82849,     0.82972,     0.83096,     0.83219,     0.83343,     0.83466,      0.8359,     0.83713,     0.83837,      0.8396,\n",
       "            0.84084,     0.84207,     0.84331,     0.84454,     0.84578,     0.84701,     0.84825,     0.84948,     0.85071,     0.85195,     0.85318,     0.85442,     0.85565,     0.85689,     0.85812,     0.85936,     0.86059,     0.86183,     0.86306,      0.8643,     0.86553,     0.86677,       0.868,\n",
       "            0.86924,     0.87047,      0.8717,     0.87294,     0.87417,     0.87541,     0.87664,     0.87788,     0.87911,     0.88035,     0.88158,     0.88282,     0.88405,     0.88529,     0.88652,     0.88776,     0.88899,     0.89023,     0.89146,      0.8927,     0.89393,     0.89516,      0.8964,\n",
       "            0.89763,     0.89887,      0.9001,     0.90134,     0.90257,     0.90381,     0.90504,     0.90628,     0.90751,     0.90875,     0.90998,     0.91122,     0.91245,     0.91369,     0.91492,     0.91615,     0.91739,     0.91862,     0.91986,     0.92109,     0.92233,     0.92356,      0.9248,\n",
       "            0.92603,     0.92727,      0.9285,     0.92974,     0.93097,     0.93221,     0.93344,     0.93468,     0.93591,     0.93715,     0.93838,     0.93961,     0.94085,     0.94208,     0.94332,     0.94455,     0.94579,     0.94702,     0.94826,     0.94949,     0.95073,     0.95196,      0.9532,\n",
       "            0.95443,     0.95567,      0.9569,     0.95814,     0.95937,     0.96061,     0.96184,     0.96307,     0.96431,     0.96554,     0.96678,     0.96801,     0.96925,     0.97048,     0.97172,     0.97295,     0.97419,     0.97542,     0.97666,     0.97789,     0.97913,     0.98036,      0.9816,\n",
       "            0.98283,     0.98406,      0.9853,     0.98653,     0.98777,       0.989,     0.99024,     0.99147,     0.99271,     0.99394,     0.99518,     0.99641,     0.99765,     0.99888,           1,           1,           1,           1,           1,           1,           1,           1,           1,\n",
       "                  1,           1,           1,           1,           1,           1,           1,           1,           1,           1,           1,           1,           1,           1,           1,           1,           1,           1,           1,           1,           1,           1,           1,\n",
       "                  1,           1,           1,           1,           1,           1,           1,           1,           1,           1,           1,           1,           1,           1,           1,           1,           1,           1,           1,           1,           1,           1,           1,\n",
       "                  1,           1,           1,           1,           1,           1,           1,           1,           1,           1,           1,           1,           1,           1,           1,           1,           1,           1,           1,           1,           1,           1,           1,\n",
       "                  1,           1,           1,           1,           1,           1,           1,           1,           1,           1,           1,           1,           1,           1,           1,           1,           1,           1,           1,           1,           1,           1,           1,\n",
       "                  1,           1,           1,           1,           1,           1,           1,           1,           1,           1,           1,           1,           1,           1,           1,           1,           1,           1,           1,           1,           1,           1,           1,\n",
       "                  1,           1,           1,           1,           1,           1,           1,           1,           1,           1,           1,           1,           1,           1,           1,           1,           1,           1,           1,           1,           1,           1,           1,\n",
       "                  1,           1,           1,           1,           1,           1,           1,           1,           1,           1,           1,           1,           1,           1,           1,           1,           1,           1,           1,           1,           1,           1,           1,\n",
       "                  1,           1,           1,           1,           1,           1,           1,           1,           1,           1,           1,           1,           1,           1,           1,           1,           1,           1,           1,           1,           1,           1,           1,\n",
       "                  1,           1,           1,           1,           1,           1,           1,           1,           1,           1,           1,           1,           1,           1,           1,           1,           1,           1,           1,           1,           1,           1,           1,\n",
       "                  1,           1,           1,           1,           1,           1,           1,           1,           1,           1,           1,           1,           1,           1,           1,           1,           1,           1,           1,           1,           1,           1,           1,\n",
       "                  1,           1,           1,           1,           1,           1,           1,           1,           1,           1,           1]]), 'Confidence', 'Precision'], [array([          0,    0.001001,    0.002002,    0.003003,    0.004004,    0.005005,    0.006006,    0.007007,    0.008008,    0.009009,     0.01001,    0.011011,    0.012012,    0.013013,    0.014014,    0.015015,    0.016016,    0.017017,    0.018018,    0.019019,     0.02002,    0.021021,    0.022022,    0.023023,\n",
       "          0.024024,    0.025025,    0.026026,    0.027027,    0.028028,    0.029029,     0.03003,    0.031031,    0.032032,    0.033033,    0.034034,    0.035035,    0.036036,    0.037037,    0.038038,    0.039039,     0.04004,    0.041041,    0.042042,    0.043043,    0.044044,    0.045045,    0.046046,    0.047047,\n",
       "          0.048048,    0.049049,     0.05005,    0.051051,    0.052052,    0.053053,    0.054054,    0.055055,    0.056056,    0.057057,    0.058058,    0.059059,     0.06006,    0.061061,    0.062062,    0.063063,    0.064064,    0.065065,    0.066066,    0.067067,    0.068068,    0.069069,     0.07007,    0.071071,\n",
       "          0.072072,    0.073073,    0.074074,    0.075075,    0.076076,    0.077077,    0.078078,    0.079079,     0.08008,    0.081081,    0.082082,    0.083083,    0.084084,    0.085085,    0.086086,    0.087087,    0.088088,    0.089089,     0.09009,    0.091091,    0.092092,    0.093093,    0.094094,    0.095095,\n",
       "          0.096096,    0.097097,    0.098098,    0.099099,      0.1001,      0.1011,      0.1021,      0.1031,      0.1041,     0.10511,     0.10611,     0.10711,     0.10811,     0.10911,     0.11011,     0.11111,     0.11211,     0.11311,     0.11411,     0.11512,     0.11612,     0.11712,     0.11812,     0.11912,\n",
       "           0.12012,     0.12112,     0.12212,     0.12312,     0.12412,     0.12513,     0.12613,     0.12713,     0.12813,     0.12913,     0.13013,     0.13113,     0.13213,     0.13313,     0.13413,     0.13514,     0.13614,     0.13714,     0.13814,     0.13914,     0.14014,     0.14114,     0.14214,     0.14314,\n",
       "           0.14414,     0.14515,     0.14615,     0.14715,     0.14815,     0.14915,     0.15015,     0.15115,     0.15215,     0.15315,     0.15415,     0.15516,     0.15616,     0.15716,     0.15816,     0.15916,     0.16016,     0.16116,     0.16216,     0.16316,     0.16416,     0.16517,     0.16617,     0.16717,\n",
       "           0.16817,     0.16917,     0.17017,     0.17117,     0.17217,     0.17317,     0.17417,     0.17518,     0.17618,     0.17718,     0.17818,     0.17918,     0.18018,     0.18118,     0.18218,     0.18318,     0.18418,     0.18519,     0.18619,     0.18719,     0.18819,     0.18919,     0.19019,     0.19119,\n",
       "           0.19219,     0.19319,     0.19419,      0.1952,      0.1962,      0.1972,      0.1982,      0.1992,      0.2002,      0.2012,      0.2022,      0.2032,      0.2042,     0.20521,     0.20621,     0.20721,     0.20821,     0.20921,     0.21021,     0.21121,     0.21221,     0.21321,     0.21421,     0.21522,\n",
       "           0.21622,     0.21722,     0.21822,     0.21922,     0.22022,     0.22122,     0.22222,     0.22322,     0.22422,     0.22523,     0.22623,     0.22723,     0.22823,     0.22923,     0.23023,     0.23123,     0.23223,     0.23323,     0.23423,     0.23524,     0.23624,     0.23724,     0.23824,     0.23924,\n",
       "           0.24024,     0.24124,     0.24224,     0.24324,     0.24424,     0.24525,     0.24625,     0.24725,     0.24825,     0.24925,     0.25025,     0.25125,     0.25225,     0.25325,     0.25425,     0.25526,     0.25626,     0.25726,     0.25826,     0.25926,     0.26026,     0.26126,     0.26226,     0.26326,\n",
       "           0.26426,     0.26527,     0.26627,     0.26727,     0.26827,     0.26927,     0.27027,     0.27127,     0.27227,     0.27327,     0.27427,     0.27528,     0.27628,     0.27728,     0.27828,     0.27928,     0.28028,     0.28128,     0.28228,     0.28328,     0.28428,     0.28529,     0.28629,     0.28729,\n",
       "           0.28829,     0.28929,     0.29029,     0.29129,     0.29229,     0.29329,     0.29429,      0.2953,      0.2963,      0.2973,      0.2983,      0.2993,      0.3003,      0.3013,      0.3023,      0.3033,      0.3043,     0.30531,     0.30631,     0.30731,     0.30831,     0.30931,     0.31031,     0.31131,\n",
       "           0.31231,     0.31331,     0.31431,     0.31532,     0.31632,     0.31732,     0.31832,     0.31932,     0.32032,     0.32132,     0.32232,     0.32332,     0.32432,     0.32533,     0.32633,     0.32733,     0.32833,     0.32933,     0.33033,     0.33133,     0.33233,     0.33333,     0.33433,     0.33534,\n",
       "           0.33634,     0.33734,     0.33834,     0.33934,     0.34034,     0.34134,     0.34234,     0.34334,     0.34434,     0.34535,     0.34635,     0.34735,     0.34835,     0.34935,     0.35035,     0.35135,     0.35235,     0.35335,     0.35435,     0.35536,     0.35636,     0.35736,     0.35836,     0.35936,\n",
       "           0.36036,     0.36136,     0.36236,     0.36336,     0.36436,     0.36537,     0.36637,     0.36737,     0.36837,     0.36937,     0.37037,     0.37137,     0.37237,     0.37337,     0.37437,     0.37538,     0.37638,     0.37738,     0.37838,     0.37938,     0.38038,     0.38138,     0.38238,     0.38338,\n",
       "           0.38438,     0.38539,     0.38639,     0.38739,     0.38839,     0.38939,     0.39039,     0.39139,     0.39239,     0.39339,     0.39439,      0.3954,      0.3964,      0.3974,      0.3984,      0.3994,      0.4004,      0.4014,      0.4024,      0.4034,      0.4044,     0.40541,     0.40641,     0.40741,\n",
       "           0.40841,     0.40941,     0.41041,     0.41141,     0.41241,     0.41341,     0.41441,     0.41542,     0.41642,     0.41742,     0.41842,     0.41942,     0.42042,     0.42142,     0.42242,     0.42342,     0.42442,     0.42543,     0.42643,     0.42743,     0.42843,     0.42943,     0.43043,     0.43143,\n",
       "           0.43243,     0.43343,     0.43443,     0.43544,     0.43644,     0.43744,     0.43844,     0.43944,     0.44044,     0.44144,     0.44244,     0.44344,     0.44444,     0.44545,     0.44645,     0.44745,     0.44845,     0.44945,     0.45045,     0.45145,     0.45245,     0.45345,     0.45445,     0.45546,\n",
       "           0.45646,     0.45746,     0.45846,     0.45946,     0.46046,     0.46146,     0.46246,     0.46346,     0.46446,     0.46547,     0.46647,     0.46747,     0.46847,     0.46947,     0.47047,     0.47147,     0.47247,     0.47347,     0.47447,     0.47548,     0.47648,     0.47748,     0.47848,     0.47948,\n",
       "           0.48048,     0.48148,     0.48248,     0.48348,     0.48448,     0.48549,     0.48649,     0.48749,     0.48849,     0.48949,     0.49049,     0.49149,     0.49249,     0.49349,     0.49449,      0.4955,      0.4965,      0.4975,      0.4985,      0.4995,      0.5005,      0.5015,      0.5025,      0.5035,\n",
       "            0.5045,     0.50551,     0.50651,     0.50751,     0.50851,     0.50951,     0.51051,     0.51151,     0.51251,     0.51351,     0.51451,     0.51552,     0.51652,     0.51752,     0.51852,     0.51952,     0.52052,     0.52152,     0.52252,     0.52352,     0.52452,     0.52553,     0.52653,     0.52753,\n",
       "           0.52853,     0.52953,     0.53053,     0.53153,     0.53253,     0.53353,     0.53453,     0.53554,     0.53654,     0.53754,     0.53854,     0.53954,     0.54054,     0.54154,     0.54254,     0.54354,     0.54454,     0.54555,     0.54655,     0.54755,     0.54855,     0.54955,     0.55055,     0.55155,\n",
       "           0.55255,     0.55355,     0.55455,     0.55556,     0.55656,     0.55756,     0.55856,     0.55956,     0.56056,     0.56156,     0.56256,     0.56356,     0.56456,     0.56557,     0.56657,     0.56757,     0.56857,     0.56957,     0.57057,     0.57157,     0.57257,     0.57357,     0.57457,     0.57558,\n",
       "           0.57658,     0.57758,     0.57858,     0.57958,     0.58058,     0.58158,     0.58258,     0.58358,     0.58458,     0.58559,     0.58659,     0.58759,     0.58859,     0.58959,     0.59059,     0.59159,     0.59259,     0.59359,     0.59459,      0.5956,      0.5966,      0.5976,      0.5986,      0.5996,\n",
       "            0.6006,      0.6016,      0.6026,      0.6036,      0.6046,     0.60561,     0.60661,     0.60761,     0.60861,     0.60961,     0.61061,     0.61161,     0.61261,     0.61361,     0.61461,     0.61562,     0.61662,     0.61762,     0.61862,     0.61962,     0.62062,     0.62162,     0.62262,     0.62362,\n",
       "           0.62462,     0.62563,     0.62663,     0.62763,     0.62863,     0.62963,     0.63063,     0.63163,     0.63263,     0.63363,     0.63463,     0.63564,     0.63664,     0.63764,     0.63864,     0.63964,     0.64064,     0.64164,     0.64264,     0.64364,     0.64464,     0.64565,     0.64665,     0.64765,\n",
       "           0.64865,     0.64965,     0.65065,     0.65165,     0.65265,     0.65365,     0.65465,     0.65566,     0.65666,     0.65766,     0.65866,     0.65966,     0.66066,     0.66166,     0.66266,     0.66366,     0.66466,     0.66567,     0.66667,     0.66767,     0.66867,     0.66967,     0.67067,     0.67167,\n",
       "           0.67267,     0.67367,     0.67467,     0.67568,     0.67668,     0.67768,     0.67868,     0.67968,     0.68068,     0.68168,     0.68268,     0.68368,     0.68468,     0.68569,     0.68669,     0.68769,     0.68869,     0.68969,     0.69069,     0.69169,     0.69269,     0.69369,     0.69469,      0.6957,\n",
       "            0.6967,      0.6977,      0.6987,      0.6997,      0.7007,      0.7017,      0.7027,      0.7037,      0.7047,     0.70571,     0.70671,     0.70771,     0.70871,     0.70971,     0.71071,     0.71171,     0.71271,     0.71371,     0.71471,     0.71572,     0.71672,     0.71772,     0.71872,     0.71972,\n",
       "           0.72072,     0.72172,     0.72272,     0.72372,     0.72472,     0.72573,     0.72673,     0.72773,     0.72873,     0.72973,     0.73073,     0.73173,     0.73273,     0.73373,     0.73473,     0.73574,     0.73674,     0.73774,     0.73874,     0.73974,     0.74074,     0.74174,     0.74274,     0.74374,\n",
       "           0.74474,     0.74575,     0.74675,     0.74775,     0.74875,     0.74975,     0.75075,     0.75175,     0.75275,     0.75375,     0.75475,     0.75576,     0.75676,     0.75776,     0.75876,     0.75976,     0.76076,     0.76176,     0.76276,     0.76376,     0.76476,     0.76577,     0.76677,     0.76777,\n",
       "           0.76877,     0.76977,     0.77077,     0.77177,     0.77277,     0.77377,     0.77477,     0.77578,     0.77678,     0.77778,     0.77878,     0.77978,     0.78078,     0.78178,     0.78278,     0.78378,     0.78478,     0.78579,     0.78679,     0.78779,     0.78879,     0.78979,     0.79079,     0.79179,\n",
       "           0.79279,     0.79379,     0.79479,      0.7958,      0.7968,      0.7978,      0.7988,      0.7998,      0.8008,      0.8018,      0.8028,      0.8038,      0.8048,     0.80581,     0.80681,     0.80781,     0.80881,     0.80981,     0.81081,     0.81181,     0.81281,     0.81381,     0.81481,     0.81582,\n",
       "           0.81682,     0.81782,     0.81882,     0.81982,     0.82082,     0.82182,     0.82282,     0.82382,     0.82482,     0.82583,     0.82683,     0.82783,     0.82883,     0.82983,     0.83083,     0.83183,     0.83283,     0.83383,     0.83483,     0.83584,     0.83684,     0.83784,     0.83884,     0.83984,\n",
       "           0.84084,     0.84184,     0.84284,     0.84384,     0.84484,     0.84585,     0.84685,     0.84785,     0.84885,     0.84985,     0.85085,     0.85185,     0.85285,     0.85385,     0.85485,     0.85586,     0.85686,     0.85786,     0.85886,     0.85986,     0.86086,     0.86186,     0.86286,     0.86386,\n",
       "           0.86486,     0.86587,     0.86687,     0.86787,     0.86887,     0.86987,     0.87087,     0.87187,     0.87287,     0.87387,     0.87487,     0.87588,     0.87688,     0.87788,     0.87888,     0.87988,     0.88088,     0.88188,     0.88288,     0.88388,     0.88488,     0.88589,     0.88689,     0.88789,\n",
       "           0.88889,     0.88989,     0.89089,     0.89189,     0.89289,     0.89389,     0.89489,      0.8959,      0.8969,      0.8979,      0.8989,      0.8999,      0.9009,      0.9019,      0.9029,      0.9039,      0.9049,     0.90591,     0.90691,     0.90791,     0.90891,     0.90991,     0.91091,     0.91191,\n",
       "           0.91291,     0.91391,     0.91491,     0.91592,     0.91692,     0.91792,     0.91892,     0.91992,     0.92092,     0.92192,     0.92292,     0.92392,     0.92492,     0.92593,     0.92693,     0.92793,     0.92893,     0.92993,     0.93093,     0.93193,     0.93293,     0.93393,     0.93493,     0.93594,\n",
       "           0.93694,     0.93794,     0.93894,     0.93994,     0.94094,     0.94194,     0.94294,     0.94394,     0.94494,     0.94595,     0.94695,     0.94795,     0.94895,     0.94995,     0.95095,     0.95195,     0.95295,     0.95395,     0.95495,     0.95596,     0.95696,     0.95796,     0.95896,     0.95996,\n",
       "           0.96096,     0.96196,     0.96296,     0.96396,     0.96496,     0.96597,     0.96697,     0.96797,     0.96897,     0.96997,     0.97097,     0.97197,     0.97297,     0.97397,     0.97497,     0.97598,     0.97698,     0.97798,     0.97898,     0.97998,     0.98098,     0.98198,     0.98298,     0.98398,\n",
       "           0.98498,     0.98599,     0.98699,     0.98799,     0.98899,     0.98999,     0.99099,     0.99199,     0.99299,     0.99399,     0.99499,       0.996,       0.997,       0.998,       0.999,           1]), array([[     0.8254,      0.8254,      0.8254,     0.80952,     0.80952,     0.77778,     0.77778,      0.7619,      0.7619,     0.74603,     0.74603,     0.74603,     0.73016,     0.73016,     0.71429,     0.71429,     0.71429,     0.71429,     0.71429,     0.71429,     0.71429,     0.71429,     0.71429,\n",
       "            0.69841,     0.69841,     0.69841,     0.69841,     0.66667,     0.65601,     0.65079,     0.63492,     0.63492,     0.61905,     0.61905,     0.61905,     0.61905,      0.5873,      0.5873,      0.5873,      0.5873,      0.5873,      0.5873,      0.5873,     0.55556,     0.55556,     0.55556,\n",
       "            0.55556,     0.55556,     0.55556,     0.53968,     0.53968,     0.53968,     0.53968,     0.52381,     0.52381,     0.52381,     0.52381,     0.52381,     0.52381,     0.52381,     0.52381,     0.52381,     0.52381,     0.52381,     0.52381,     0.50666,     0.47619,     0.47619,     0.46032,\n",
       "            0.46032,     0.46032,     0.46032,     0.46032,     0.46032,     0.46032,     0.46032,     0.46032,     0.46032,     0.46032,     0.46032,     0.44621,     0.44444,     0.44444,     0.44444,     0.44444,     0.44403,     0.42857,     0.42857,     0.42857,     0.42857,      0.4127,      0.4127,\n",
       "             0.4127,      0.4127,      0.4127,      0.4127,      0.4127,     0.39683,     0.38095,     0.38095,     0.37042,     0.35553,     0.34852,     0.33574,     0.33333,     0.33333,     0.33333,     0.31746,     0.31746,     0.31746,     0.31746,     0.31746,     0.31746,     0.31746,     0.31746,\n",
       "            0.31746,     0.31746,     0.31746,     0.31562,     0.30159,     0.30159,     0.30159,     0.30159,     0.30159,     0.30159,     0.30159,     0.30159,     0.30159,     0.30159,     0.30159,     0.30159,     0.30159,     0.30159,     0.29301,     0.28571,     0.28571,     0.28571,     0.28571,\n",
       "            0.28571,     0.28571,     0.28571,     0.28571,     0.28571,     0.28571,     0.28571,     0.28571,     0.28571,     0.28571,     0.28571,     0.28571,     0.28571,     0.28571,     0.28571,     0.28571,     0.28571,     0.28571,     0.28571,     0.28571,     0.28571,     0.28345,     0.27913,\n",
       "            0.27481,     0.27048,     0.26984,     0.26943,     0.26703,     0.26463,     0.26223,     0.25982,     0.25742,     0.25502,     0.25397,     0.25397,     0.25397,     0.25397,     0.25397,     0.25397,     0.25397,     0.25137,     0.24258,      0.2381,      0.2381,      0.2381,      0.2381,\n",
       "             0.2381,      0.2381,      0.2381,      0.2381,      0.2381,      0.2381,      0.2381,      0.2381,      0.2381,      0.2381,      0.2381,      0.2381,      0.2381,      0.2381,      0.2381,      0.2381,      0.2381,      0.2381,      0.2381,      0.2381,      0.2381,      0.2381,      0.2381,\n",
       "             0.2381,      0.2381,      0.2381,      0.2381,     0.23106,     0.22236,     0.21527,     0.20821,     0.20179,      0.1956,     0.19048,     0.19048,     0.19048,     0.19048,     0.19048,     0.19048,     0.19048,     0.19048,     0.19048,     0.19048,     0.18859,     0.18403,     0.17947,\n",
       "            0.17491,     0.16762,     0.16014,     0.15873,     0.15873,     0.15873,     0.15873,     0.15873,     0.15826,     0.15667,     0.15508,     0.15349,      0.1519,     0.15031,     0.14872,     0.14713,     0.14554,     0.14395,     0.14286,     0.14286,     0.14286,     0.14286,     0.14286,\n",
       "            0.14286,     0.14286,     0.14286,     0.14286,     0.14286,     0.14286,     0.14286,     0.14286,     0.14286,     0.14286,     0.14286,     0.14286,     0.14286,     0.14286,     0.14286,     0.14286,     0.14286,     0.14286,     0.14286,     0.14286,     0.14286,     0.14286,     0.14286,\n",
       "            0.14286,     0.14286,     0.14286,     0.14286,     0.14286,     0.14286,     0.14286,     0.14286,     0.14286,     0.14286,     0.14286,     0.14286,     0.14286,     0.14286,     0.14286,     0.14286,     0.14286,     0.14286,      0.1374,     0.12922,     0.12574,     0.12402,     0.12231,\n",
       "            0.12059,     0.11888,     0.11717,     0.11545,     0.11374,     0.11202,     0.11111,     0.11111,     0.11111,     0.11111,     0.11111,     0.11111,     0.11111,     0.11111,     0.11111,     0.11111,     0.11111,     0.11111,     0.11111,     0.11111,     0.11111,     0.11111,     0.11111,\n",
       "            0.11111,     0.11111,     0.11111,     0.11111,     0.11111,     0.11111,     0.11111,     0.11111,     0.11111,     0.11111,     0.11111,     0.11111,     0.11111,     0.11111,     0.11111,     0.11111,     0.11111,     0.11111,     0.11111,     0.11111,     0.11111,     0.11111,     0.11111,\n",
       "            0.11111,     0.11111,     0.11111,     0.11111,     0.11111,     0.11111,     0.11111,     0.11111,     0.11111,     0.11111,     0.11111,     0.11111,     0.11111,     0.11111,     0.11111,     0.11111,     0.11111,     0.11111,     0.11111,     0.11111,     0.11111,     0.11105,      0.1105,\n",
       "            0.10996,     0.10941,     0.10886,     0.10832,     0.10777,     0.10722,     0.10667,     0.10613,     0.10558,     0.10503,     0.10448,     0.10394,     0.10339,     0.10284,     0.10229,     0.10175,      0.1012,     0.10065,      0.1001,    0.099558,     0.09901,    0.098463,    0.097915,\n",
       "           0.097368,    0.096821,    0.096273,    0.095726,    0.095238,    0.095238,    0.095238,    0.095238,    0.095238,    0.095238,    0.095238,    0.095238,    0.095238,    0.095238,    0.095238,    0.095238,    0.095238,    0.095238,    0.095238,    0.095238,    0.095238,    0.095238,    0.095238,\n",
       "           0.095238,    0.095238,    0.095238,    0.095238,    0.095238,    0.095238,    0.095238,    0.095238,    0.095238,    0.095238,    0.095238,    0.095238,    0.095238,    0.095238,    0.095238,    0.095238,    0.095238,    0.095238,    0.095238,    0.095238,    0.094998,    0.094288,    0.093578,\n",
       "           0.092868,    0.092157,    0.091447,    0.090737,    0.090027,    0.089316,    0.088606,    0.087896,    0.087186,    0.086475,    0.085765,    0.085055,    0.084344,    0.083634,    0.082924,    0.082214,    0.081503,    0.080793,    0.080083,    0.079373,    0.079365,    0.079365,    0.079365,\n",
       "           0.079365,    0.079365,    0.079365,    0.079365,    0.079365,    0.079365,    0.079365,    0.079365,    0.079365,    0.079365,    0.079365,    0.079365,    0.079365,    0.079365,    0.079365,    0.079365,    0.079365,    0.079365,    0.079365,    0.079365,    0.079365,    0.079365,    0.079365,\n",
       "           0.079365,    0.079365,    0.079365,    0.079365,    0.079365,    0.079365,    0.079365,    0.079365,    0.079365,    0.079365,    0.079365,    0.079365,    0.079365,    0.079365,    0.079027,    0.078664,      0.0783,    0.077936,    0.077573,    0.077209,    0.076845,    0.076482,    0.076118,\n",
       "           0.075754,    0.075391,    0.075027,    0.074663,      0.0743,    0.073936,    0.073572,    0.073209,    0.072845,    0.072481,    0.072118,    0.071754,     0.07139,    0.071026,    0.070663,    0.070299,    0.069935,    0.069572,    0.069208,    0.068844,    0.068481,    0.068117,    0.067753,\n",
       "            0.06739,    0.067026,    0.066662,    0.066299,    0.065935,    0.065571,    0.065208,    0.064844,     0.06448,    0.064116,    0.063753,     0.06291,    0.060852,    0.058795,    0.056737,     0.05468,    0.052622,    0.050565,    0.048507,    0.047619,    0.047619,    0.047619,    0.047619,\n",
       "           0.047619,    0.047619,    0.047619,    0.047619,    0.047619,    0.047619,    0.047619,    0.047619,    0.047619,    0.047619,    0.047619,    0.047619,    0.047619,    0.047619,    0.047619,    0.047619,    0.047619,    0.047619,    0.047619,    0.047619,    0.047619,    0.047619,    0.047619,\n",
       "           0.047619,    0.047619,    0.047619,    0.047619,    0.047619,    0.047619,    0.047619,    0.047619,    0.047619,    0.047619,    0.047619,    0.047619,    0.047619,    0.047619,    0.047619,    0.047619,    0.047619,    0.047619,    0.047619,    0.047619,    0.047619,    0.047619,    0.047619,\n",
       "           0.047619,    0.047619,    0.047619,    0.047619,    0.047619,    0.047619,    0.047619,    0.047619,    0.047619,    0.047619,    0.047619,    0.047619,    0.047619,    0.047619,    0.047619,    0.047619,    0.047619,    0.047619,    0.047619,    0.047619,    0.047619,    0.047619,    0.047619,\n",
       "           0.047619,    0.047619,    0.047619,    0.047619,    0.047619,    0.047619,    0.047619,    0.047619,    0.047619,    0.047619,    0.047619,    0.047619,    0.047619,    0.047619,    0.047619,    0.047619,    0.047619,    0.047619,    0.047619,    0.047619,    0.047619,    0.047619,    0.047619,\n",
       "           0.047619,    0.047619,    0.047619,    0.047619,    0.047619,    0.047619,    0.047619,    0.047619,    0.047619,    0.047619,    0.047619,    0.047619,    0.047619,    0.047619,    0.047619,    0.047619,    0.047619,    0.047619,    0.047619,    0.047619,    0.047619,    0.047619,    0.047619,\n",
       "           0.047619,    0.047619,    0.047619,    0.047619,    0.047619,    0.047619,    0.047619,    0.047619,    0.047619,    0.047619,    0.047619,    0.047619,    0.047619,    0.047619,    0.047619,    0.047619,    0.047619,    0.047619,    0.047619,    0.047619,    0.047619,    0.047619,    0.047619,\n",
       "           0.047619,    0.047619,    0.047619,    0.047619,    0.047619,    0.047619,    0.047619,    0.047619,    0.047619,    0.047619,    0.047619,    0.047619,    0.047619,    0.047619,    0.047619,    0.047619,    0.047619,    0.047619,    0.047619,    0.047619,    0.047619,    0.047619,    0.047619,\n",
       "           0.047619,    0.047619,    0.047619,    0.047619,    0.047619,    0.047619,    0.047619,    0.047619,    0.047619,    0.047619,    0.047619,    0.047619,    0.047619,    0.047619,    0.047619,    0.047619,    0.047619,    0.047619,    0.047619,    0.047619,    0.047619,    0.047619,    0.047619,\n",
       "           0.047619,    0.047619,    0.047619,    0.047619,    0.047619,    0.047619,    0.047619,    0.047619,    0.047619,    0.047619,    0.047619,    0.047619,    0.047619,    0.047619,    0.047521,    0.046476,    0.045431,    0.044386,    0.043341,    0.042296,    0.041251,    0.040206,    0.039161,\n",
       "           0.038116,    0.037071,    0.036027,    0.034982,    0.033937,    0.032892,    0.031847,     0.03142,     0.03106,    0.030699,    0.030339,    0.029978,    0.029618,    0.029257,    0.028897,    0.028536,    0.028176,    0.027815,    0.027455,    0.027094,    0.026734,    0.026373,    0.026013,\n",
       "           0.025652,    0.025292,    0.024931,    0.024571,     0.02421,     0.02385,    0.023489,    0.023129,    0.022768,    0.022408,    0.022047,    0.021687,    0.021326,    0.020966,    0.020605,    0.020245,    0.019884,    0.019524,    0.019163,    0.018803,    0.018442,    0.018082,    0.017721,\n",
       "           0.017361,       0.017,     0.01664,    0.016279,    0.015919,           0,           0,           0,           0,           0,           0,           0,           0,           0,           0,           0,           0,           0,           0,           0,           0,           0,           0,\n",
       "                  0,           0,           0,           0,           0,           0,           0,           0,           0,           0,           0,           0,           0,           0,           0,           0,           0,           0,           0,           0,           0,           0,           0,\n",
       "                  0,           0,           0,           0,           0,           0,           0,           0,           0,           0,           0,           0,           0,           0,           0,           0,           0,           0,           0,           0,           0,           0,           0,\n",
       "                  0,           0,           0,           0,           0,           0,           0,           0,           0,           0,           0,           0,           0,           0,           0,           0,           0,           0,           0,           0,           0,           0,           0,\n",
       "                  0,           0,           0,           0,           0,           0,           0,           0,           0,           0,           0,           0,           0,           0,           0,           0,           0,           0,           0,           0,           0,           0,           0,\n",
       "                  0,           0,           0,           0,           0,           0,           0,           0,           0,           0,           0,           0,           0,           0,           0,           0,           0,           0,           0,           0,           0,           0,           0,\n",
       "                  0,           0,           0,           0,           0,           0,           0,           0,           0,           0,           0,           0,           0,           0,           0,           0,           0,           0,           0,           0,           0,           0,           0,\n",
       "                  0,           0,           0,           0,           0,           0,           0,           0,           0,           0,           0,           0,           0,           0,           0,           0,           0,           0,           0,           0,           0,           0,           0,\n",
       "                  0,           0,           0,           0,           0,           0,           0,           0,           0,           0,           0]]), 'Confidence', 'Recall']]\n",
       "fitness: 0.12365806865629048\n",
       "keys: ['metrics/precision(B)', 'metrics/recall(B)', 'metrics/mAP50(B)', 'metrics/mAP50-95(B)']\n",
       "maps: array([    0.11123])\n",
       "names: {0: 'Crack'}\n",
       "plot: True\n",
       "results_dict: {'metrics/precision(B)': 0.29602747830692355, 'metrics/recall(B)': 0.26703163125226187, 'metrics/mAP50(B)': 0.23547652975233369, 'metrics/mAP50-95(B)': 0.11123379520117456, 'fitness': 0.12365806865629048}\n",
       "save_dir: WindowsPath('runs/detect/train')\n",
       "speed: {'preprocess': 2.6896250875372636, 'inference': 168.22782315705953, 'loss': 0.0, 'postprocess': 5.153881876092208}\n",
       "task: 'detect'"
      ]
     },
     "execution_count": 19,
     "metadata": {},
     "output_type": "execute_result"
    }
   ],
   "source": [
    "from ultralytics import YOLO \n",
    "\n",
    "model = YOLO()\n",
    "model.train(data='data.yaml', epochs=80)"
   ]
  },
  {
   "cell_type": "code",
   "execution_count": 20,
   "id": "0826f6ee-11cc-4e61-a0dc-e19813fcf225",
   "metadata": {},
   "outputs": [
    {
     "name": "stdout",
     "output_type": "stream",
     "text": [
      "Ultralytics YOLOv8.1.18 ðŸš€ Python-3.11.4 torch-2.2.1+cpu CPU (Intel Core(TM) i7-8665U 1.90GHz)\n",
      "Model summary (fused): 168 layers, 3005843 parameters, 0 gradients, 8.1 GFLOPs\n",
      "\u001b[34m\u001b[1mval: \u001b[0mWARNING âš ï¸� E:\\crack_detection_yolov8\\valid\\images\\CFD_013_jpg.rf.ec09ad87a7993d7a5f57260a94b57d80.jpg: ignoring corrupt image/label: non-normalized or out of bounds coordinates [     1.0725]\n",
      "\u001b[34m\u001b[1mval: \u001b[0mWARNING âš ï¸� E:\\crack_detection_yolov8\\valid\\images\\CFD_029_jpg.rf.0695dea80198fb62fc98ba90bf186045.jpg: ignoring corrupt image/label: non-normalized or out of bounds coordinates [     1.0075]\n",
      "\u001b[34m\u001b[1mval: \u001b[0mWARNING âš ï¸� E:\\crack_detection_yolov8\\valid\\images\\CFD_046_jpg.rf.5189d2dbc1664763ec3863994cce6957.jpg: ignoring corrupt image/label: non-normalized or out of bounds coordinates [     1.0599]\n",
      "\u001b[34m\u001b[1mval: \u001b[0mWARNING âš ï¸� E:\\crack_detection_yolov8\\valid\\images\\CFD_075_jpg.rf.113d5bb8e1b9eeff28f5089880b27842.jpg: ignoring corrupt image/label: non-normalized or out of bounds coordinates [     1.0621]\n",
      "\u001b[34m\u001b[1mval: \u001b[0mWARNING âš ï¸� E:\\crack_detection_yolov8\\valid\\images\\CFD_080_jpg.rf.05507e6d086eb458d7a38127ad1fcdc4.jpg: ignoring corrupt image/label: non-normalized or out of bounds coordinates [     1.0365]\n",
      "\u001b[34m\u001b[1mval: \u001b[0mWARNING âš ï¸� E:\\crack_detection_yolov8\\valid\\images\\CRACK500_20160222_114759_1281_1081_jpg.rf.e041881ee6a8d7d7c7f541923a6225a0.jpg: ignoring corrupt image/label: non-normalized or out of bounds coordinates [     1.0068]\n",
      "\u001b[34m\u001b[1mval: \u001b[0mWARNING âš ï¸� E:\\crack_detection_yolov8\\valid\\images\\CRACK500_20160222_114759_1921_721_jpg.rf.4842312a2c3d2e55558399682683942d.jpg: ignoring corrupt image/label: non-normalized or out of bounds coordinates [      1.061]\n",
      "\u001b[34m\u001b[1mval: \u001b[0mWARNING âš ï¸� E:\\crack_detection_yolov8\\valid\\images\\CRACK500_20160222_114806_1281_361_jpg.rf.43709b2aaf10aeb2d494ecc233c0a069.jpg: ignoring corrupt image/label: non-normalized or out of bounds coordinates [     1.0015      1.0078]\n",
      "\u001b[34m\u001b[1mval: \u001b[0mWARNING âš ï¸� E:\\crack_detection_yolov8\\valid\\images\\CRACK500_20160222_163940_1_361_jpg.rf.a7c2581259cc88b61823d1f720f24e4a.jpg: ignoring corrupt image/label: non-normalized or out of bounds coordinates [     1.0119]\n",
      "\u001b[34m\u001b[1mval: \u001b[0mWARNING âš ï¸� E:\\crack_detection_yolov8\\valid\\images\\CRACK500_20160222_163940_641_721_jpg.rf.04965e563682a99703231ad2c19d2e76.jpg: ignoring corrupt image/label: non-normalized or out of bounds coordinates [     1.0144]\n",
      "\u001b[34m\u001b[1mval: \u001b[0mWARNING âš ï¸� E:\\crack_detection_yolov8\\valid\\images\\CRACK500_20160222_164141_1921_1_jpg.rf.a68db115726f79b7275a116e3059efa1.jpg: ignoring corrupt image/label: non-normalized or out of bounds coordinates [     1.0625]\n",
      "\u001b[34m\u001b[1mval: \u001b[0mWARNING âš ï¸� E:\\crack_detection_yolov8\\valid\\images\\CRACK500_20160222_164141_1921_721_jpg.rf.eb44e65287b8a31141edb6b92c62d565.jpg: ignoring corrupt image/label: non-normalized or out of bounds coordinates [     1.0703]\n",
      "\u001b[34m\u001b[1mval: \u001b[0mWARNING âš ï¸� E:\\crack_detection_yolov8\\valid\\images\\CRACK500_20160222_164141_1_361_jpg.rf.db804702ecd10edc7f130dd9ca0abc59.jpg: ignoring corrupt image/label: non-normalized or out of bounds coordinates [     1.1762]\n",
      "\u001b[34m\u001b[1mval: \u001b[0mWARNING âš ï¸� E:\\crack_detection_yolov8\\valid\\images\\CRACK500_20160222_165951_1281_721_jpg.rf.9019d93aab30b19466cb749814be4573.jpg: ignoring corrupt image/label: non-normalized or out of bounds coordinates [     1.1422]\n",
      "\u001b[34m\u001b[1mval: \u001b[0mWARNING âš ï¸� E:\\crack_detection_yolov8\\valid\\images\\CRACK500_20160225_114514_1_641_jpg.rf.77755168c284b31ae91a501cf647860c.jpg: ignoring corrupt image/label: non-normalized or out of bounds coordinates [     1.0163]\n",
      "                   all         19         63      0.296      0.267      0.235      0.111\n",
      "Speed: 2.7ms preprocess, 138.2ms inference, 0.0ms loss, 2.1ms postprocess per image\n",
      "Results saved to \u001b[1mruns\\detect\\val\u001b[0m\n",
      "ðŸ’¡ Learn more at https://docs.ultralytics.com/modes/val\n"
     ]
    },
    {
     "name": "stderr",
     "output_type": "stream",
     "text": [
      "\n",
      "\u001b[34m\u001b[1mval: \u001b[0mScanning E:\\crack_detection_yolov8\\valid\\labels.cache... 34 images, 0 backgrounds, 15 corrupt: 100%|##########| 34/34 [00:00<?, ?it/s]\n",
      "\u001b[34m\u001b[1mval: \u001b[0mScanning E:\\crack_detection_yolov8\\valid\\labels.cache... 34 images, 0 backgrounds, 15 corrupt: 100%|##########| 34/34 [00:00<?, ?it/s]\n",
      "\n",
      "                 Class     Images  Instances      Box(P          R      mAP50  mAP50-95):   0%|          | 0/2 [00:00<?, ?it/s]\n",
      "                 Class     Images  Instances      Box(P          R      mAP50  mAP50-95):  50%|#####     | 1/2 [00:02<00:02,  2.39s/it]\n",
      "                 Class     Images  Instances      Box(P          R      mAP50  mAP50-95): 100%|##########| 2/2 [00:02<00:00,  1.28s/it]\n",
      "                 Class     Images  Instances      Box(P          R      mAP50  mAP50-95): 100%|##########| 2/2 [00:02<00:00,  1.45s/it]\n"
     ]
    }
   ],
   "source": [
    "from ultralytics import YOLO \n",
    "\n",
    "!yolo task=detect mode=val model=\"E:/crack_detection_yolov8/runs/detect/train/weights/best.pt\" data=data.yaml"
   ]
  },
  {
   "cell_type": "code",
   "execution_count": 21,
   "id": "209d63cd-b261-4d9d-944c-7b849ef39447",
   "metadata": {},
   "outputs": [
    {
     "name": "stdout",
     "output_type": "stream",
     "text": [
      "Ultralytics YOLOv8.1.18 ðŸš€ Python-3.11.4 torch-2.2.1+cpu CPU (Intel Core(TM) i7-8665U 1.90GHz)\n",
      "Model summary (fused): 168 layers, 3005843 parameters, 0 gradients, 8.1 GFLOPs\n",
      "\n",
      "image 1/19 E:\\crack_detection_yolov8\\test\\images\\CFD_026_jpg.rf.a58371e393d9b29a3de7917eed76f3f4.jpg: 640x640 3 Cracks, 121.1ms\n",
      "image 2/19 E:\\crack_detection_yolov8\\test\\images\\CFD_031_jpg.rf.7616c67ccc1e6a6150313f08e144686e.jpg: 640x640 1 Crack, 131.1ms\n",
      "image 3/19 E:\\crack_detection_yolov8\\test\\images\\CFD_037_jpg.rf.2a12fc1fa8beee3a3dc3645dd8a2c6b4.jpg: 640x640 (no detections), 111.5ms\n",
      "image 4/19 E:\\crack_detection_yolov8\\test\\images\\CFD_043_jpg.rf.37b5220cd9d8b6d1b56e725f11df08e4.jpg: 640x640 2 Cracks, 91.2ms\n",
      "image 5/19 E:\\crack_detection_yolov8\\test\\images\\CFD_044_jpg.rf.109bb1de3fa4784e28f590505480f21a.jpg: 640x640 1 Crack, 103.3ms\n",
      "image 6/19 E:\\crack_detection_yolov8\\test\\images\\CFD_064_jpg.rf.55fa2ce98f02746c30240e659b2deca5.jpg: 640x640 1 Crack, 91.3ms\n",
      "image 7/19 E:\\crack_detection_yolov8\\test\\images\\CFD_075_jpg.rf.1ea27a8b2319f86ba6cefe7b4c519111.jpg: 640x640 3 Cracks, 97.9ms\n",
      "image 8/19 E:\\crack_detection_yolov8\\test\\images\\CFD_083_jpg.rf.70281ec7cf561f94cfea8b4d9a18825c.jpg: 640x640 (no detections), 98.7ms\n",
      "image 9/19 E:\\crack_detection_yolov8\\test\\images\\CFD_090_jpg.rf.c1ce99469e7a632348d78b4718187cb9.jpg: 640x640 1 Crack, 101.4ms\n",
      "image 10/19 E:\\crack_detection_yolov8\\test\\images\\CFD_100_jpg.rf.e2b77707fc026013cfb5077769fd8293.jpg: 640x640 2 Cracks, 113.7ms\n",
      "image 11/19 E:\\crack_detection_yolov8\\test\\images\\CFD_109_jpg.rf.643db8698ddd671360da2db5c54a647e.jpg: 640x640 1 Crack, 111.5ms\n",
      "image 12/19 E:\\crack_detection_yolov8\\test\\images\\CFD_111_jpg.rf.e0645a98dcfffb839743e794f05e11c0.jpg: 640x640 1 Crack, 101.6ms\n",
      "image 13/19 E:\\crack_detection_yolov8\\test\\images\\CRACK500_20160222_114759_1281_1_jpg.rf.366fc146f977389f9372d88b639a95bf.jpg: 640x640 2 Cracks, 91.0ms\n",
      "image 14/19 E:\\crack_detection_yolov8\\test\\images\\CRACK500_20160222_114759_1281_721_jpg.rf.858341d8ad796ea3de8fa608eb6f02af.jpg: 640x640 2 Cracks, 101.8ms\n",
      "image 15/19 E:\\crack_detection_yolov8\\test\\images\\CRACK500_20160222_114759_641_1081_jpg.rf.bef16d262fa812c42487b5e57aa1420c.jpg: 640x640 5 Cracks, 121.6ms\n",
      "image 16/19 E:\\crack_detection_yolov8\\test\\images\\CRACK500_20160222_114806_1281_721_jpg.rf.0dba2abc9d265db25597e1855e41b83e.jpg: 640x640 1 Crack, 112.4ms\n",
      "image 17/19 E:\\crack_detection_yolov8\\test\\images\\CRACK500_20160222_164141_1281_1_jpg.rf.281a87232ca4de412006d06f2f6fab65.jpg: 640x640 2 Cracks, 91.0ms\n",
      "image 18/19 E:\\crack_detection_yolov8\\test\\images\\CRACK500_20160225_114503_641_361_jpg.rf.59e980c1aadf1e2061352bb119af80bd.jpg: 640x640 1 Crack, 104.6ms\n",
      "video 19/19 (1/262) E:\\crack_detection_yolov8\\test\\images\\crack.mp4: 384x640 1 Crack, 88.5ms\n",
      "video 19/19 (2/262) E:\\crack_detection_yolov8\\test\\images\\crack.mp4: 384x640 2 Cracks, 82.5ms\n",
      "video 19/19 (3/262) E:\\crack_detection_yolov8\\test\\images\\crack.mp4: 384x640 4 Cracks, 81.2ms\n",
      "video 19/19 (4/262) E:\\crack_detection_yolov8\\test\\images\\crack.mp4: 384x640 4 Cracks, 71.1ms\n",
      "video 19/19 (5/262) E:\\crack_detection_yolov8\\test\\images\\crack.mp4: 384x640 4 Cracks, 56.1ms\n",
      "video 19/19 (6/262) E:\\crack_detection_yolov8\\test\\images\\crack.mp4: 384x640 4 Cracks, 60.6ms\n",
      "video 19/19 (7/262) E:\\crack_detection_yolov8\\test\\images\\crack.mp4: 384x640 4 Cracks, 71.0ms\n",
      "video 19/19 (8/262) E:\\crack_detection_yolov8\\test\\images\\crack.mp4: 384x640 4 Cracks, 71.1ms\n",
      "video 19/19 (9/262) E:\\crack_detection_yolov8\\test\\images\\crack.mp4: 384x640 4 Cracks, 61.0ms\n",
      "video 19/19 (10/262) E:\\crack_detection_yolov8\\test\\images\\crack.mp4: 384x640 4 Cracks, 61.1ms\n",
      "video 19/19 (11/262) E:\\crack_detection_yolov8\\test\\images\\crack.mp4: 384x640 4 Cracks, 61.2ms\n",
      "video 19/19 (12/262) E:\\crack_detection_yolov8\\test\\images\\crack.mp4: 384x640 3 Cracks, 67.2ms\n",
      "video 19/19 (13/262) E:\\crack_detection_yolov8\\test\\images\\crack.mp4: 384x640 3 Cracks, 80.4ms\n",
      "video 19/19 (14/262) E:\\crack_detection_yolov8\\test\\images\\crack.mp4: 384x640 3 Cracks, 78.2ms\n",
      "video 19/19 (15/262) E:\\crack_detection_yolov8\\test\\images\\crack.mp4: 384x640 3 Cracks, 71.9ms\n",
      "video 19/19 (16/262) E:\\crack_detection_yolov8\\test\\images\\crack.mp4: 384x640 3 Cracks, 71.4ms\n",
      "video 19/19 (17/262) E:\\crack_detection_yolov8\\test\\images\\crack.mp4: 384x640 3 Cracks, 77.3ms\n",
      "video 19/19 (18/262) E:\\crack_detection_yolov8\\test\\images\\crack.mp4: 384x640 3 Cracks, 76.7ms\n",
      "video 19/19 (19/262) E:\\crack_detection_yolov8\\test\\images\\crack.mp4: 384x640 4 Cracks, 90.4ms\n",
      "video 19/19 (20/262) E:\\crack_detection_yolov8\\test\\images\\crack.mp4: 384x640 3 Cracks, 73.7ms\n",
      "video 19/19 (21/262) E:\\crack_detection_yolov8\\test\\images\\crack.mp4: 384x640 2 Cracks, 71.1ms\n",
      "video 19/19 (22/262) E:\\crack_detection_yolov8\\test\\images\\crack.mp4: 384x640 2 Cracks, 58.2ms\n",
      "video 19/19 (23/262) E:\\crack_detection_yolov8\\test\\images\\crack.mp4: 384x640 4 Cracks, 82.2ms\n",
      "video 19/19 (24/262) E:\\crack_detection_yolov8\\test\\images\\crack.mp4: 384x640 3 Cracks, 60.7ms\n",
      "video 19/19 (25/262) E:\\crack_detection_yolov8\\test\\images\\crack.mp4: 384x640 3 Cracks, 60.8ms\n",
      "video 19/19 (26/262) E:\\crack_detection_yolov8\\test\\images\\crack.mp4: 384x640 3 Cracks, 69.8ms\n",
      "video 19/19 (27/262) E:\\crack_detection_yolov8\\test\\images\\crack.mp4: 384x640 3 Cracks, 82.4ms\n",
      "video 19/19 (28/262) E:\\crack_detection_yolov8\\test\\images\\crack.mp4: 384x640 2 Cracks, 83.8ms\n",
      "video 19/19 (29/262) E:\\crack_detection_yolov8\\test\\images\\crack.mp4: 384x640 1 Crack, 81.2ms\n",
      "video 19/19 (30/262) E:\\crack_detection_yolov8\\test\\images\\crack.mp4: 384x640 2 Cracks, 60.9ms\n",
      "video 19/19 (31/262) E:\\crack_detection_yolov8\\test\\images\\crack.mp4: 384x640 3 Cracks, 69.5ms\n",
      "video 19/19 (32/262) E:\\crack_detection_yolov8\\test\\images\\crack.mp4: 384x640 1 Crack, 80.9ms\n",
      "video 19/19 (33/262) E:\\crack_detection_yolov8\\test\\images\\crack.mp4: 384x640 2 Cracks, 101.4ms\n",
      "video 19/19 (34/262) E:\\crack_detection_yolov8\\test\\images\\crack.mp4: 384x640 2 Cracks, 90.0ms\n",
      "video 19/19 (35/262) E:\\crack_detection_yolov8\\test\\images\\crack.mp4: 384x640 2 Cracks, 101.6ms\n",
      "video 19/19 (36/262) E:\\crack_detection_yolov8\\test\\images\\crack.mp4: 384x640 2 Cracks, 94.3ms\n",
      "video 19/19 (37/262) E:\\crack_detection_yolov8\\test\\images\\crack.mp4: 384x640 2 Cracks, 91.0ms\n",
      "video 19/19 (38/262) E:\\crack_detection_yolov8\\test\\images\\crack.mp4: 384x640 3 Cracks, 101.5ms\n",
      "video 19/19 (39/262) E:\\crack_detection_yolov8\\test\\images\\crack.mp4: 384x640 2 Cracks, 111.4ms\n",
      "video 19/19 (40/262) E:\\crack_detection_yolov8\\test\\images\\crack.mp4: 384x640 3 Cracks, 91.2ms\n",
      "video 19/19 (41/262) E:\\crack_detection_yolov8\\test\\images\\crack.mp4: 384x640 3 Cracks, 91.2ms\n",
      "video 19/19 (42/262) E:\\crack_detection_yolov8\\test\\images\\crack.mp4: 384x640 3 Cracks, 101.3ms\n",
      "video 19/19 (43/262) E:\\crack_detection_yolov8\\test\\images\\crack.mp4: 384x640 2 Cracks, 92.6ms\n",
      "video 19/19 (44/262) E:\\crack_detection_yolov8\\test\\images\\crack.mp4: 384x640 4 Cracks, 111.4ms\n",
      "video 19/19 (45/262) E:\\crack_detection_yolov8\\test\\images\\crack.mp4: 384x640 3 Cracks, 127.0ms\n",
      "video 19/19 (46/262) E:\\crack_detection_yolov8\\test\\images\\crack.mp4: 384x640 4 Cracks, 91.5ms\n",
      "video 19/19 (47/262) E:\\crack_detection_yolov8\\test\\images\\crack.mp4: 384x640 3 Cracks, 91.3ms\n",
      "video 19/19 (48/262) E:\\crack_detection_yolov8\\test\\images\\crack.mp4: 384x640 1 Crack, 91.3ms\n",
      "video 19/19 (49/262) E:\\crack_detection_yolov8\\test\\images\\crack.mp4: 384x640 2 Cracks, 121.8ms\n",
      "video 19/19 (50/262) E:\\crack_detection_yolov8\\test\\images\\crack.mp4: 384x640 2 Cracks, 90.8ms\n",
      "video 19/19 (51/262) E:\\crack_detection_yolov8\\test\\images\\crack.mp4: 384x640 2 Cracks, 85.0ms\n",
      "video 19/19 (52/262) E:\\crack_detection_yolov8\\test\\images\\crack.mp4: 384x640 1 Crack, 81.4ms\n",
      "video 19/19 (53/262) E:\\crack_detection_yolov8\\test\\images\\crack.mp4: 384x640 2 Cracks, 131.8ms\n",
      "video 19/19 (54/262) E:\\crack_detection_yolov8\\test\\images\\crack.mp4: 384x640 2 Cracks, 81.3ms\n",
      "video 19/19 (55/262) E:\\crack_detection_yolov8\\test\\images\\crack.mp4: 384x640 2 Cracks, 103.6ms\n",
      "video 19/19 (56/262) E:\\crack_detection_yolov8\\test\\images\\crack.mp4: 384x640 1 Crack, 107.5ms\n",
      "video 19/19 (57/262) E:\\crack_detection_yolov8\\test\\images\\crack.mp4: 384x640 2 Cracks, 90.7ms\n",
      "video 19/19 (58/262) E:\\crack_detection_yolov8\\test\\images\\crack.mp4: 384x640 2 Cracks, 122.1ms\n",
      "video 19/19 (59/262) E:\\crack_detection_yolov8\\test\\images\\crack.mp4: 384x640 (no detections), 101.2ms\n",
      "video 19/19 (60/262) E:\\crack_detection_yolov8\\test\\images\\crack.mp4: 384x640 (no detections), 89.8ms\n",
      "video 19/19 (61/262) E:\\crack_detection_yolov8\\test\\images\\crack.mp4: 384x640 2 Cracks, 82.0ms\n",
      "video 19/19 (62/262) E:\\crack_detection_yolov8\\test\\images\\crack.mp4: 384x640 1 Crack, 112.5ms\n",
      "video 19/19 (63/262) E:\\crack_detection_yolov8\\test\\images\\crack.mp4: 384x640 (no detections), 116.7ms\n",
      "video 19/19 (64/262) E:\\crack_detection_yolov8\\test\\images\\crack.mp4: 384x640 (no detections), 115.2ms\n",
      "video 19/19 (65/262) E:\\crack_detection_yolov8\\test\\images\\crack.mp4: 384x640 1 Crack, 91.5ms\n",
      "video 19/19 (66/262) E:\\crack_detection_yolov8\\test\\images\\crack.mp4: 384x640 (no detections), 112.4ms\n",
      "video 19/19 (67/262) E:\\crack_detection_yolov8\\test\\images\\crack.mp4: 384x640 1 Crack, 101.6ms\n",
      "video 19/19 (68/262) E:\\crack_detection_yolov8\\test\\images\\crack.mp4: 384x640 (no detections), 101.8ms\n",
      "video 19/19 (69/262) E:\\crack_detection_yolov8\\test\\images\\crack.mp4: 384x640 1 Crack, 121.8ms\n",
      "video 19/19 (70/262) E:\\crack_detection_yolov8\\test\\images\\crack.mp4: 384x640 1 Crack, 109.2ms\n",
      "video 19/19 (71/262) E:\\crack_detection_yolov8\\test\\images\\crack.mp4: 384x640 1 Crack, 113.0ms\n",
      "video 19/19 (72/262) E:\\crack_detection_yolov8\\test\\images\\crack.mp4: 384x640 2 Cracks, 121.4ms\n",
      "video 19/19 (73/262) E:\\crack_detection_yolov8\\test\\images\\crack.mp4: 384x640 3 Cracks, 101.1ms\n",
      "video 19/19 (74/262) E:\\crack_detection_yolov8\\test\\images\\crack.mp4: 384x640 2 Cracks, 121.6ms\n",
      "video 19/19 (75/262) E:\\crack_detection_yolov8\\test\\images\\crack.mp4: 384x640 2 Cracks, 121.3ms\n",
      "video 19/19 (76/262) E:\\crack_detection_yolov8\\test\\images\\crack.mp4: 384x640 1 Crack, 102.2ms\n",
      "video 19/19 (77/262) E:\\crack_detection_yolov8\\test\\images\\crack.mp4: 384x640 1 Crack, 80.9ms\n",
      "video 19/19 (78/262) E:\\crack_detection_yolov8\\test\\images\\crack.mp4: 384x640 2 Cracks, 111.0ms\n",
      "video 19/19 (79/262) E:\\crack_detection_yolov8\\test\\images\\crack.mp4: 384x640 3 Cracks, 121.7ms\n",
      "video 19/19 (80/262) E:\\crack_detection_yolov8\\test\\images\\crack.mp4: 384x640 4 Cracks, 101.4ms\n",
      "video 19/19 (81/262) E:\\crack_detection_yolov8\\test\\images\\crack.mp4: 384x640 3 Cracks, 108.6ms\n",
      "video 19/19 (82/262) E:\\crack_detection_yolov8\\test\\images\\crack.mp4: 384x640 3 Cracks, 80.9ms\n",
      "video 19/19 (83/262) E:\\crack_detection_yolov8\\test\\images\\crack.mp4: 384x640 2 Cracks, 120.9ms\n",
      "video 19/19 (84/262) E:\\crack_detection_yolov8\\test\\images\\crack.mp4: 384x640 2 Cracks, 91.0ms\n",
      "video 19/19 (85/262) E:\\crack_detection_yolov8\\test\\images\\crack.mp4: 384x640 2 Cracks, 107.3ms\n",
      "video 19/19 (86/262) E:\\crack_detection_yolov8\\test\\images\\crack.mp4: 384x640 2 Cracks, 101.0ms\n",
      "video 19/19 (87/262) E:\\crack_detection_yolov8\\test\\images\\crack.mp4: 384x640 4 Cracks, 101.5ms\n",
      "video 19/19 (88/262) E:\\crack_detection_yolov8\\test\\images\\crack.mp4: 384x640 2 Cracks, 121.7ms\n",
      "video 19/19 (89/262) E:\\crack_detection_yolov8\\test\\images\\crack.mp4: 384x640 3 Cracks, 112.0ms\n",
      "video 19/19 (90/262) E:\\crack_detection_yolov8\\test\\images\\crack.mp4: 384x640 3 Cracks, 90.9ms\n",
      "video 19/19 (91/262) E:\\crack_detection_yolov8\\test\\images\\crack.mp4: 384x640 4 Cracks, 91.0ms\n",
      "video 19/19 (92/262) E:\\crack_detection_yolov8\\test\\images\\crack.mp4: 384x640 2 Cracks, 101.0ms\n",
      "video 19/19 (93/262) E:\\crack_detection_yolov8\\test\\images\\crack.mp4: 384x640 2 Cracks, 105.1ms\n",
      "video 19/19 (94/262) E:\\crack_detection_yolov8\\test\\images\\crack.mp4: 384x640 3 Cracks, 80.7ms\n",
      "video 19/19 (95/262) E:\\crack_detection_yolov8\\test\\images\\crack.mp4: 384x640 2 Cracks, 112.4ms\n",
      "video 19/19 (96/262) E:\\crack_detection_yolov8\\test\\images\\crack.mp4: 384x640 4 Cracks, 112.1ms\n",
      "video 19/19 (97/262) E:\\crack_detection_yolov8\\test\\images\\crack.mp4: 384x640 3 Cracks, 94.2ms\n",
      "video 19/19 (98/262) E:\\crack_detection_yolov8\\test\\images\\crack.mp4: 384x640 4 Cracks, 101.0ms\n",
      "video 19/19 (99/262) E:\\crack_detection_yolov8\\test\\images\\crack.mp4: 384x640 3 Cracks, 111.5ms\n",
      "video 19/19 (100/262) E:\\crack_detection_yolov8\\test\\images\\crack.mp4: 384x640 3 Cracks, 112.0ms\n",
      "video 19/19 (101/262) E:\\crack_detection_yolov8\\test\\images\\crack.mp4: 384x640 3 Cracks, 113.0ms\n",
      "video 19/19 (102/262) E:\\crack_detection_yolov8\\test\\images\\crack.mp4: 384x640 1 Crack, 100.9ms\n",
      "video 19/19 (103/262) E:\\crack_detection_yolov8\\test\\images\\crack.mp4: 384x640 3 Cracks, 82.0ms\n",
      "video 19/19 (104/262) E:\\crack_detection_yolov8\\test\\images\\crack.mp4: 384x640 2 Cracks, 112.4ms\n",
      "video 19/19 (105/262) E:\\crack_detection_yolov8\\test\\images\\crack.mp4: 384x640 4 Cracks, 132.3ms\n",
      "video 19/19 (106/262) E:\\crack_detection_yolov8\\test\\images\\crack.mp4: 384x640 2 Cracks, 111.9ms\n",
      "video 19/19 (107/262) E:\\crack_detection_yolov8\\test\\images\\crack.mp4: 384x640 3 Cracks, 114.5ms\n",
      "video 19/19 (108/262) E:\\crack_detection_yolov8\\test\\images\\crack.mp4: 384x640 2 Cracks, 122.1ms\n",
      "video 19/19 (109/262) E:\\crack_detection_yolov8\\test\\images\\crack.mp4: 384x640 4 Cracks, 92.5ms\n",
      "video 19/19 (110/262) E:\\crack_detection_yolov8\\test\\images\\crack.mp4: 384x640 3 Cracks, 121.1ms\n",
      "video 19/19 (111/262) E:\\crack_detection_yolov8\\test\\images\\crack.mp4: 384x640 2 Cracks, 111.8ms\n",
      "video 19/19 (112/262) E:\\crack_detection_yolov8\\test\\images\\crack.mp4: 384x640 2 Cracks, 117.7ms\n",
      "video 19/19 (113/262) E:\\crack_detection_yolov8\\test\\images\\crack.mp4: 384x640 2 Cracks, 111.6ms\n",
      "video 19/19 (114/262) E:\\crack_detection_yolov8\\test\\images\\crack.mp4: 384x640 2 Cracks, 100.2ms\n",
      "video 19/19 (115/262) E:\\crack_detection_yolov8\\test\\images\\crack.mp4: 384x640 2 Cracks, 111.4ms\n",
      "video 19/19 (116/262) E:\\crack_detection_yolov8\\test\\images\\crack.mp4: 384x640 2 Cracks, 102.1ms\n",
      "video 19/19 (117/262) E:\\crack_detection_yolov8\\test\\images\\crack.mp4: 384x640 2 Cracks, 122.0ms\n",
      "video 19/19 (118/262) E:\\crack_detection_yolov8\\test\\images\\crack.mp4: 384x640 2 Cracks, 89.8ms\n",
      "video 19/19 (119/262) E:\\crack_detection_yolov8\\test\\images\\crack.mp4: 384x640 1 Crack, 111.2ms\n",
      "video 19/19 (120/262) E:\\crack_detection_yolov8\\test\\images\\crack.mp4: 384x640 2 Cracks, 91.3ms\n",
      "video 19/19 (121/262) E:\\crack_detection_yolov8\\test\\images\\crack.mp4: 384x640 2 Cracks, 111.6ms\n",
      "video 19/19 (122/262) E:\\crack_detection_yolov8\\test\\images\\crack.mp4: 384x640 2 Cracks, 91.1ms\n",
      "video 19/19 (123/262) E:\\crack_detection_yolov8\\test\\images\\crack.mp4: 384x640 2 Cracks, 81.2ms\n",
      "video 19/19 (124/262) E:\\crack_detection_yolov8\\test\\images\\crack.mp4: 384x640 1 Crack, 111.4ms\n",
      "video 19/19 (125/262) E:\\crack_detection_yolov8\\test\\images\\crack.mp4: 384x640 1 Crack, 101.7ms\n",
      "video 19/19 (126/262) E:\\crack_detection_yolov8\\test\\images\\crack.mp4: 384x640 2 Cracks, 99.1ms\n",
      "video 19/19 (127/262) E:\\crack_detection_yolov8\\test\\images\\crack.mp4: 384x640 2 Cracks, 101.5ms\n",
      "video 19/19 (128/262) E:\\crack_detection_yolov8\\test\\images\\crack.mp4: 384x640 2 Cracks, 95.6ms\n",
      "video 19/19 (129/262) E:\\crack_detection_yolov8\\test\\images\\crack.mp4: 384x640 2 Cracks, 91.9ms\n",
      "video 19/19 (130/262) E:\\crack_detection_yolov8\\test\\images\\crack.mp4: 384x640 1 Crack, 90.6ms\n",
      "video 19/19 (131/262) E:\\crack_detection_yolov8\\test\\images\\crack.mp4: 384x640 2 Cracks, 101.6ms\n",
      "video 19/19 (132/262) E:\\crack_detection_yolov8\\test\\images\\crack.mp4: 384x640 2 Cracks, 116.6ms\n",
      "video 19/19 (133/262) E:\\crack_detection_yolov8\\test\\images\\crack.mp4: 384x640 2 Cracks, 111.3ms\n",
      "video 19/19 (134/262) E:\\crack_detection_yolov8\\test\\images\\crack.mp4: 384x640 3 Cracks, 81.1ms\n",
      "video 19/19 (135/262) E:\\crack_detection_yolov8\\test\\images\\crack.mp4: 384x640 2 Cracks, 90.2ms\n",
      "video 19/19 (136/262) E:\\crack_detection_yolov8\\test\\images\\crack.mp4: 384x640 2 Cracks, 100.9ms\n",
      "video 19/19 (137/262) E:\\crack_detection_yolov8\\test\\images\\crack.mp4: 384x640 2 Cracks, 112.3ms\n",
      "video 19/19 (138/262) E:\\crack_detection_yolov8\\test\\images\\crack.mp4: 384x640 2 Cracks, 91.9ms\n",
      "video 19/19 (139/262) E:\\crack_detection_yolov8\\test\\images\\crack.mp4: 384x640 3 Cracks, 102.8ms\n",
      "video 19/19 (140/262) E:\\crack_detection_yolov8\\test\\images\\crack.mp4: 384x640 3 Cracks, 101.3ms\n",
      "video 19/19 (141/262) E:\\crack_detection_yolov8\\test\\images\\crack.mp4: 384x640 3 Cracks, 101.5ms\n",
      "video 19/19 (142/262) E:\\crack_detection_yolov8\\test\\images\\crack.mp4: 384x640 3 Cracks, 89.0ms\n",
      "video 19/19 (143/262) E:\\crack_detection_yolov8\\test\\images\\crack.mp4: 384x640 3 Cracks, 111.6ms\n",
      "video 19/19 (144/262) E:\\crack_detection_yolov8\\test\\images\\crack.mp4: 384x640 2 Cracks, 114.1ms\n",
      "video 19/19 (145/262) E:\\crack_detection_yolov8\\test\\images\\crack.mp4: 384x640 2 Cracks, 110.9ms\n",
      "video 19/19 (146/262) E:\\crack_detection_yolov8\\test\\images\\crack.mp4: 384x640 2 Cracks, 121.1ms\n",
      "video 19/19 (147/262) E:\\crack_detection_yolov8\\test\\images\\crack.mp4: 384x640 2 Cracks, 130.5ms\n",
      "video 19/19 (148/262) E:\\crack_detection_yolov8\\test\\images\\crack.mp4: 384x640 2 Cracks, 122.8ms\n",
      "video 19/19 (149/262) E:\\crack_detection_yolov8\\test\\images\\crack.mp4: 384x640 2 Cracks, 91.4ms\n",
      "video 19/19 (150/262) E:\\crack_detection_yolov8\\test\\images\\crack.mp4: 384x640 2 Cracks, 101.7ms\n",
      "video 19/19 (151/262) E:\\crack_detection_yolov8\\test\\images\\crack.mp4: 384x640 1 Crack, 111.9ms\n",
      "video 19/19 (152/262) E:\\crack_detection_yolov8\\test\\images\\crack.mp4: 384x640 4 Cracks, 91.8ms\n",
      "video 19/19 (153/262) E:\\crack_detection_yolov8\\test\\images\\crack.mp4: 384x640 4 Cracks, 131.7ms\n",
      "video 19/19 (154/262) E:\\crack_detection_yolov8\\test\\images\\crack.mp4: 384x640 3 Cracks, 122.2ms\n",
      "video 19/19 (155/262) E:\\crack_detection_yolov8\\test\\images\\crack.mp4: 384x640 2 Cracks, 91.5ms\n",
      "video 19/19 (156/262) E:\\crack_detection_yolov8\\test\\images\\crack.mp4: 384x640 2 Cracks, 129.2ms\n",
      "video 19/19 (157/262) E:\\crack_detection_yolov8\\test\\images\\crack.mp4: 384x640 2 Cracks, 111.8ms\n",
      "video 19/19 (158/262) E:\\crack_detection_yolov8\\test\\images\\crack.mp4: 384x640 2 Cracks, 90.0ms\n",
      "video 19/19 (159/262) E:\\crack_detection_yolov8\\test\\images\\crack.mp4: 384x640 2 Cracks, 122.4ms\n",
      "video 19/19 (160/262) E:\\crack_detection_yolov8\\test\\images\\crack.mp4: 384x640 1 Crack, 101.2ms\n",
      "video 19/19 (161/262) E:\\crack_detection_yolov8\\test\\images\\crack.mp4: 384x640 3 Cracks, 91.1ms\n",
      "video 19/19 (162/262) E:\\crack_detection_yolov8\\test\\images\\crack.mp4: 384x640 3 Cracks, 110.0ms\n",
      "video 19/19 (163/262) E:\\crack_detection_yolov8\\test\\images\\crack.mp4: 384x640 2 Cracks, 112.2ms\n",
      "video 19/19 (164/262) E:\\crack_detection_yolov8\\test\\images\\crack.mp4: 384x640 2 Cracks, 91.1ms\n",
      "video 19/19 (165/262) E:\\crack_detection_yolov8\\test\\images\\crack.mp4: 384x640 2 Cracks, 121.5ms\n",
      "video 19/19 (166/262) E:\\crack_detection_yolov8\\test\\images\\crack.mp4: 384x640 2 Cracks, 120.3ms\n",
      "video 19/19 (167/262) E:\\crack_detection_yolov8\\test\\images\\crack.mp4: 384x640 3 Cracks, 121.4ms\n",
      "video 19/19 (168/262) E:\\crack_detection_yolov8\\test\\images\\crack.mp4: 384x640 2 Cracks, 110.6ms\n",
      "video 19/19 (169/262) E:\\crack_detection_yolov8\\test\\images\\crack.mp4: 384x640 3 Cracks, 110.9ms\n",
      "video 19/19 (170/262) E:\\crack_detection_yolov8\\test\\images\\crack.mp4: 384x640 4 Cracks, 90.8ms\n",
      "video 19/19 (171/262) E:\\crack_detection_yolov8\\test\\images\\crack.mp4: 384x640 5 Cracks, 119.8ms\n",
      "video 19/19 (172/262) E:\\crack_detection_yolov8\\test\\images\\crack.mp4: 384x640 3 Cracks, 90.2ms\n",
      "video 19/19 (173/262) E:\\crack_detection_yolov8\\test\\images\\crack.mp4: 384x640 3 Cracks, 131.3ms\n",
      "video 19/19 (174/262) E:\\crack_detection_yolov8\\test\\images\\crack.mp4: 384x640 2 Cracks, 120.5ms\n",
      "video 19/19 (175/262) E:\\crack_detection_yolov8\\test\\images\\crack.mp4: 384x640 2 Cracks, 110.9ms\n",
      "video 19/19 (176/262) E:\\crack_detection_yolov8\\test\\images\\crack.mp4: 384x640 4 Cracks, 101.9ms\n",
      "video 19/19 (177/262) E:\\crack_detection_yolov8\\test\\images\\crack.mp4: 384x640 4 Cracks, 121.9ms\n",
      "video 19/19 (178/262) E:\\crack_detection_yolov8\\test\\images\\crack.mp4: 384x640 5 Cracks, 122.6ms\n",
      "video 19/19 (179/262) E:\\crack_detection_yolov8\\test\\images\\crack.mp4: 384x640 3 Cracks, 101.6ms\n",
      "video 19/19 (180/262) E:\\crack_detection_yolov8\\test\\images\\crack.mp4: 384x640 1 Crack, 121.7ms\n",
      "video 19/19 (181/262) E:\\crack_detection_yolov8\\test\\images\\crack.mp4: 384x640 2 Cracks, 128.4ms\n",
      "video 19/19 (182/262) E:\\crack_detection_yolov8\\test\\images\\crack.mp4: 384x640 2 Cracks, 92.4ms\n",
      "video 19/19 (183/262) E:\\crack_detection_yolov8\\test\\images\\crack.mp4: 384x640 1 Crack, 101.4ms\n",
      "video 19/19 (184/262) E:\\crack_detection_yolov8\\test\\images\\crack.mp4: 384x640 1 Crack, 112.5ms\n",
      "video 19/19 (185/262) E:\\crack_detection_yolov8\\test\\images\\crack.mp4: 384x640 2 Cracks, 101.7ms\n",
      "video 19/19 (186/262) E:\\crack_detection_yolov8\\test\\images\\crack.mp4: 384x640 2 Cracks, 111.2ms\n",
      "video 19/19 (187/262) E:\\crack_detection_yolov8\\test\\images\\crack.mp4: 384x640 2 Cracks, 134.8ms\n",
      "video 19/19 (188/262) E:\\crack_detection_yolov8\\test\\images\\crack.mp4: 384x640 2 Cracks, 101.6ms\n",
      "video 19/19 (189/262) E:\\crack_detection_yolov8\\test\\images\\crack.mp4: 384x640 1 Crack, 132.1ms\n",
      "video 19/19 (190/262) E:\\crack_detection_yolov8\\test\\images\\crack.mp4: 384x640 3 Cracks, 111.4ms\n",
      "video 19/19 (191/262) E:\\crack_detection_yolov8\\test\\images\\crack.mp4: 384x640 3 Cracks, 113.6ms\n",
      "video 19/19 (192/262) E:\\crack_detection_yolov8\\test\\images\\crack.mp4: 384x640 3 Cracks, 102.2ms\n",
      "video 19/19 (193/262) E:\\crack_detection_yolov8\\test\\images\\crack.mp4: 384x640 2 Cracks, 119.7ms\n",
      "video 19/19 (194/262) E:\\crack_detection_yolov8\\test\\images\\crack.mp4: 384x640 4 Cracks, 111.3ms\n",
      "video 19/19 (195/262) E:\\crack_detection_yolov8\\test\\images\\crack.mp4: 384x640 2 Cracks, 121.5ms\n",
      "video 19/19 (196/262) E:\\crack_detection_yolov8\\test\\images\\crack.mp4: 384x640 4 Cracks, 132.1ms\n",
      "video 19/19 (197/262) E:\\crack_detection_yolov8\\test\\images\\crack.mp4: 384x640 3 Cracks, 100.2ms\n",
      "video 19/19 (198/262) E:\\crack_detection_yolov8\\test\\images\\crack.mp4: 384x640 5 Cracks, 115.2ms\n",
      "video 19/19 (199/262) E:\\crack_detection_yolov8\\test\\images\\crack.mp4: 384x640 3 Cracks, 122.6ms\n",
      "video 19/19 (200/262) E:\\crack_detection_yolov8\\test\\images\\crack.mp4: 384x640 4 Cracks, 111.6ms\n",
      "video 19/19 (201/262) E:\\crack_detection_yolov8\\test\\images\\crack.mp4: 384x640 3 Cracks, 101.1ms\n",
      "video 19/19 (202/262) E:\\crack_detection_yolov8\\test\\images\\crack.mp4: 384x640 2 Cracks, 130.0ms\n",
      "video 19/19 (203/262) E:\\crack_detection_yolov8\\test\\images\\crack.mp4: 384x640 2 Cracks, 113.1ms\n",
      "video 19/19 (204/262) E:\\crack_detection_yolov8\\test\\images\\crack.mp4: 384x640 1 Crack, 101.6ms\n",
      "video 19/19 (205/262) E:\\crack_detection_yolov8\\test\\images\\crack.mp4: 384x640 2 Cracks, 98.4ms\n",
      "video 19/19 (206/262) E:\\crack_detection_yolov8\\test\\images\\crack.mp4: 384x640 3 Cracks, 93.5ms\n",
      "video 19/19 (207/262) E:\\crack_detection_yolov8\\test\\images\\crack.mp4: 384x640 3 Cracks, 90.9ms\n",
      "video 19/19 (208/262) E:\\crack_detection_yolov8\\test\\images\\crack.mp4: 384x640 2 Cracks, 111.1ms\n",
      "video 19/19 (209/262) E:\\crack_detection_yolov8\\test\\images\\crack.mp4: 384x640 3 Cracks, 102.1ms\n",
      "video 19/19 (210/262) E:\\crack_detection_yolov8\\test\\images\\crack.mp4: 384x640 3 Cracks, 111.4ms\n",
      "video 19/19 (211/262) E:\\crack_detection_yolov8\\test\\images\\crack.mp4: 384x640 3 Cracks, 112.4ms\n",
      "video 19/19 (212/262) E:\\crack_detection_yolov8\\test\\images\\crack.mp4: 384x640 3 Cracks, 91.9ms\n",
      "video 19/19 (213/262) E:\\crack_detection_yolov8\\test\\images\\crack.mp4: 384x640 2 Cracks, 101.8ms\n",
      "video 19/19 (214/262) E:\\crack_detection_yolov8\\test\\images\\crack.mp4: 384x640 1 Crack, 123.1ms\n",
      "video 19/19 (215/262) E:\\crack_detection_yolov8\\test\\images\\crack.mp4: 384x640 3 Cracks, 92.7ms\n",
      "video 19/19 (216/262) E:\\crack_detection_yolov8\\test\\images\\crack.mp4: 384x640 2 Cracks, 102.1ms\n",
      "video 19/19 (217/262) E:\\crack_detection_yolov8\\test\\images\\crack.mp4: 384x640 4 Cracks, 124.3ms\n",
      "video 19/19 (218/262) E:\\crack_detection_yolov8\\test\\images\\crack.mp4: 384x640 2 Cracks, 90.4ms\n",
      "video 19/19 (219/262) E:\\crack_detection_yolov8\\test\\images\\crack.mp4: 384x640 2 Cracks, 111.6ms\n",
      "video 19/19 (220/262) E:\\crack_detection_yolov8\\test\\images\\crack.mp4: 384x640 2 Cracks, 101.8ms\n",
      "video 19/19 (221/262) E:\\crack_detection_yolov8\\test\\images\\crack.mp4: 384x640 2 Cracks, 91.1ms\n",
      "video 19/19 (222/262) E:\\crack_detection_yolov8\\test\\images\\crack.mp4: 384x640 2 Cracks, 111.4ms\n",
      "video 19/19 (223/262) E:\\crack_detection_yolov8\\test\\images\\crack.mp4: 384x640 2 Cracks, 120.6ms\n",
      "video 19/19 (224/262) E:\\crack_detection_yolov8\\test\\images\\crack.mp4: 384x640 2 Cracks, 128.4ms\n",
      "video 19/19 (225/262) E:\\crack_detection_yolov8\\test\\images\\crack.mp4: 384x640 2 Cracks, 119.3ms\n",
      "video 19/19 (226/262) E:\\crack_detection_yolov8\\test\\images\\crack.mp4: 384x640 2 Cracks, 132.3ms\n",
      "video 19/19 (227/262) E:\\crack_detection_yolov8\\test\\images\\crack.mp4: 384x640 2 Cracks, 91.2ms\n",
      "video 19/19 (228/262) E:\\crack_detection_yolov8\\test\\images\\crack.mp4: 384x640 3 Cracks, 173.5ms\n",
      "video 19/19 (229/262) E:\\crack_detection_yolov8\\test\\images\\crack.mp4: 384x640 2 Cracks, 122.5ms\n",
      "video 19/19 (230/262) E:\\crack_detection_yolov8\\test\\images\\crack.mp4: 384x640 2 Cracks, 91.6ms\n",
      "video 19/19 (231/262) E:\\crack_detection_yolov8\\test\\images\\crack.mp4: 384x640 2 Cracks, 91.1ms\n",
      "video 19/19 (232/262) E:\\crack_detection_yolov8\\test\\images\\crack.mp4: 384x640 2 Cracks, 92.4ms\n",
      "video 19/19 (233/262) E:\\crack_detection_yolov8\\test\\images\\crack.mp4: 384x640 2 Cracks, 132.2ms\n",
      "video 19/19 (234/262) E:\\crack_detection_yolov8\\test\\images\\crack.mp4: 384x640 2 Cracks, 124.3ms\n",
      "video 19/19 (235/262) E:\\crack_detection_yolov8\\test\\images\\crack.mp4: 384x640 2 Cracks, 105.3ms\n",
      "video 19/19 (236/262) E:\\crack_detection_yolov8\\test\\images\\crack.mp4: 384x640 2 Cracks, 114.2ms\n",
      "video 19/19 (237/262) E:\\crack_detection_yolov8\\test\\images\\crack.mp4: 384x640 2 Cracks, 101.7ms\n",
      "video 19/19 (238/262) E:\\crack_detection_yolov8\\test\\images\\crack.mp4: 384x640 2 Cracks, 122.8ms\n",
      "video 19/19 (239/262) E:\\crack_detection_yolov8\\test\\images\\crack.mp4: 384x640 3 Cracks, 82.8ms\n",
      "video 19/19 (240/262) E:\\crack_detection_yolov8\\test\\images\\crack.mp4: 384x640 1 Crack, 120.5ms\n",
      "video 19/19 (241/262) E:\\crack_detection_yolov8\\test\\images\\crack.mp4: 384x640 2 Cracks, 125.4ms\n",
      "video 19/19 (242/262) E:\\crack_detection_yolov8\\test\\images\\crack.mp4: 384x640 1 Crack, 121.2ms\n",
      "video 19/19 (243/262) E:\\crack_detection_yolov8\\test\\images\\crack.mp4: 384x640 2 Cracks, 120.3ms\n",
      "video 19/19 (244/262) E:\\crack_detection_yolov8\\test\\images\\crack.mp4: 384x640 2 Cracks, 92.0ms\n",
      "video 19/19 (245/262) E:\\crack_detection_yolov8\\test\\images\\crack.mp4: 384x640 2 Cracks, 111.9ms\n",
      "video 19/19 (246/262) E:\\crack_detection_yolov8\\test\\images\\crack.mp4: 384x640 2 Cracks, 90.5ms\n",
      "video 19/19 (247/262) E:\\crack_detection_yolov8\\test\\images\\crack.mp4: 384x640 4 Cracks, 121.6ms\n",
      "video 19/19 (248/262) E:\\crack_detection_yolov8\\test\\images\\crack.mp4: 384x640 3 Cracks, 100.5ms\n",
      "video 19/19 (249/262) E:\\crack_detection_yolov8\\test\\images\\crack.mp4: 384x640 3 Cracks, 101.8ms\n",
      "video 19/19 (250/262) E:\\crack_detection_yolov8\\test\\images\\crack.mp4: 384x640 2 Cracks, 115.7ms\n",
      "video 19/19 (251/262) E:\\crack_detection_yolov8\\test\\images\\crack.mp4: 384x640 1 Crack, 121.9ms\n",
      "video 19/19 (252/262) E:\\crack_detection_yolov8\\test\\images\\crack.mp4: 384x640 1 Crack, 122.1ms\n",
      "video 19/19 (253/262) E:\\crack_detection_yolov8\\test\\images\\crack.mp4: 384x640 1 Crack, 111.4ms\n",
      "video 19/19 (254/262) E:\\crack_detection_yolov8\\test\\images\\crack.mp4: 384x640 2 Cracks, 111.8ms\n",
      "video 19/19 (255/262) E:\\crack_detection_yolov8\\test\\images\\crack.mp4: 384x640 2 Cracks, 92.7ms\n",
      "video 19/19 (256/262) E:\\crack_detection_yolov8\\test\\images\\crack.mp4: 384x640 1 Crack, 122.3ms\n",
      "video 19/19 (257/262) E:\\crack_detection_yolov8\\test\\images\\crack.mp4: 384x640 1 Crack, 92.4ms\n",
      "video 19/19 (258/262) E:\\crack_detection_yolov8\\test\\images\\crack.mp4: 384x640 1 Crack, 114.0ms\n",
      "video 19/19 (259/262) E:\\crack_detection_yolov8\\test\\images\\crack.mp4: 384x640 1 Crack, 100.3ms\n",
      "video 19/19 (260/262) E:\\crack_detection_yolov8\\test\\images\\crack.mp4: 384x640 1 Crack, 108.2ms\n",
      "video 19/19 (261/262) E:\\crack_detection_yolov8\\test\\images\\crack.mp4: 384x640 1 Crack, 131.2ms\n",
      "video 19/19 (262/262) E:\\crack_detection_yolov8\\test\\images\\crack.mp4: 384x640 1 Crack, 101.2ms\n",
      "Speed: 3.0ms preprocess, 103.1ms inference, 0.9ms postprocess per image at shape (1, 3, 384, 640)\n",
      "Results saved to \u001b[1mruns\\detect\\predict\u001b[0m\n",
      "ðŸ’¡ Learn more at https://docs.ultralytics.com/modes/predict\n"
     ]
    }
   ],
   "source": [
    "!yolo task=detect mode=predict model=E:/crack_detection_yolov8/runs/detect/train/weights/best.pt conf=0.25 source=E:/crack_detection_yolov8/test/images"
   ]
  },
  {
   "cell_type": "code",
   "execution_count": null,
   "id": "48003b8b-50d9-403b-b856-6bb24bc3bf65",
   "metadata": {},
   "outputs": [],
   "source": [
    "!yolo task=detect model=predict model=E:/crack_detection_yolov8/runs/detect/train/weights/best.pt source=E:/crack_detection_yolov8/test/crack.mp4"
   ]
  },
  {
   "cell_type": "code",
   "execution_count": null,
   "id": "bfefd590-cdcc-4a3d-8dd4-0e39d254ccf4",
   "metadata": {},
   "outputs": [],
   "source": [
    "#!pip install ultralytics --force-reinstall"
   ]
  }
 ],
 "metadata": {
  "kernelspec": {
   "display_name": "crack",
   "language": "python",
   "name": "crack"
  },
  "language_info": {
   "codemirror_mode": {
    "name": "ipython",
    "version": 3
   },
   "file_extension": ".py",
   "mimetype": "text/x-python",
   "name": "python",
   "nbconvert_exporter": "python",
   "pygments_lexer": "ipython3",
   "version": "3.11.4"
  }
 },
 "nbformat": 4,
 "nbformat_minor": 5
}
